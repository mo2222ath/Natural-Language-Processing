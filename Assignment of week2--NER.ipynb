{
  "nbformat": 4,
  "nbformat_minor": 0,
  "metadata": {
    "kernelspec": {
      "display_name": "Python 3",
      "language": "python",
      "name": "python3"
    },
    "language_info": {
      "codemirror_mode": {
        "name": "ipython",
        "version": 3
      },
      "file_extension": ".py",
      "mimetype": "text/x-python",
      "name": "python",
      "nbconvert_exporter": "python",
      "pygments_lexer": "ipython3",
      "version": "3.4.3"
    },
    "colab": {
      "name": "week2-NER.ipynb",
      "provenance": []
    },
    "widgets": {
      "application/vnd.jupyter.widget-state+json": {
        "a714b5f7ef114751931492b4cdde5ec2": {
          "model_module": "@jupyter-widgets/controls",
          "model_name": "HBoxModel",
          "state": {
            "_view_name": "HBoxView",
            "_dom_classes": [],
            "_model_name": "HBoxModel",
            "_view_module": "@jupyter-widgets/controls",
            "_model_module_version": "1.5.0",
            "_view_count": null,
            "_view_module_version": "1.5.0",
            "box_style": "",
            "layout": "IPY_MODEL_2ee4c177edc5478980e37428c80fc827",
            "_model_module": "@jupyter-widgets/controls",
            "children": [
              "IPY_MODEL_216dd262152d44599e379be797818bfe",
              "IPY_MODEL_803c260fa78d44daa50a23bf51108cdd"
            ]
          }
        },
        "2ee4c177edc5478980e37428c80fc827": {
          "model_module": "@jupyter-widgets/base",
          "model_name": "LayoutModel",
          "state": {
            "_view_name": "LayoutView",
            "grid_template_rows": null,
            "right": null,
            "justify_content": null,
            "_view_module": "@jupyter-widgets/base",
            "overflow": null,
            "_model_module_version": "1.2.0",
            "_view_count": null,
            "flex_flow": null,
            "width": null,
            "min_width": null,
            "border": null,
            "align_items": null,
            "bottom": null,
            "_model_module": "@jupyter-widgets/base",
            "top": null,
            "grid_column": null,
            "overflow_y": null,
            "overflow_x": null,
            "grid_auto_flow": null,
            "grid_area": null,
            "grid_template_columns": null,
            "flex": null,
            "_model_name": "LayoutModel",
            "justify_items": null,
            "grid_row": null,
            "max_height": null,
            "align_content": null,
            "visibility": null,
            "align_self": null,
            "height": null,
            "min_height": null,
            "padding": null,
            "grid_auto_rows": null,
            "grid_gap": null,
            "max_width": null,
            "order": null,
            "_view_module_version": "1.2.0",
            "grid_template_areas": null,
            "object_position": null,
            "object_fit": null,
            "grid_auto_columns": null,
            "margin": null,
            "display": null,
            "left": null
          }
        },
        "216dd262152d44599e379be797818bfe": {
          "model_module": "@jupyter-widgets/controls",
          "model_name": "FloatProgressModel",
          "state": {
            "_view_name": "ProgressView",
            "style": "IPY_MODEL_ca83dfffdf51434bb01e3f24a944ee1a",
            "_dom_classes": [],
            "description": "train.txt: 100%",
            "_model_name": "FloatProgressModel",
            "bar_style": "success",
            "max": 849548,
            "_view_module": "@jupyter-widgets/controls",
            "_model_module_version": "1.5.0",
            "value": 849548,
            "_view_count": null,
            "_view_module_version": "1.5.0",
            "orientation": "horizontal",
            "min": 0,
            "description_tooltip": null,
            "_model_module": "@jupyter-widgets/controls",
            "layout": "IPY_MODEL_d6d51090ace0455a8edb7d41bd6ed26f"
          }
        },
        "803c260fa78d44daa50a23bf51108cdd": {
          "model_module": "@jupyter-widgets/controls",
          "model_name": "HTMLModel",
          "state": {
            "_view_name": "HTMLView",
            "style": "IPY_MODEL_c9f70ddcb4df4a85a3dd95ffd7df982c",
            "_dom_classes": [],
            "description": "",
            "_model_name": "HTMLModel",
            "placeholder": "​",
            "_view_module": "@jupyter-widgets/controls",
            "_model_module_version": "1.5.0",
            "value": " 850k/850k [00:00&lt;00:00, 1.02MB/s]",
            "_view_count": null,
            "_view_module_version": "1.5.0",
            "description_tooltip": null,
            "_model_module": "@jupyter-widgets/controls",
            "layout": "IPY_MODEL_8f2581125a39451581f762811807dddd"
          }
        },
        "ca83dfffdf51434bb01e3f24a944ee1a": {
          "model_module": "@jupyter-widgets/controls",
          "model_name": "ProgressStyleModel",
          "state": {
            "_view_name": "StyleView",
            "_model_name": "ProgressStyleModel",
            "description_width": "initial",
            "_view_module": "@jupyter-widgets/base",
            "_model_module_version": "1.5.0",
            "_view_count": null,
            "_view_module_version": "1.2.0",
            "bar_color": null,
            "_model_module": "@jupyter-widgets/controls"
          }
        },
        "d6d51090ace0455a8edb7d41bd6ed26f": {
          "model_module": "@jupyter-widgets/base",
          "model_name": "LayoutModel",
          "state": {
            "_view_name": "LayoutView",
            "grid_template_rows": null,
            "right": null,
            "justify_content": null,
            "_view_module": "@jupyter-widgets/base",
            "overflow": null,
            "_model_module_version": "1.2.0",
            "_view_count": null,
            "flex_flow": null,
            "width": null,
            "min_width": null,
            "border": null,
            "align_items": null,
            "bottom": null,
            "_model_module": "@jupyter-widgets/base",
            "top": null,
            "grid_column": null,
            "overflow_y": null,
            "overflow_x": null,
            "grid_auto_flow": null,
            "grid_area": null,
            "grid_template_columns": null,
            "flex": null,
            "_model_name": "LayoutModel",
            "justify_items": null,
            "grid_row": null,
            "max_height": null,
            "align_content": null,
            "visibility": null,
            "align_self": null,
            "height": null,
            "min_height": null,
            "padding": null,
            "grid_auto_rows": null,
            "grid_gap": null,
            "max_width": null,
            "order": null,
            "_view_module_version": "1.2.0",
            "grid_template_areas": null,
            "object_position": null,
            "object_fit": null,
            "grid_auto_columns": null,
            "margin": null,
            "display": null,
            "left": null
          }
        },
        "c9f70ddcb4df4a85a3dd95ffd7df982c": {
          "model_module": "@jupyter-widgets/controls",
          "model_name": "DescriptionStyleModel",
          "state": {
            "_view_name": "StyleView",
            "_model_name": "DescriptionStyleModel",
            "description_width": "",
            "_view_module": "@jupyter-widgets/base",
            "_model_module_version": "1.5.0",
            "_view_count": null,
            "_view_module_version": "1.2.0",
            "_model_module": "@jupyter-widgets/controls"
          }
        },
        "8f2581125a39451581f762811807dddd": {
          "model_module": "@jupyter-widgets/base",
          "model_name": "LayoutModel",
          "state": {
            "_view_name": "LayoutView",
            "grid_template_rows": null,
            "right": null,
            "justify_content": null,
            "_view_module": "@jupyter-widgets/base",
            "overflow": null,
            "_model_module_version": "1.2.0",
            "_view_count": null,
            "flex_flow": null,
            "width": null,
            "min_width": null,
            "border": null,
            "align_items": null,
            "bottom": null,
            "_model_module": "@jupyter-widgets/base",
            "top": null,
            "grid_column": null,
            "overflow_y": null,
            "overflow_x": null,
            "grid_auto_flow": null,
            "grid_area": null,
            "grid_template_columns": null,
            "flex": null,
            "_model_name": "LayoutModel",
            "justify_items": null,
            "grid_row": null,
            "max_height": null,
            "align_content": null,
            "visibility": null,
            "align_self": null,
            "height": null,
            "min_height": null,
            "padding": null,
            "grid_auto_rows": null,
            "grid_gap": null,
            "max_width": null,
            "order": null,
            "_view_module_version": "1.2.0",
            "grid_template_areas": null,
            "object_position": null,
            "object_fit": null,
            "grid_auto_columns": null,
            "margin": null,
            "display": null,
            "left": null
          }
        },
        "63ccf42d24e04daeb2a9640ae5b7471d": {
          "model_module": "@jupyter-widgets/controls",
          "model_name": "HBoxModel",
          "state": {
            "_view_name": "HBoxView",
            "_dom_classes": [],
            "_model_name": "HBoxModel",
            "_view_module": "@jupyter-widgets/controls",
            "_model_module_version": "1.5.0",
            "_view_count": null,
            "_view_module_version": "1.5.0",
            "box_style": "",
            "layout": "IPY_MODEL_ab3f4e0f45584998b8252d9954509441",
            "_model_module": "@jupyter-widgets/controls",
            "children": [
              "IPY_MODEL_03feb19e2c9c451fad2215a87eae5c2c",
              "IPY_MODEL_f737c8949bce4045a835bcf0ab28a430"
            ]
          }
        },
        "ab3f4e0f45584998b8252d9954509441": {
          "model_module": "@jupyter-widgets/base",
          "model_name": "LayoutModel",
          "state": {
            "_view_name": "LayoutView",
            "grid_template_rows": null,
            "right": null,
            "justify_content": null,
            "_view_module": "@jupyter-widgets/base",
            "overflow": null,
            "_model_module_version": "1.2.0",
            "_view_count": null,
            "flex_flow": null,
            "width": null,
            "min_width": null,
            "border": null,
            "align_items": null,
            "bottom": null,
            "_model_module": "@jupyter-widgets/base",
            "top": null,
            "grid_column": null,
            "overflow_y": null,
            "overflow_x": null,
            "grid_auto_flow": null,
            "grid_area": null,
            "grid_template_columns": null,
            "flex": null,
            "_model_name": "LayoutModel",
            "justify_items": null,
            "grid_row": null,
            "max_height": null,
            "align_content": null,
            "visibility": null,
            "align_self": null,
            "height": null,
            "min_height": null,
            "padding": null,
            "grid_auto_rows": null,
            "grid_gap": null,
            "max_width": null,
            "order": null,
            "_view_module_version": "1.2.0",
            "grid_template_areas": null,
            "object_position": null,
            "object_fit": null,
            "grid_auto_columns": null,
            "margin": null,
            "display": null,
            "left": null
          }
        },
        "03feb19e2c9c451fad2215a87eae5c2c": {
          "model_module": "@jupyter-widgets/controls",
          "model_name": "FloatProgressModel",
          "state": {
            "_view_name": "ProgressView",
            "style": "IPY_MODEL_6a502e08667a4343ad75a51be10b1330",
            "_dom_classes": [],
            "description": "validation.txt: 100%",
            "_model_name": "FloatProgressModel",
            "bar_style": "success",
            "max": 103771,
            "_view_module": "@jupyter-widgets/controls",
            "_model_module_version": "1.5.0",
            "value": 103771,
            "_view_count": null,
            "_view_module_version": "1.5.0",
            "orientation": "horizontal",
            "min": 0,
            "description_tooltip": null,
            "_model_module": "@jupyter-widgets/controls",
            "layout": "IPY_MODEL_69db2ed27e144501a8209e6a56891ad4"
          }
        },
        "f737c8949bce4045a835bcf0ab28a430": {
          "model_module": "@jupyter-widgets/controls",
          "model_name": "HTMLModel",
          "state": {
            "_view_name": "HTMLView",
            "style": "IPY_MODEL_6968a941258a46caac06e89b5ab7dbf0",
            "_dom_classes": [],
            "description": "",
            "_model_name": "HTMLModel",
            "placeholder": "​",
            "_view_module": "@jupyter-widgets/controls",
            "_model_module_version": "1.5.0",
            "value": " 104k/104k [00:00&lt;00:00, 232kB/s]",
            "_view_count": null,
            "_view_module_version": "1.5.0",
            "description_tooltip": null,
            "_model_module": "@jupyter-widgets/controls",
            "layout": "IPY_MODEL_37fc77dabc734c409aba08a56762b14f"
          }
        },
        "6a502e08667a4343ad75a51be10b1330": {
          "model_module": "@jupyter-widgets/controls",
          "model_name": "ProgressStyleModel",
          "state": {
            "_view_name": "StyleView",
            "_model_name": "ProgressStyleModel",
            "description_width": "initial",
            "_view_module": "@jupyter-widgets/base",
            "_model_module_version": "1.5.0",
            "_view_count": null,
            "_view_module_version": "1.2.0",
            "bar_color": null,
            "_model_module": "@jupyter-widgets/controls"
          }
        },
        "69db2ed27e144501a8209e6a56891ad4": {
          "model_module": "@jupyter-widgets/base",
          "model_name": "LayoutModel",
          "state": {
            "_view_name": "LayoutView",
            "grid_template_rows": null,
            "right": null,
            "justify_content": null,
            "_view_module": "@jupyter-widgets/base",
            "overflow": null,
            "_model_module_version": "1.2.0",
            "_view_count": null,
            "flex_flow": null,
            "width": null,
            "min_width": null,
            "border": null,
            "align_items": null,
            "bottom": null,
            "_model_module": "@jupyter-widgets/base",
            "top": null,
            "grid_column": null,
            "overflow_y": null,
            "overflow_x": null,
            "grid_auto_flow": null,
            "grid_area": null,
            "grid_template_columns": null,
            "flex": null,
            "_model_name": "LayoutModel",
            "justify_items": null,
            "grid_row": null,
            "max_height": null,
            "align_content": null,
            "visibility": null,
            "align_self": null,
            "height": null,
            "min_height": null,
            "padding": null,
            "grid_auto_rows": null,
            "grid_gap": null,
            "max_width": null,
            "order": null,
            "_view_module_version": "1.2.0",
            "grid_template_areas": null,
            "object_position": null,
            "object_fit": null,
            "grid_auto_columns": null,
            "margin": null,
            "display": null,
            "left": null
          }
        },
        "6968a941258a46caac06e89b5ab7dbf0": {
          "model_module": "@jupyter-widgets/controls",
          "model_name": "DescriptionStyleModel",
          "state": {
            "_view_name": "StyleView",
            "_model_name": "DescriptionStyleModel",
            "description_width": "",
            "_view_module": "@jupyter-widgets/base",
            "_model_module_version": "1.5.0",
            "_view_count": null,
            "_view_module_version": "1.2.0",
            "_model_module": "@jupyter-widgets/controls"
          }
        },
        "37fc77dabc734c409aba08a56762b14f": {
          "model_module": "@jupyter-widgets/base",
          "model_name": "LayoutModel",
          "state": {
            "_view_name": "LayoutView",
            "grid_template_rows": null,
            "right": null,
            "justify_content": null,
            "_view_module": "@jupyter-widgets/base",
            "overflow": null,
            "_model_module_version": "1.2.0",
            "_view_count": null,
            "flex_flow": null,
            "width": null,
            "min_width": null,
            "border": null,
            "align_items": null,
            "bottom": null,
            "_model_module": "@jupyter-widgets/base",
            "top": null,
            "grid_column": null,
            "overflow_y": null,
            "overflow_x": null,
            "grid_auto_flow": null,
            "grid_area": null,
            "grid_template_columns": null,
            "flex": null,
            "_model_name": "LayoutModel",
            "justify_items": null,
            "grid_row": null,
            "max_height": null,
            "align_content": null,
            "visibility": null,
            "align_self": null,
            "height": null,
            "min_height": null,
            "padding": null,
            "grid_auto_rows": null,
            "grid_gap": null,
            "max_width": null,
            "order": null,
            "_view_module_version": "1.2.0",
            "grid_template_areas": null,
            "object_position": null,
            "object_fit": null,
            "grid_auto_columns": null,
            "margin": null,
            "display": null,
            "left": null
          }
        },
        "0c72136f669a4902bf2bb50a9be632e8": {
          "model_module": "@jupyter-widgets/controls",
          "model_name": "HBoxModel",
          "state": {
            "_view_name": "HBoxView",
            "_dom_classes": [],
            "_model_name": "HBoxModel",
            "_view_module": "@jupyter-widgets/controls",
            "_model_module_version": "1.5.0",
            "_view_count": null,
            "_view_module_version": "1.5.0",
            "box_style": "",
            "layout": "IPY_MODEL_a0ed511f9cf94d46aae2566ab18f1d79",
            "_model_module": "@jupyter-widgets/controls",
            "children": [
              "IPY_MODEL_1aca72c63fcb4874bec9b3a9b51d5102",
              "IPY_MODEL_94d83da337d14849949799973d8e52a3"
            ]
          }
        },
        "a0ed511f9cf94d46aae2566ab18f1d79": {
          "model_module": "@jupyter-widgets/base",
          "model_name": "LayoutModel",
          "state": {
            "_view_name": "LayoutView",
            "grid_template_rows": null,
            "right": null,
            "justify_content": null,
            "_view_module": "@jupyter-widgets/base",
            "overflow": null,
            "_model_module_version": "1.2.0",
            "_view_count": null,
            "flex_flow": null,
            "width": null,
            "min_width": null,
            "border": null,
            "align_items": null,
            "bottom": null,
            "_model_module": "@jupyter-widgets/base",
            "top": null,
            "grid_column": null,
            "overflow_y": null,
            "overflow_x": null,
            "grid_auto_flow": null,
            "grid_area": null,
            "grid_template_columns": null,
            "flex": null,
            "_model_name": "LayoutModel",
            "justify_items": null,
            "grid_row": null,
            "max_height": null,
            "align_content": null,
            "visibility": null,
            "align_self": null,
            "height": null,
            "min_height": null,
            "padding": null,
            "grid_auto_rows": null,
            "grid_gap": null,
            "max_width": null,
            "order": null,
            "_view_module_version": "1.2.0",
            "grid_template_areas": null,
            "object_position": null,
            "object_fit": null,
            "grid_auto_columns": null,
            "margin": null,
            "display": null,
            "left": null
          }
        },
        "1aca72c63fcb4874bec9b3a9b51d5102": {
          "model_module": "@jupyter-widgets/controls",
          "model_name": "FloatProgressModel",
          "state": {
            "_view_name": "ProgressView",
            "style": "IPY_MODEL_93e806feefb74f7b8dd380e4af0428a8",
            "_dom_classes": [],
            "description": "test.txt: 100%",
            "_model_name": "FloatProgressModel",
            "bar_style": "success",
            "max": 106837,
            "_view_module": "@jupyter-widgets/controls",
            "_model_module_version": "1.5.0",
            "value": 106837,
            "_view_count": null,
            "_view_module_version": "1.5.0",
            "orientation": "horizontal",
            "min": 0,
            "description_tooltip": null,
            "_model_module": "@jupyter-widgets/controls",
            "layout": "IPY_MODEL_12120526255c4d04a17fdb671cea155c"
          }
        },
        "94d83da337d14849949799973d8e52a3": {
          "model_module": "@jupyter-widgets/controls",
          "model_name": "HTMLModel",
          "state": {
            "_view_name": "HTMLView",
            "style": "IPY_MODEL_1740b79eec9c4f0884620d479c92645e",
            "_dom_classes": [],
            "description": "",
            "_model_name": "HTMLModel",
            "placeholder": "​",
            "_view_module": "@jupyter-widgets/controls",
            "_model_module_version": "1.5.0",
            "value": " 107k/107k [00:00&lt;00:00, 1.70MB/s]",
            "_view_count": null,
            "_view_module_version": "1.5.0",
            "description_tooltip": null,
            "_model_module": "@jupyter-widgets/controls",
            "layout": "IPY_MODEL_87b367ccfb4749e295d39fdeaf170070"
          }
        },
        "93e806feefb74f7b8dd380e4af0428a8": {
          "model_module": "@jupyter-widgets/controls",
          "model_name": "ProgressStyleModel",
          "state": {
            "_view_name": "StyleView",
            "_model_name": "ProgressStyleModel",
            "description_width": "initial",
            "_view_module": "@jupyter-widgets/base",
            "_model_module_version": "1.5.0",
            "_view_count": null,
            "_view_module_version": "1.2.0",
            "bar_color": null,
            "_model_module": "@jupyter-widgets/controls"
          }
        },
        "12120526255c4d04a17fdb671cea155c": {
          "model_module": "@jupyter-widgets/base",
          "model_name": "LayoutModel",
          "state": {
            "_view_name": "LayoutView",
            "grid_template_rows": null,
            "right": null,
            "justify_content": null,
            "_view_module": "@jupyter-widgets/base",
            "overflow": null,
            "_model_module_version": "1.2.0",
            "_view_count": null,
            "flex_flow": null,
            "width": null,
            "min_width": null,
            "border": null,
            "align_items": null,
            "bottom": null,
            "_model_module": "@jupyter-widgets/base",
            "top": null,
            "grid_column": null,
            "overflow_y": null,
            "overflow_x": null,
            "grid_auto_flow": null,
            "grid_area": null,
            "grid_template_columns": null,
            "flex": null,
            "_model_name": "LayoutModel",
            "justify_items": null,
            "grid_row": null,
            "max_height": null,
            "align_content": null,
            "visibility": null,
            "align_self": null,
            "height": null,
            "min_height": null,
            "padding": null,
            "grid_auto_rows": null,
            "grid_gap": null,
            "max_width": null,
            "order": null,
            "_view_module_version": "1.2.0",
            "grid_template_areas": null,
            "object_position": null,
            "object_fit": null,
            "grid_auto_columns": null,
            "margin": null,
            "display": null,
            "left": null
          }
        },
        "1740b79eec9c4f0884620d479c92645e": {
          "model_module": "@jupyter-widgets/controls",
          "model_name": "DescriptionStyleModel",
          "state": {
            "_view_name": "StyleView",
            "_model_name": "DescriptionStyleModel",
            "description_width": "",
            "_view_module": "@jupyter-widgets/base",
            "_model_module_version": "1.5.0",
            "_view_count": null,
            "_view_module_version": "1.2.0",
            "_model_module": "@jupyter-widgets/controls"
          }
        },
        "87b367ccfb4749e295d39fdeaf170070": {
          "model_module": "@jupyter-widgets/base",
          "model_name": "LayoutModel",
          "state": {
            "_view_name": "LayoutView",
            "grid_template_rows": null,
            "right": null,
            "justify_content": null,
            "_view_module": "@jupyter-widgets/base",
            "overflow": null,
            "_model_module_version": "1.2.0",
            "_view_count": null,
            "flex_flow": null,
            "width": null,
            "min_width": null,
            "border": null,
            "align_items": null,
            "bottom": null,
            "_model_module": "@jupyter-widgets/base",
            "top": null,
            "grid_column": null,
            "overflow_y": null,
            "overflow_x": null,
            "grid_auto_flow": null,
            "grid_area": null,
            "grid_template_columns": null,
            "flex": null,
            "_model_name": "LayoutModel",
            "justify_items": null,
            "grid_row": null,
            "max_height": null,
            "align_content": null,
            "visibility": null,
            "align_self": null,
            "height": null,
            "min_height": null,
            "padding": null,
            "grid_auto_rows": null,
            "grid_gap": null,
            "max_width": null,
            "order": null,
            "_view_module_version": "1.2.0",
            "grid_template_areas": null,
            "object_position": null,
            "object_fit": null,
            "grid_auto_columns": null,
            "margin": null,
            "display": null,
            "left": null
          }
        }
      }
    }
  },
  "cells": [
    {
      "cell_type": "markdown",
      "metadata": {
        "collapsed": true,
        "id": "LL6jI4su76_y",
        "colab_type": "text"
      },
      "source": [
        "*italicized text*# Recognize named entities on Twitter with LSTMs\n",
        "\n",
        "In this assignment, you will use a recurrent neural network to solve Named Entity Recognition (NER) problem. NER is a common task in natural language processing systems. It serves for extraction such entities from the text as persons, organizations, locations, etc. In this task you will experiment to recognize named entities from Twitter.\n",
        "\n",
        "For example, we want to extract persons' and organizations' names from the text. Than for the input text:\n",
        "\n",
        "    Ian Goodfellow works for Google Brain\n",
        "\n",
        "a NER model needs to provide the following sequence of tags:\n",
        "\n",
        "    B-PER I-PER    O     O   B-ORG  I-ORG\n",
        "\n",
        "Where *B-* and *I-* prefixes stand for the beginning and inside of the entity, while *O* stands for out of tag or no tag. Markup with the prefix scheme is called *BIO markup*. This markup is introduced for distinguishing of consequent entities with similar types.\n",
        "\n",
        "A solution of the task will be based on neural networks, particularly, on Bi-Directional Long Short-Term Memory Networks (Bi-LSTMs).\n",
        "\n",
        "### Libraries\n",
        "\n",
        "For this task you will need the following libraries:\n",
        " - [Tensorflow](https://www.tensorflow.org) — an open-source software library for Machine Intelligence.\n",
        " \n",
        "In this assignment, we use Tensorflow 1.15.0. You can install it with pip:\n",
        "\n",
        "    !pip install tensorflow==1.15.0\n",
        "     \n",
        " - [Numpy](http://www.numpy.org) — a package for scientific computing.\n",
        " \n",
        "If you have never worked with Tensorflow, you would probably need to read some tutorials during your work on this assignment, e.g. [this one](https://www.tensorflow.org/tutorials/recurrent) could be a good starting point. "
      ]
    },
    {
      "cell_type": "markdown",
      "metadata": {
        "id": "l3dIRugF76_3",
        "colab_type": "text"
      },
      "source": [
        "### Data\n",
        "\n",
        "The following cell will download all data required for this assignment into the folder `week2/data`."
      ]
    },
    {
      "cell_type": "code",
      "metadata": {
        "id": "aZpIi_uH76_4",
        "colab_type": "code",
        "colab": {
          "base_uri": "https://localhost:8080/",
          "height": 351,
          "referenced_widgets": [
            "a714b5f7ef114751931492b4cdde5ec2",
            "2ee4c177edc5478980e37428c80fc827",
            "216dd262152d44599e379be797818bfe",
            "803c260fa78d44daa50a23bf51108cdd",
            "ca83dfffdf51434bb01e3f24a944ee1a",
            "d6d51090ace0455a8edb7d41bd6ed26f",
            "c9f70ddcb4df4a85a3dd95ffd7df982c",
            "8f2581125a39451581f762811807dddd",
            "63ccf42d24e04daeb2a9640ae5b7471d",
            "ab3f4e0f45584998b8252d9954509441",
            "03feb19e2c9c451fad2215a87eae5c2c",
            "f737c8949bce4045a835bcf0ab28a430",
            "6a502e08667a4343ad75a51be10b1330",
            "69db2ed27e144501a8209e6a56891ad4",
            "6968a941258a46caac06e89b5ab7dbf0",
            "37fc77dabc734c409aba08a56762b14f",
            "0c72136f669a4902bf2bb50a9be632e8",
            "a0ed511f9cf94d46aae2566ab18f1d79",
            "1aca72c63fcb4874bec9b3a9b51d5102",
            "94d83da337d14849949799973d8e52a3",
            "93e806feefb74f7b8dd380e4af0428a8",
            "12120526255c4d04a17fdb671cea155c",
            "1740b79eec9c4f0884620d479c92645e",
            "87b367ccfb4749e295d39fdeaf170070"
          ]
        },
        "outputId": "8d153895-e583-4bb4-e933-97026cecddf6"
      },
      "source": [
        "try:\n",
        "    import google.colab\n",
        "    IN_COLAB = True\n",
        "except:\n",
        "    IN_COLAB = False\n",
        "\n",
        "if IN_COLAB:\n",
        "    ! wget https://raw.githubusercontent.com/hse-aml/natural-language-processing/master/setup_google_colab.py -O setup_google_colab.py\n",
        "    import setup_google_colab\n",
        "    setup_google_colab.setup_week2()\n",
        "\n",
        "import sys\n",
        "sys.path.append(\"..\")\n",
        "from common.download_utils import download_week2_resources\n",
        "\n",
        "download_week2_resources()"
      ],
      "execution_count": null,
      "outputs": [
        {
          "output_type": "stream",
          "text": [
            "--2020-09-20 07:28:08--  https://raw.githubusercontent.com/hse-aml/natural-language-processing/master/setup_google_colab.py\n",
            "Resolving raw.githubusercontent.com (raw.githubusercontent.com)... 151.101.0.133, 151.101.64.133, 151.101.128.133, ...\n",
            "Connecting to raw.githubusercontent.com (raw.githubusercontent.com)|151.101.0.133|:443... connected.\n",
            "HTTP request sent, awaiting response... 200 OK\n",
            "Length: 1939 (1.9K) [text/plain]\n",
            "Saving to: ‘setup_google_colab.py’\n",
            "\n",
            "\rsetup_google_colab.   0%[                    ]       0  --.-KB/s               \rsetup_google_colab. 100%[===================>]   1.89K  --.-KB/s    in 0s      \n",
            "\n",
            "2020-09-20 07:28:08 (30.3 MB/s) - ‘setup_google_colab.py’ saved [1939/1939]\n",
            "\n"
          ],
          "name": "stdout"
        },
        {
          "output_type": "display_data",
          "data": {
            "application/vnd.jupyter.widget-view+json": {
              "model_id": "a714b5f7ef114751931492b4cdde5ec2",
              "version_minor": 0,
              "version_major": 2
            },
            "text/plain": [
              "HBox(children=(FloatProgress(value=0.0, max=849548.0), HTML(value='')))"
            ]
          },
          "metadata": {
            "tags": []
          }
        },
        {
          "output_type": "stream",
          "text": [
            "\n"
          ],
          "name": "stdout"
        },
        {
          "output_type": "display_data",
          "data": {
            "application/vnd.jupyter.widget-view+json": {
              "model_id": "63ccf42d24e04daeb2a9640ae5b7471d",
              "version_minor": 0,
              "version_major": 2
            },
            "text/plain": [
              "HBox(children=(FloatProgress(value=0.0, max=103771.0), HTML(value='')))"
            ]
          },
          "metadata": {
            "tags": []
          }
        },
        {
          "output_type": "stream",
          "text": [
            "\n"
          ],
          "name": "stdout"
        },
        {
          "output_type": "display_data",
          "data": {
            "application/vnd.jupyter.widget-view+json": {
              "model_id": "0c72136f669a4902bf2bb50a9be632e8",
              "version_minor": 0,
              "version_major": 2
            },
            "text/plain": [
              "HBox(children=(FloatProgress(value=0.0, max=106837.0), HTML(value='')))"
            ]
          },
          "metadata": {
            "tags": []
          }
        },
        {
          "output_type": "stream",
          "text": [
            "\n"
          ],
          "name": "stdout"
        }
      ]
    },
    {
      "cell_type": "markdown",
      "metadata": {
        "id": "KivxeKkx76_9",
        "colab_type": "text"
      },
      "source": [
        "### Load the Twitter Named Entity Recognition corpus\n",
        "\n",
        "We will work with a corpus, which contains tweets with NE tags. Every line of a file contains a pair of a token (word/punctuation symbol) and a tag, separated by a whitespace. Different tweets are separated by an empty line.\n",
        "\n",
        "The function *read_data* reads a corpus from the *file_path* and returns two lists: one with tokens and one with the corresponding tags. You need to complete this function by adding a code, which will replace a user's nickname to `<USR>` token and any URL to `<URL>` token. You could think that a URL and a nickname are just strings which start with *http://* or *https://* in case of URLs and a *@* symbol for nicknames."
      ]
    },
    {
      "cell_type": "code",
      "metadata": {
        "id": "3WSHEcQf76_-",
        "colab_type": "code",
        "colab": {}
      },
      "source": [
        "def read_data(file_path):\n",
        "    tokens = []\n",
        "    tags = []\n",
        "    \n",
        "    tweet_tokens = []\n",
        "    tweet_tags = []\n",
        "    for line in open(file_path, encoding='utf-8'):\n",
        "        line = line.strip()\n",
        "        if not line:\n",
        "            if tweet_tokens:\n",
        "                tokens.append(tweet_tokens)\n",
        "                tags.append(tweet_tags)\n",
        "            tweet_tokens = []\n",
        "            tweet_tags = []\n",
        "        else:\n",
        "            token, tag = line.split()\n",
        "            # Replace all urls with <URL> token\n",
        "            # Replace all users with <USR> token\n",
        "\n",
        "            if(token[0] == '@'):\n",
        "              token = '<USR>'\n",
        "            if(token[:7] == 'http://' or token[:8] == 'https://'):\n",
        "              token = '<URL>'\n",
        "            \n",
        "            tweet_tokens.append(token)\n",
        "            tweet_tags.append(tag)\n",
        "            \n",
        "    return tokens, tags"
      ],
      "execution_count": null,
      "outputs": []
    },
    {
      "cell_type": "markdown",
      "metadata": {
        "id": "AJIoRPeH77AC",
        "colab_type": "text"
      },
      "source": [
        "And now we can load three separate parts of the dataset:\n",
        " - *train* data for training the model;\n",
        " - *validation* data for evaluation and hyperparameters tuning;\n",
        " - *test* data for final evaluation of the model."
      ]
    },
    {
      "cell_type": "code",
      "metadata": {
        "id": "GTd8pubT77AD",
        "colab_type": "code",
        "colab": {
          "base_uri": "https://localhost:8080/",
          "height": 54
        },
        "outputId": "6d3d9a75-5257-49cd-b0cd-7e45fa99dea3"
      },
      "source": [
        "train_tokens, train_tags = read_data('data/train.txt')\n",
        "validation_tokens, validation_tags = read_data('data/validation.txt')\n",
        "print(validation_tokens)\n",
        "test_tokens, test_tags = read_data('data/test.txt')"
      ],
      "execution_count": null,
      "outputs": [
        {
          "output_type": "stream",
          "text": [
            "[['Dylan', 'refuses', 'to', 'take', 'a', 'nap', 'and', 'he', 'was', 'up', 'before', '7am', ',', 'now', 'he', 'will', 'crash', 'late', 'and', 'stay', 'up', 'half', 'the', 'night'], ['RT', '<USR>', ':', 'We', 'got', 'it', 'in', 'today', 'buddy', '.', 'Good', 'times', '.', 'Sunday', 'hoops', '<USR>', '<URL>'], ['Going', 'on', 'a', '&amp;#39', ';d', 'ate&amp;#39', ';', 'with', 'Whitney', 'tonight', ',', ':P', '.', 'Haha', '.'], ['Report', 'of', '1', 'suspect', 'down', 'and', '5', 'victims', 'at', '#SantaMonica', 'College', '.', 'Still', 'very', 'active', '.', '#shooting', '#SMC'], ['Someone', 'may', 'ask', 'you', 'to', 'participate', 'in', 'a', 'community', 'event', 'or', 'to', '...', 'More', 'for', 'Scorpio', '<URL>'], ['RT', '<USR>', ':', 'HAVE', 'A', 'GOOD', 'DAY', 'REMEMBER', 'ITS', 'FRIDAY'], ['RT', '<USR>', ':', '<URL>', 'You', 'may', 'say', 'that', \"I'm\", 'a', 'dreamer', 'But', \"I'm\", 'not', 'the', 'only', 'one', 'I', 'hope', 'someday', \"you'll\", 'join', '(', 'cont', ')', 'http', '...'], ['RT', '<USR>', ':', 'He', 'who', '.', 'can', 'suppress', 'a', 'moment', \"'s\", 'anger', ',', 'may', 'prevent', 'many', 'days', \"'\", 'sorrow', '.', 'Chinese', 'Proverbs'], ['Book', 'it', '.', 'Done', '.', '<URL>'], ['<USR>', 'It', \"'s\", 'in', 'my', 'tweets', 'a', 'year', 'ago', \"I'll\", 'pull', 'up', 'the', 'story', 'later', 'on', '.', 'Just', 'hope', 'the', 'film', 'helps', 'Shange', 'sell', 'more', 'books', '.'], ['RT', '<USR>', ':', '3', 'JUNE', ',', '2015', 'LEEDS', ',', 'UK', 'FIRST', 'DIRECT', 'ARENA'], ['Dollar', 'steady', 'versus', 'yen', 'but', 'market', 'wary', 'of', 'intervention', '|', 'Money', '...:', 'The', 'dollar', 'held', 'near', 'its', 'highest', 'in', 'a', 'month', '...', '<URL>'], ['RT', '<USR>', ':', 'Bibby', 'dropped', ',', 'Fab', 'dropped', ',', 'Drakes', 'album', 'coming', 'soon', 'but', 'where', 'frank', 'ocean', 'at', '?', \"We're\", 'about', '5', 'months', 'into', 'June'], ['<USR>', 'Hari', 'ini', 'hari', 'Rabu', ',', 'Tanggal', '15', 'Bulan', 'April', 'Tahun', '2015', 'Jam', '04:46', ':', '01'], ['RT', '<USR>', ':', 'My', '#TeenChoice', 'for', '#ChoiceSummerTVStarMale', 'is', '<USR>', 'because', 'he', \"'s\", 'amazing', '!!', \"Can't\", 'wait', 'till', 'August', '31', '!'], ['May', 'pag-asa', 'pa', 'ba', '?', 'Kung', 'susuko', 'na', 'langggg', '.', '#McDoBonFriesDLSU'], ['Beddy', 'bye', 'for', 'sleepy', 'time', 'xx'], ['Under', 'a', 'forsaken', 'sun'], ['RT', '<USR>', ':', 'The', 'difference', 'from', 'May', 'to', 'December', '<URL>'], ['FAUTASI', 'RACE', 'IS', 'POSTPONED', 'AGAIN', 'UNTIL', 'FUTHUR', 'NOTICE', '!!', 'So', 'no', 'race', 'tomorrow', '!!!'], ['RT', '<USR>', ':', 'sittin', 'in', 'class', 'tomorrow', 'like', '<URL>'], ['no', 'matter', 'how', 'long', \"I'll\", 'wait'], ['RT', '<USR>', ':', 'gotta', 'also', 'call', 'the', 'Realtor', 'monday', 'and', 'see', 'about', 'any', 'new', 'listings', 'in', 'the', 'area', 'we', 'are', 'trying', 'to', 'move', 'to'], ['<USR>', 'daru', 'KO', 'goli', 'maro', 'sali', 'KO', 'jla', 'dalo', 'love', 'to', 'see', 'MSG13', 'feb'], ['RT', '<USR>', ':', 'Official', 'Hashtag', 'for', 'November', '29', ':', '<URL>'], ['Thank', 'FUCK', 'for', 'Helen', 'Mirren', '<URL>'], ['Delivery', 'Service', 'is', 'cancelled', '3/5', '.', 'Cheryl', 'is', 'working', 'to', 'coordinate', 'delivery', 'for', 'Saturday', ',', '3/7', '&amp;', 'is', 'avail', '.', 'by', 'email', '.', 'The', 'office', 'is', 'closed', '.'], ['<USR>', 'wat', 'u', 'up', 'to', 'tonite', '.', 'My', 'mob', \"won't\", 'let', 'me', 'txt', 'fs', '.', 'Xxx'], ['On', 'Thanksgiving', 'after', 'you', 'done', 'eating', 'its', '#TimeToGetOut', 'unless', 'you', 'wanna', 'help', 'with', 'the', 'dishes'], ['He', 'should', 'SO', 'be', 'on', 'the', '<USR>', 'Oor', 'Roddy', '.', '<URL>'], ['<USR>', 'Nov', '.', 'Not', 'that', 'cold', 'yet', '.'], ['Cardiff', 'handed', 'transfer', 'embargo', ':', 'Cardiff', 'City', 'are', 'placed', 'under', 'a', 'transfer', 'embargo', 'for', 'breach', 'of', 'financial', 'fair', '...', '<URL>'], ['Snapchat', 'fixes', \"'\", 'Find', 'Friends', \"'\", 'feature', ',', 'developers', 'finally', 'apologise', 'for', 'breach', '-', 'NDTV', 'Gadgets', '<URL>', 'via', 'Gadget'], ['RT', '<USR>', ':', 'eNCA', 'is', 'showing', \"'\", 'Miners', 'Shotdown', \"'\", 'on', 'Sunday', 'at', '19h00', '.'], ['<USR>', 'bukan', 'dia', 'takleh', 'shine', 'without', 'sun', 'ke', '?'], ['about', 'to', 'get', 'dress', 'hangin', 'wit', 'the', 'big', 'sis', 'Abby', 'tonite'], ['The', '7th', 'Annual', 'Src', 'Week', 'Celebration', 'starts', 'tomorrow', '..', 'tell', 'a', 'friend', 'to', 'tell', 'a', 'firend', '.', '<URL>'], ['RT', '<USR>', ':', 'SO', 'WHEN', 'I', 'GET', 'ON', '106', 'N', 'JOKE', 'AROUND', 'YALL', 'TALK', 'ABOUT', 'ME', 'LIKE', 'A', 'DOG', 'SHAWTY', 'BUT', 'WHEN', 'I', 'BUY', '30,000', 'WORTH', 'SCHOOL', 'SUPPLY', 'N', '...'], ['<USR>', 'Statewide', 'College', 'Christmas', 'Party', 'Fri', 'Dec', '18th', 'hosted', 'by', '<USR>', '<USR>', 'The', 'White', 'House', '<URL>'], ['<USR>', 'Hari', 'ini', 'hari', 'Minggu', ',', 'Tanggal', '27', 'Bulan', 'September', 'Tahun', '2015', 'Jam', '03:09', ':', '08'], ['Fourteen', 'chapters', 'in', '.', 'January', \"'s\", 'not', 'even', 'over', 'yet', '.', '#conquering', '#amwriting', '#nostopping', '#readit'], ['News', 'You', \"Can't\", 'Use', ':', 'March', '4', ',', '2015', '<URL>'], ['You', 'brighten', 'up', 'my', 'day', 'when', 'the', 'sun', \"don't\", 'shine'], ['It', \"'s\", '#Monday', '-', 'what', 'is', 'your', '#MondayMotivation', '?'], ['La', 'gente', 'toda', 'entusiasmada', 'con', 'la', 'AUTOPISTA', 'DEL', 'MAR', ',', 'pero', 'bien', 'que', 'podia', 'ser', 'AUTOVIA', '!', 'Con', 'tantos', 'peajes', 'nos', 'acribillan', '!', ':-)'], ['<URL>', 'May', '19', ',', '2015', 'at', '12:11', 'PM'], ['RT', '<USR>', ':', 'Last', 'day', '.....', '<URL>'], ['RT', '<USR>', ':', 'That', 'crap', 'I', 'watched', 'on', 'Saturday', \"didn't\", 'cut', 'it'], ['Yes', 'sir', ',', '<USR>', 'is', 'on', 'a', 'customer', 'service', 'roll', 'today', '.', 'Good', 'man', 'that', 'Josh', '.'], ['<USR>', 'Yeah', ',', 'ever', 'since', 'Eddie', 'saw', 'Barry', \"'s\", 'quick', 'reflexes', 'when', 'he', 'was', 'healing', 'in', 'the', 'hospital', 'I', 'thought', 'he', 'may', 'realize', 'he', \"'s\", 'The', 'Flash', '.'], ['<USR>', 'THAT', 'is', 'exactly', 'how', 'I', 'am', 'feelin', '!', 'Just', 'under', '1', 'hour', '2', 'go', '&amp;', 'still', 'unsure', '.', 'Havent', 'slept', 'in', 'days', 'thinkin', 'about', 'wat', 'I', 'wd', 'wear', 'and', 'say', '!'], ['Nog', 'maar', 'een', 'mooi', 'spiegeltje', 'in', 'de', 'nazomer', 'of', 'vroege', 'herfst', '.', '23', 'september', '#weerfoto2015', '#Wolvega', '<URL>'], [\"I've\", 'seen', 'the', 'full', 'lifespan', 'of', 'Benjamin', 'Button', 'in', 'the', 'time', 'it', 'took', 'to', 'go', 'from', 'the', '1st', 'to', '15th', 'inning', '.', '#NYYvsBOS', '#BadExtraInningJokes'], ['Snapchat', 'Data', 'Breach', 'Exposes', 'Millions', 'of', 'Names', ',', 'Phone', 'Numbers', '-', 'Digits', '<URL>'], ['Data', 'Breach', 'at', '<URL>', 'Affects', '93,000', 'Customers', '#WebHosting', '<URL>'], ['Enter', '#indiebob', \"'s\", 'amazing', 'PC', 'game', '#giveaway', '&amp;', 'watch', '<URL>', 'Sat-Thu', '4-8pm', 'UK', ',', '5-9pm', 'CET', ',', '11-3pm', 'EST', '!'], ['RT', '<USR>', ':', 'Last', 'official', 'round', 'of', 'the', 'year', 'today', 'for', 'anchoring', '.', \"Can't\", 'wait', 'to', 'see', 'who', 'does', 'what', 'come', 'January', '1st', '.', '#putterwatch2016'], ['Text', \"'\", 'L', 'A', 'C', 'U', 'R', 'A', \"'\", 'to', '33733', 'to', 'get', 'on', 'my', 'guestlist', 'to', 'see', 'Young', 'Dro', 'Friday', 'at', '#ClubLacura', '<URL>'], ['RT', '<USR>', ':', 'do', 'I', 'want', 'to', 'wake', 'up', 'for', 'school', 'tomorrow', '?', '<URL>'], ['<USR>', 'When', 'r', 'u', 'gona', 'realise', 'we', 'dont', 'want', 'u', 'on', 'our', 'tvs', '??', 'To', 'prove', 'my', 'point', 'enter', 'ur', 'name', 'into', 'search', '..', 'Uve', 'had', 'ur', '15mins', '!'], ['RT', '<USR>', ':', 'Louis', \"'\", 'interview', 'with', 'The', 'Sun', 'about', 'his', 'own', 'record', 'label', '\"', '78', 'Productions', 'Limited', '\"', '#ProudOfLouis', '<URL>'], ['Forecast', 'for', 'Friday', 'Night', '<URL>', '#Weather', '#Boston'], ['Oh', 'yeah', '!', 'Probably', 'hairdresser', 'tomorrow', ',', 'and', 'for', 'sure', 'meet', 'Levin', ',', 'Hien', '&lt;', '3', 'and', 'Fabi', '.', \"'ll\", 'have', 'a', 'great', 'daaaaay', '&lt;', '33'], ['Im', 'doing', 'incline', 'sprints', 'all', 'day', 'so', 'i', 'can', 'eat', 'all', 'i', 'want', 'tomorrow'], ['Yung', 'tipong', 'hirap', 'na', 'hirap', 'na', 'nga', 'ko', 'paniwalain', 'mga', 'nasa', 'panaginip', 'ko', 'na', 'may', 'nakita', 'akk', 'tas', 'ngayon', 'maloloka', 'nko', 'pag', 'gising', 'ko'], ['Shabana', '&amp;', 'Daughter', 'Interview', 'at', '5th', 'Annual', 'Mijwan', 'Fashion', 'Show', 'By', 'Manish', 'Malhotra', '<URL>'], ['<USR>', 'T.T', 'Ainda', 'vou', 'fazer', 'o', 'Caroleta', \"'s\", 'Day', '[', '?', ']'], ['_9ems', '<URL>', 'December', '25', ',', '2015', 'at', '05:50', 'PM'], ['Tonight', 'is', 'going', 'to', 'be', 'romantic'], ['RT', '<USR>', ':', 'Mon', '\"', 'Je', 'vais', 'bien', '\"', 'cache', 'une', 'tres', 'grande', 'tristesse', 'au', 'fond'], ['1', 'MO', 'DAY', 'TO', 'GO', '------', '&gt;', '<URL>'], ['Comment', 'of', 'the', 'Day', ':', 'The', 'Depths', 'of', 'Poverty', '[', 'We', 'Read', 'You]', ':'], [\"You've\", 'likely', 'seen', 'the', '#TalkTalk', 'web', 'security', 'breach', '.', 'This', 'is', 'exactly', 'why', 'we', 'put', 'this', 'free', 'guide', 'together', ':', '<URL>', '…'], ['<USR>', 'wanna', 'go', 'to', 'Liffey', 'valley', 'tomorrow', '?', ':)', '&lt;', '3'], ['Jessica', 'Simpson', 'is', 'PREGNANT', '!?!:', 'Jessica', 'Simpson', 'is', 'pregnant', '??', 'Simpson', 'is', 'pregnant', 'with', 'her', 'barely', '4-month', 'boyfrien', '...', '<URL>'], ['<USR>', 'coming', 'to', 'see', 'a', 'show', 'on', 'Friday', 'but', 'will', 'have', 'a', 'hand', 'luggage', 'size', 'suitcase', '-', 'is', 'there', 'somewhere', 'I', 'can', 'leave', 'this/is', 'it', 'free', '?'], ['Dada', '5000', 'fighting', 'kimbo', 'in', 'February'], ['<USR>', 'I', 'will', 'let', 'you', 'know', 'when', 'you', 'can', 'take', 'another', 'visit', ';', 'today', 'was', 'a', 'little', 'quiet', '.'], ['About', 'online', 'dietician', ':', 'A', 'thinner', 'stool', 'than', 'usual', 'can', 'be', 'identified', 'and', 'removed', 'before', 'they', 'get', 'are', '2', 'weeks', 'ago', 'J', '...', '<URL>'], ['RT', '<USR>', ':', 'BISH', 'IM', 'NOT', 'BOUT', 'TO', 'PLAY', '.!!!!', 'You', 'betta', 'wait', 'til', 'after', 'September', '.!', 'Lol', '.', '<URL>'], ['RT', '<USR>', ':', 'The', '#FOURVinyl', 'is', 'available', 'on', 'the', '15th', 'Dec', '!', 'Pre-order', 'now', ':', '<URL>', '<URL>'], ['China', 'fines', 'Microsoft', 'for', 'breach', 'of', 'rules', 'with', 'Xbox', 'division', '|', 'N4G', '<URL>', '…'], ['beauty', '<URL>'], ['The', 'New', 'York', 'Times', '<USR>', ':', 'Barefoot', 'running', 'may', 'be', 'harder', 'for', 'those', 'over', 'age', '30', 'nyti', '.', 'ms', '...', '<URL>', '#NewYorkTimes'], ['It', \"'s\", 'just', 'Thursday', '<URL>'], ['RT', '<USR>', 'RT', '<USR>', 'wonder', 'when', '<USR>', 'is', 'gon', 'lt', 'me', 'put', 'the', '8====', '=D', 'on', 'her', '?', '&lt;', 'lmfao', 'wooooooow', '(', 'nini', 'knws', 'wsup', 'ha', 'u', 'next', 'lol', ')'], ['Classic', 'Crossword', '-', '22nd', 'Sept', '2015', '<URL>'], ['Je', 'perds', 'mon', 'pari', 'avec', 'ce', 'nul', \"d'Angers\"], ['Jaguar', ':', 'XK8', 'XK8', '1997', 'jaguar', 'xk', '8', 'no', 'reserve', ':', '$', '6,995', '.', '00', '(', '0', 'Bids)End', 'Date', ':', 'Sunday', 'Nov-29-2015', '19:10', ':', '52', 'PSTBid', '...', '<URL>'], ['<USR>', 'good', 'morning', '!', 'And', 'hope', 'today', 'you', 'will', 'enjoy', 'your', 'day~', ':D'], ['RT', '<USR>', ':', 'LOVE', 'may', 'not', 'happen', 'in', 'the', 'way', 'you', 'WANT', ',', 'but', 'it', 'could', 'happen', 'in', 'the', 'way', 'you', 'NEED', '.'], ['Come', 'check', 'us', 'out', ',', '10', 'pm', 'June', '19th', '<USR>', '408', 'E', '.', '6th', 'st', '.', '<USR>', '<USR>', '<USR>', '#Juneteenth', '<URL>'], ['<USR>', 'do', 'we', 'have', 'to', 'have', 'an', 'hour', 'of', 'membean', 'done', 'by', 'tonight', 'or', 'tomorrow', '??'], ['Only', 'a', 'few', 'short', 'weeks', 'until', 'the', 'Great', 'Pumpkin', 'rises', '!', 'Maybe', 'he', 'will', 'bring', 'me', 'an', 'iPad', '!', '<URL>'], ['RT', '<USR>', ':', 'Kwiruka', 'left', 'her', 'group', 'several', 'times', 'after', 'death', 'of', 'infant-unknown', 'causes-late', 'July', ';', 'last', 'seen', 'alive', 'Aug', '24', '.'], ['No', 'hypervisor', 'vulnerability', 'exploited', 'in', 'OpenSSL', 'site', 'breach', '<URL>', 'via', 'admin'], ['CBS', 'IN', 'ATLANTA', 'REPORTING', ':', 'CBS', 'News', 'that', 'the', 'shooting', 'suspect', '[', 'who', 'murdered', 'four', 'Marines', ']', 'was', 'identified', 'as', 'Muhammad', 'Youssef', 'Abdulazeez', '.\"'], ['<USR>', 'it', \"'s\", 'not', 'supposed', 'to', 'rain', 'till', 'Sunday', 'night', '.'], ['<USR>', 'Hey', 'hun', '...', 'We', 'are', 'all', 'here', 'tonight', '.', 'lol', '.', 'Friday', '.', 'oh', 'yeah', '...', 'lol'], ['According', 'to', 'the', 'media', 'only', '3', 'dead', 'people', 'and', '20', 'wounded', 'people', 'found', 'on', 'the', 'San', 'Bernardino', 'shooting', '.'], ['BOB', 'HOPE', 'AIRPORT', '(', 'BURBANK', ')', 'CA', 'May', '18', 'Climate', 'Report', ':', 'High', ':', '70', 'Low', ':', '59', 'Precip', ':', '0.0', 'Snow', ':', '0.0', '<URL>', '#WX'], ['I', 'get', 'paid', 'tomorrow', 'PARTY', 'AT', 'GOODWILL'], ['$$', '#forex', '#fx', ':', 'Forex', 'Articles', 'for', 'the', 'Weekend', 'September', '18lo', '<URL>'], ['<USR>', '<URL>', 'December', '13', ',', '2014', 'at', '02:18', 'AM', 'Ver', '.', 'kvx7'], ['AND', 'EVERYTHING', 'YOU', 'STAND', 'FOR', ',', 'TURNS', 'ON', 'YOU', 'TO', 'SPITE', 'YOU', '?', 'WHAT', 'HAPPENS', 'WHEN', 'YOU', 'BECOME', 'THE', 'MAIN', 'SOURCE', 'OF', 'HER', 'PAIN', '?'], ['Reality', 'may', 'kick', 'up', 'a', 'dust', 'storm', 'today', ',', 'especially', 'if', \"you're\", 'h', '...', 'More', 'for', 'Aquarius', '<URL>'], ['<USR>', 'bet', 'the', 'vino', 'tastes', 'especially', 'good', 'this', 'week', '.', ';-)'], ['Mohammad', 'Amir', 'has', 'been', 'granted', 'a', 'visa', 'by', 'Immigration', 'New', 'Zealand', '(', 'INZ', ')', 'on', 'Thursday', 'and', 'will', 'travel', 'with', 'Pakistan', 'side', 'for', 'the', 'tour', 'of', 'NZ', '.\"'], ['Someone', 'may', 'perform', 'such', 'a', 'convincing', 'dog', 'and', 'pony', 'show', 'today', '...', 'More', 'for', 'Aries', '<URL>'], ['Pre', 'order', 'the', 'album', '#NotAnApology', 'by', '<USR>', 'on', 'iTunes', '!', 'Its', 'out', 'tomorrow', '&amp;', \"you'll\", 'definitely', 'not', 'regret', 'it', '!', '<URL>', 'x56'], ['Praying', 'for', 'Fort', 'Hood', '!', '#shooting'], ['You', 'may', 'be', 'right', ',', 'I', 'may', 'be', 'crazy', 'but', 'it', 'just', 'may', 'be', 'a', 'lunatic', \"you're\", 'looking', 'for', '.'], ['RT', '<USR>', ':', 'Happy', 'Friday', 'the', '13th', '!', 'RT', 'this', 'and', 'follow', 'us', 'to', 'win', 'a', 'free', 'block', 'before', 'Monday', '!', '#HorrorBlock', '#Horror', '<URL>'], ['RT', '<USR>', ':', 'A', 'guy', '&amp;', 'girl', 'can', 'be', 'friends', '.', 'But', 'sooner', 'or', 'later', ',', 'one', 'will', 'fall', 'for', 'the', 'other', '.', 'Maybe', 'too', 'early', ',', 'maybe', 'too', 'LATE', 'or', 'may', '...'], ['hmm', ',', 'I', 'always', 'get', 'a', 'bit', 'scared', 'when', 'I', 'update', 'my', 'Blackberry', '....'], ['Canny', 'wait', 'to', 'work', '12-7', 'tomorrow', ',', 'I', \"don't\", 'even', 'like', 'Xmas', 'anyway', '.....'], ['#MarysvilleShooting', '<URL>', '…'], ['RT', '<USR>', ':', 'End', 'of', 'the', '3rd', ':', 'Cowboys', '28', ',', 'Eagles', '24', '<URL>', '<URL>'], ['<USR>', 'Regarde', 'mon', 'Rt'], ['LADY', 'GAGA', 'IS', 'BETTER', 'THE', '5th', 'TIME', 'OH', 'BABY(', ':'], ['#SouthKorea', ':', 'Q', '&amp;', 'S', '&amp;', 'S', 'I', 'Tech', ':', '#Merger', '#Acquisition', 'Analysts', 'say', ':', 'beneficial', 'Apr', '2015', 'growth', '&amp;', 'profits', '.', '<URL>'], ['<URL>', 'August', '21', ',', '2015', 'at', '02:36', 'AM'], ['3rd', 'summer', 'in', 'a', 'row', 'that', 'I', 'have', 'to', 'go', 'to', 'the', 'hospital', 'smh'], ['Taken', 'the', 'Fuck', 'it', \"I'll\", 'leave', 'it', 'till', 'Monday', 'approach', 'with', 'most', 'of', 'my', 'work', 'today', ',', 'get', 'me', 'out', 'of', 'here', '!'], ['RT', '<USR>', ':', 'Roll', 'Up', 'the', 'Rim', 'is', 'back', 'at', 'Timmies', 'February', '2nd', 'RT', 'to', 'save', 'a', 'life'], ['Pink', '5', 'may', 'be', 'a', 'bit', 'of', 'a', 'squeeze', ',', 'but', 'it', \"'s\", 'been', 'free', 'for', 'the', 'last', '490', 'minutes', 'and', 'it', \"'s\", 'not', 'booked', 'until', '06:00', '-', '12:44'], ['RT', '<USR>', ':', 'Commemorating', 'Oct', '13', 'in', 'Baabda', '<URL>'], ['RT', '<USR>', ':', 'Were', 'trending', \"'\", 'Hope', 'For', 'Bamon', \"'\", 'on', 'March', '5th', 'at', '5PM', 'EST', '#Bamon#TVD', 'Please', \"don't\", 'forget*wink*', '<URL>'], ['<USR>', 'Its', 'still', 'in', 'my', 'cart', 'so', 'Ill', 'wrap', 'it', 'up', 'tomorrow', 'asap'], ['Wendy', \"'s\", 'looks', 'into', 'claims', 'of', 'a', 'credit', 'card', 'data', 'breach', '<URL>', 'by', '#NextDoorNerd'], ['Time', 'magazine', 'wrote', 'an', 'article', 'saying', 'the', 'rumor', 'touch', 'is', 'for', 'fags'], ['<USR>', '<URL>', 'December', '25', ',', '2014', 'at', '02:44', 'PM', 'Ver', '.', 'kvx7'], ['Your', 'tweet', 'has', 'won', 'the', 'March', '-Twitter-', 'lotto', 'for', 'Swansea', '.', '<USR>', 'get', 'your', 'prize', 'here', '<USR>'], ['Darien', 'lake', 'tomorrow'], ['Bat', 'ba', 'lahat', 'ng', 'bagay', 'may', 'kapalit', '?'], ['Yay', ',', 'there', \"'s\", 'finally', 'a', 'gas', 'station', 'on', 'Green', 'Valley', 'Pkwy', '.', '<USR>', 'has', 'a', 'map', 'and', 'everything', '<URL>', '<USR>'], ['Dear', 'sun', ',', 'it', \"'s\", 'approaching', 'the', 'end', 'of', 'September', 'and', 'seriously', ',', \"you're\", 'still', 'unbearable', '.', 'Give', 'Arizona', 'a', 'break', '.', 'Love', ',', 'Mackenna'], ['Catch', 'up', 'on', 'the', 'social', 'headlines', ':', 'Polar', 'Vortex', ',', 'Clickable', 'Paper', ',', 'Snapchat', 'Breach', '&', 'more', 'from', '<USR>', '-', '<URL>'], ['RT', '<USR>', ':', 'Thanks', 'so', 'much', ',', 'that', 'was', 'my', 'goal', '<URL>'], ['RT', '<USR>', ':', 'After', 'May', '(', 'billboards', 'probs', ')', 'is', 'when', 'ash', 'started', 'getting', 'stressed', \"I'm\", ':/', '<URL>'], ['Wendy', \"'s\", 'looks', 'into', 'claims', 'of', 'a', 'credit', 'card', 'data', 'breach', ':', 'If', 'you', 'grabbed', 'a', 'bite', 'to', 'eat', 'at', 'a', 'Wendy', \"'s\", '(', 'you', 'know', ',', 't', '...', '<URL>'], ['RT', '<USR>', ':', '150610', '#MarkBam', '#MarkTuan', '#BamBam', '#GOT7', '1st', 'Fan', 'Meeting', 'in', 'Osaka', ',', 'Japan', '<URL>'], ['RT', '<USR>', ':', '1st', 'teaser', ':', '122K', 'views', '2nd', 'teaser', ':', '46k', 'views', '#OTWOL3rdTeaser'], ['RT', '<USR>', ':', 'even', 'the', 'darkest', 'night', 'will', 'end', 'and', 'the', 'sun', 'will', 'rise'], ['Oh', 'goodness', ',', 'not', 'again', '!', '>', \"'\", 'Active', 'Shooter', \"'\", 'at', 'Fort', 'Hood', ';', 'Multiple', 'Injuries', 'Reported', '<URL>', '…', 'via', '<USR>'], ['<USR>', '<USR>', 'Whatsap', \"c'est\", 'mon', 'dernier', 'mot'], ['Chia', 'Pets', 'are', 'only', 'sold', 'in', 'December', '.'], ['Pass', 'complete', 'to', 'Day', ',', '3rd', 'and', '4'], ['RT', '<USR>', ':', 'Less', 'than', '25', 'followers', 'to', 'go', '!', 'Let', \"'s\", 'reach', '11,000', 'before', 'the', 'weekend', '!', ':)', '<URL>', '#sweepstakes'], ['RT', '<USR>', ':', 'Kesian', 'mon'], ['It', \"'s\", 'hard', 'for', 'me', 'to', 'sign', 'up', 'and', 'say', 'thanks', 'to', 'twitter', 'support', 'team', 'for', 'help', ':)', 'Luckily', ',', 'I', 'can', 'publish', 'my', '1st', 'tweet', 'in', 'the', 'end', 'of', 'year', '2014', '.'], ['The', 'babe', \"'s\", 'first', 'day', 'of', 'co-op', 'preschool', '.', '<URL>'], [\"'Do\", 'it', 'footsoldiers', '!', 'RT', '<USR>', ':', 'And', 'speaking', 'of', 'rule', '#2', 'tonite', '\"', 'running', 'wit', 'mjd', '\"', 'will', 'be', 'on', 'live', 'from', '7-', '9pm', 'eastern', 'sirius', '211', '.', 'Xm', \"147'\"], ['Made', 'it', 'home', '.', 'How', 'long', 'will', 'I', 'last', 'before', 'I', 'fall', 'asleep', '?'], ['Wat', 'a', 'day', 'today', '.', 'But', 'oh', 'well', 'i', 'love', 'her', '*Danielle', 'ily*'], ['RT', '<USR>', ':', '#BottleRock2015', 'will', 'blend', 'worlds', 'of', 'food', 'and', 'music', 'on', 'the', 'Williams-Sonoma', 'culinary', 'stage', 'in', 'May', ':', '<URL>'], ['forget', 'homework', ',', 'kick', 'off', 'your', 'weekend', 'the', 'right', 'way', 'with', 'The', 'Weekend', 'Grind', 'from', '8-10pm', 'tonight', '!'], ['<USR>', 'When', 'you', 'smile', 'I', 'smile', '...', 'seriously', 'I', 'do', '!!!!'], ['RT', '<USR>', ':', 'Money', 'May', 'clear', 'winner', 'so', 'far', '.', 'Paq', 'is', 'fighting', 'holograms'], ['Hindi', 'parin', 'nagsisink', 'In', 'sakin', 'na', 'may', 'Pasok', 'na', 'Bukas', ':('], ['Financiele', 'agenda', 'Belgie', 'tot', 'en', 'met', '7', 'september', '<URL>'], ['You', 'may', 'hope', 'that', 'everything', 'will', 'calm', 'down', ',', 'but', 'you', 'probably', '...', 'More', 'for', 'Capricorn', '<URL>'], ['Analogy', 'time', '!', 'Loyola', 'Chicago', ':', 'Alexei', '::', 'Philadelphia', 'Eagles', ':', 'Donovan', 'McNabb', '(', 'even', 'b4', 'the', 'trade)', '.', '#nfl', '#fb'], ['RT', '<USR>', ':', '<USR>', 'I', 'did', ',', 'she', 'sat', 'behind', 'us', '.', 'Apparently', 'the', 'key', 'to', 'looking', 'that', 'good', 'at', '100', 'Is', 'no', 'husband', 'or', 'children', '!'], ['<USR>', 'have', 'a', 'fun', 'day', 'of', 'freedom'], ['<USR>', 'How', \"'s\", 'that', 'for', 'solar', 'power', '?', '<URL>'], ['<USR>', 'Oh', 'hi', ',', 'I', 'swear', 'I', 'can', 'scroll', 'down', 'past', 'actual', 'text', 'on', 'a', 'page', '.', \"I'll\", 'definitely', 'pick', 'that', 'up', 'this', 'next', 'week', '.', 'Thanks', '.', ':)'], ['Today', \"'s\", 'the', 'day', '<URL>'], ['RT', '<USR>', ':', 'May', 'nararamdaman', 'na', 'bang', 'kakaiba', 'si', 'Clark', '?', '#OTWOLHubbyWifey', '<URL>'], ['Prana', 'Recovery', \"'s\", '2nd', 'wellness', 'pillar', ':', 'The', 'Science', 'of', 'Happiness', '!', 'Want', 'Success', 'and', '<URL>', 'via', '<USR>'], ['Churches', 'may', 'be', 'in', 'decline', 'but', 'Gregorian', 'chant', 'beats', 'secular', 'competition', '<URL>', 'via', '<USR>', '-Featured', 'store', 'CD', 'this', 'week', '!'], ['<USR>', 'may', 'iba', 'na', 'syang', 'mahal', 'anak', '.', ':('], ['RT', '<USR>', ':', 'SO', 'WHEN', 'I', 'GET', 'ON', '106', 'N', 'JOKE', 'AROUND', 'YALL', 'TALK', 'ABOUT', 'ME', 'LIKE', 'A', 'DOG', 'SHAWTY', 'BUT', 'WHEN', 'I', 'BUY', '30,000', 'WORTH', 'SCHOOL', 'SUPPLY', 'N', '...'], ['RT', '<USR>', ':', 'VEGAS', 'Saturday', 'JULY', '4th', 'House', 'Party', '<USR>', '!', 'Buy', 'your', 'tix', 'here', '<URL>', '#draislive', '<URL>'], ['Winter', 'or', 'not', 'it', \"'s\", 'so', 'hard', 'to', 'wake', 'up', 'in', 'a', 'good', 'mood', 'when', 'the', 'sun', \"isn't\", 'shining', 'through', 'the', 'window'], ['RT', '<USR>', ':', 'Holy', 'shit', '!', 'I', 'was', 'not', 'prepared', 'for', 'that', '!', 'Thanks', 'for', 'all', 'the', 'support', 'today', 'guys', '!', 'Same', 'time', 'same', 'place', 'tomorrow', '!', '&lt;', '3'], ['RT', '<USR>', ':', 'May', 'pasalubong', 'si', 'Tisoy', '<USR>', 'sayo', 'meng', '<USR>', '!!', '#ALDUBWayBackHome', '<URL>', '\"'], ['Exhausted', 'after', 'a', 'surprisingly', 'busy', '(', 'and', 'boozy', 'day', ')', 'with', '<USR>', '<URL>', '<USR>', '<USR>', 'and', 'Wonder', 'Woman', '!'], ['Kung', 'maka', 'Hoy', 'naman', 'tong', 'kapatid', 'ko', '!', 'Sus', 'may', 'pangalan', 'ako', 'Koya', '!'], ['<USR>', 'mattoon', '?', 'Effingham', '?', 'Canada', '?', 'We', 'may', 'never', 'know'], ['John', 'Acuff', 'joined', '<USR>', 'team', '!', 'sweet', '!', 'I', 'hope', 'Dave', 'gives', 'him', 'his', 'own', 'show', 'one', 'day', ',', 'but', \"i'm\", 'excited', 'for', 'JA', 'and', 'wish', 'him', 'all', 'the', 'best'], ['<USR>', 'but', 'you', 'ARE', 'coming', 'tonight', ',', 'right', '?'], ['RT', '<USR>', ':', 'Here', \"'s\", 'our', 'winner', 'with', '<USR>', '-', 'everything', 'will', 'be', 'revealed', 'on', 'Monday', '.', 'Stay', 'tuned', '!', '<URL>'], ['About', 'online', 'dietician', ':', 'A', 'thinner', 'stool', 'than', 'usual', 'can', 'be', 'identified', 'and', 'removed', 'before', 'they', 'get', 'are', '2', 'weeks', 'ago', 'J', '...', '<URL>'], ['<USR>', 'hey', 'man', 'we', 'should', 'hang', 'out', 'some', 'time', 'soon', '!'], ['I', 'Hope', 'I', 'Can', 'Meet', 'The', 'BELLA', 'Twins', '!!!!', 'R', 'you', 'and', 'your', 'sister', 'going', 'to', 'Wwe', 'Live', 'on', 'June', '5', '???'], ['complete', 'kiddie', 'goodness', 'today', '.', 'first', 'a', 'kids', 'party', 'followed', 'by', 'a', 'night', 'at', 'the', 'circus', 'followed', 'by', 'another', 'kiddie', 'party', 'tomorrow', '.'], ['Coach', 'Germano', ',', 'Albin', ',', 'Haines', 'and', 'Burrow', 'each', 'had', 'home', 'damage', 'from', 'the', 'storm', 'yesterday', ',', 'according', 'to', '<USR>', '.'], ['NEW', 'ORLEANS', '!', '-', 'Tonight', '<USR>', 'at', 'Republic', '!'], ['Leo', 'March', '2015', 'Astrology', 'Forecast', '-', 'Barbara', 'Goldsmith', '<URL>', '#staged', '<URL>'], ['<USR>', '-', '.', '-)/', 'udah', 'gue', 'lupa', 'bahas', 'apaaan', '...', 'btw', 'malem', 'ye', '..', 'jan', 'mandi', 'juga', 'biar', 'ganteng', 'nya', 'ga', 'luntur'], ['<USR>', 'Kung', 'may', 'problema', 'ka', 'ngayon', ',', 'meron', 'din', 'ako', '.', 'Yung', 'pagmumura', 'mo', 'ang', 'isa', 'dun', '.'], ['Zendesk', 'Security', 'Breach', 'Affects', 'Twitter', ',', 'Tumblr', 'and', 'Pinterest', ':', '<URL>'], ['tos', 'Another', 'hour', '!', 'It', \"'s\", 'September', '01', ',', '2015', 'at', '12:04', 'PM'], ['Sunday', 'afternoon', 'naps', 'are', 'the', 'best', '.'], ['RT', '<USR>', ':', 'Sun', 'Saathiya', '-', 'Disney', \"'s\", 'ABCD', '2', '(', '2015', ')', 'requested', 'by', '<USR>', '<URL>'], ['<USR>', ':D', 'How', 'was', 'your', 'day', '?', ':)'], ['DTN', 'Libya', 'News', ':', 'Turkey', 'summons', 'Russia', 'envoy', 'over', \"'\", 'new', 'airspace', \"breach':\", 'Russian', 'SU-34', 'jet', 'reportedly', 'flew', 'into', '...', '<URL>'], ['RT', '<USR>', ':', 'Merry', 'Christmas', 'to', 'everyone', 'for', 'tomorrow', '.', 'Hope', 'it', \"'s\", 'a', 'lovely', 'one', 'well', 'spent', '.', 'Good', 'tidings', 'to', 'all', '.', 'H'], ['“@6abc', ':', 'Cameras', 'capture', 'shooting', 'in', 'broad', 'daylight', 'in', 'North', '.', 'Philadelphia', '<URL>', 'pic.twitter.com/rgd2ZKv5LC”look', 'like', 'a', 'ladder'], ['I', 'swear', \"I'm\", 'wasting', 'my', 'time', 'on', 'something', 'that', 'may', 'or', 'may', 'not', 'work'], ['2', 'years', '99', 'days', '3', 'hours', '36', 'minutes', 'and', '20', 'seconds', 'Until', 'Mayan', 'Doomsday', ',', 'DEC', '22', '2012', 'AD'], ['apparently', 'snow', \"isn't\", 'gunna', 'be', 'here', 'this', 'November)-', ':'], ['RT', '<USR>', ':', 'Make', 'it', 'a', 'December', 'to', 'remember', '.'], ['No', '.', 'The', 'Pope', 'asked', 'me', 'to', 'stay', 'after', 'class', '.', '#moviedialoguewithpopesubstitute'], ['<USR>', 'Pharmacy', 'out', 'of', '8', 'units', '.', 'I', 'could', 'have', '5', 'boxes', 'of', '4', \"'s\", 'or', 'come', 'back', 'tomorrow', '.', 'Was', 'a', 'walking', 'ad', 'for', '#afrezza', 'w/towering', 'armload'], ['There', 'is', 'still', 'time', 'to', 'grab', 'your', 'Cyber', 'Monday', 'ticket', 'deals', 'at', '<URL>', '!', '<URL>'], ['RT', '<USR>', ':', 'Impact', 'scale', 'for', 'the', 'blizzard', 'Monday', 'night', 'to', 'Tuesday', 'night', ':', 'severe', 'for', 'Boston', '.', '#WBZ', '<URL>'], ['Fellas', 'Do', \"n't\", 'just', 'lick', 'the', 'PussyY', ',', 'LOVE', 'IT', '!', 'enjoy', 'it', '.', 'like', 'u', 'just', 'got', 'married', '&lt;', 'the', 'preacher', 'said', 'u', 'may', 'kiss', 'the', 'bride'], ['<USR>', 'ooh', '!', 'as', 'long', 'as', 'food', 'was', 'had', 'to', 'celebrate', '.', 'you', 'HAVE', 'to', 'celebrate', 'all', 'occasions', 'with', 'good', 'food', '!'], ['<URL>'], ['#Job', '#KansasCity', 'Area', 'Sales', 'Director', '&amp;', 'Publisher', '(', '950)', ':', 'MO-Kansas', 'City', ',', 'Join', 'the', '17th', 'Fastest', 'Growing', 'Private', '...', '<URL>'], ['<USR>', '*friday'], ['January', 'has', 'came', 'and', 'gone', '....', 'Smh'], ['#RT', '#follow', 'me', 'and', 'I', 'will', '#followback', 'ASAP', '.', 'I', 'belong', 'to', '#teamfollowback', '#MGWV', '#teamswag', 'March', '06', ',', '2015', 'at', '02:50', 'AM'], ['Congrats', 'to', '<USR>', 'and', 'their', 'record', 'release', 'today', '!', 'Join', 'us', 'to', 'celebrate', 'with', 'them', 'at', '<USR>', 'Get', 'your', 'CD', '&amp;', 'tees', '8PM', 'today', '!'], ['New', 'tumblr', 'post', ':', '\"', 'September', '21', ',', '2015', 'at', '12:09', 'AM', 'eleanormarksprior', '\"', '<URL>', ',', 'eleanormarksprior'], ['<USR>', '<USR>', 'Ahhh', 'okay', '.', \"I've\", 'never', 'ordered', 'a', 'CD', 'before', 'so', 'I', 'have', 'NO', 'idea', '.', 'just', 'say', 'I', 'NEED', 'IT', 'TO', 'GET', 'THROUGH', 'THE', 'WEEKEND', '!!', 'xD'], ['<USR>', 'heeeeey', 'just', 'wanted', 'to', 'know', 'if', \"you're\", 'on', 'next', 'Saturday', '(', '28th', ')', '???', 'xxx'], ['Just', 'because', 'it', \"'s\", '#Monday', 'and', 'we', 'could', 'all', 'use', 'a', 'distraction', ',', 'pick', 'a', 'super', 'power', ':', '#flight', ',', '#invisibility', 'or', '#timetravel', '?'], ['<USR>', 'tru', 'tru', 'I', \"'m\", 'leavin', 'again', 'on', 'Tuesday', 'yo'], ['Another', 'random', 'shooting', '/', 'act', 'of', 'violence', '.', '#santamonica', 'tragic', 'and', 'senseless', '.', 'Assault', 'weapons', 'must', 'be', 'banned'], ['I', 'get', 'high', 'with', 'love', 'when', \"I'm\", 'helping', 'and', 'being', 'of', 'service', 'to', 'you', '.', 'Thank', 'you', 'for', 'allowing', '.'], ['Sleeping', 'later', 'and', 'later', 'everyday', ',', 'waking', 'up', 'earlier', 'and', 'earlier', 'day', 'by', 'day', '.', 'My', 'eyes', 'are', 'getting', 'smaller', 'and', 'smaller', '.'], ['\"', 'Car', 'chase', 'that', 'began', 'when', 'an', 'unknown', 'driver', 'tried', 'to', 'breach', 'a', 'White', 'House', 'security', 'barrier', 'ended', 'near', 'the', 'Capitol', '\"', '<URL>'], ['RT', '<USR>', ':', 'Well', 'peace', 'McDowell', 'it', \"'s\", 'been', 'real', ',', 'see', 'you', 'Saturday', 'bright', 'and', 'early', 'for', 'the', 'SATs'], ['RT', '<USR>', ':', 'Ngayon', 'ang', 'Daysary', 'o', 'Weeksary', 'ng', 'MONGGO', 'dahil', 'ito', 'ang', 'pinaka-ALDUB', 'ng', 'MONday', 'at', 'LiNGGO', '!', '#ALDUBComeWhatMay'], ['Watching', 'for', '#severewx', 'potential', 'on', 'Saturday', '.', '<URL>'], ['Driving', ',', 'driving', ',', 'driving', 'away', 'to', 'Phil', '.', 'Tasty', 'dinner', 'tonight', 'with', 'the', 'Society', 'of', 'Mining', 'and', 'Metallurgy', 'Engineers', '.'], ['Soo', 'Glad', 'its', 'Finally', 'Friday', '!', 'Thiss', 'week', 'went', 'to', 'slow', \"fo'me:/\"], ['<USR>', 'Lady', 'Saw', ',', 'QQ', ',', 'Kalado', '&amp;', 'MarvinDancer', 'live', '31st', 'July', '<URL>', '#summerjamuk', 'tickets', '&amp;', 'info', '07587408469'], ['<USR>', '<USR>', 'damn', 'im', 'closing', 'tomorrow', '!', 'i', 'get', 'off', 'at', '9', '.'], ['BBC', 'News', '-', 'Charleston', 'shooting', ':', \"'\", 'It', \"'s\", 'in', 'our', 'power', 'to', 'act', 'on', 'gun', 'crime', \"'\", 'says', 'Obama', '<URL>', '…', '.', 'Start', 'in', 'Chicago', ',', 'Detroit', '.'], ['RT', '<USR>', ':', 'Hey', ',', '<USR>', '...', 'See', 'you', 'in', 'January', '!!!', '<URL>'], ['Friday', 'night', 'with', 'the', 'Tyrone', 'lads', ',', 'yoga', 'for', 'performance', '.', 'Book', 'your', 'teams', '#functionalmobility', 'with', '<USR>', '<URL>'], ['RT', '<USR>', ':', 'Best', 'Tattoos', 'this', 'Week', '-', 'March', '31st', ',', '2015', '<URL>'], ['hai', '<USR>', 'sukses', 'ya', 'untuk', 'ngehostnya', 'today', 'di', 'inbox', ',', 'sy', 'gak', 'bisa', 'liat', 'nih', 'wajib', 'ngantor', '.'], ['<USR>', '^^', 'Man', ',', 'TNA', 'was', 'good', 'on', 'Friday', '.'], ['Totes', 'just', 'pissed', 'off', 'the', 'Vista', 'del', 'Lago', 'Eagles', ',', 'well', 'some', 'of', 'em', 'by', 'saying', '\"', 'Go', 'Lancers', '!!\"', 'teehee', '.', \"They're\", 'playing', 'each', 'other', 'tonite', '!', 'lol'], ['<USR>', 'report', '<USR>', 'with', '<USR>', 'on', 'thursday', ',', '22nd', ',', 'october', ',', '2015', '<URL>'], ['RT', '<USR>', ':', 'HOLD', \"'\", 'EM', '#SHUCKERS', '!', 'Biloxi', 'take', 'an', '9-0', 'lead', 'into', 'the', '9th', 'and', 'are', '3', 'outs', 'away', 'from', 'clinching', 'the', 'division', '!'], ['A', 'TRUE', 'friend', 'walks', 'in', 'when', 'everybody', 'else', 'walks', 'out', '!'], ['A', 'nigga', 'not', 'even', 'startin', 'tonight', ',', 'they', 'must', 'be', 'tryna', 'get', 'our', 'bakc', 'up', 'QB', 'hurt', '.', 'smdh'], ['<USR>', '<USR>', 'throw', 'in', 'your', '4th', 'and', \"you'll\", 'get', 'a', '2nd', 'round', 'pick', 'from', 'the', 'celtics', '.'], ['RT', '<USR>', ':', 'WISE', 'Wednesday', ':', 'If', 'we', 'did', 'the', 'things', 'we', 'are', 'capable', 'of', 'doing', ',', 'we', 'would', 'literally', 'astound', 'ourselves', '.', '~', 'Thomas', 'A', 'Edison'], [\"'Science\", 'and', 'the', 'media', ':', '11', '-', '17', 'September', ':', 'Under', 'the', 'headline', '\"', 'China', 'needs', 'to', 'elaborate', 'on', 'plans', 'to', 'modernize', 'its', 'f', '...', '<URL>'], ['\"', '<USR>', ':', '#Virgo', 'can', 'tell', 'a', 'real', 'person', 'from', 'a', 'fake', 'person', '.', 'But', ',', 'they', 'may', 'not', 'call', 'you', 'on', 'it', 'until', 'you', 'give', 'them', 'a', 'reason', 'to', 'do', 'so', '.\"'], ['1st', 'Binary', 'Option', 'Voting', '.', 'Choose', 'options', 'to', 'trade', 'and', 'win', 'Get', 'free', 'demo', 'account', 'on', 'LisFX', '.', 'See', 'details', ':', '<URL>'], ['#lindsaylohan', 'US', '-', 'Lindsay', 'Lohan', ':', 'Failed', 'Drug', 'Test', 'Report', 'Is', '&quot;', 'Nuts', '&quot;:', 'After', 'it', \"'s\", 'reported', 'that', 'she', 'flunked', 'a', 'drug', '...', '<URL>'], ['Things', 'to', 'do', 'friday', '_', 'news-journalonline', '.', 'com', ':', 'Go', 'see', 'a', 'musical', ',', 'enjoy', 'a', 'holiday', 'lighting', 'display', ',', 'wa', '...', '<URL>', '#charity'], ['<USR>', 'still', 'trying', 'to', 'warm', 'up', 'my', 'toes', 'are', 'cold', 'as', ':)', 'but', 'just', 'chillin', 'no', 'running', 'today', '.'], ['I', 'GET', 'TO', 'ACTUALLY', 'START', 'TRAINING', 'ON', 'MY', 'ACTUAL', 'JOB', 'TOMORROW', '?', 'YAAASSS'], ['RT', '<USR>', ':', 'More', 'photos', 'of', 'Justin', 'Bieber', 'with', 'fans', 'in', 'California', 'today', '.', '(', 'January', '11', ')', '<URL>'], ['Michael', 'Clifford', 'from', '<USR>', 'The', '29th', 'is', 'my', 'horse', 'show', '&amp;', 'Im', 'nervous', 'Can', 'I', 'have', 'your', 'follow', 'as', 'good', 'luck', '?', '#vote5sos', '#kca', '<USR>', 'x719'], ['This', 'San', 'Bernardino', 'shooting', 'is', 'so', 'devastating', '.', 'My', 'hearts', 'go', 'out', 'to', 'everyone', 'in', 'the', 'inland', 'empire'], ['<USR>', 'ew', 'suga', 'on', 'tea', '!', 'wen', 'i', 'was', 'yungr', 'nd', 'we', 'adta', 'giv', 'stuf', 'up', '4', 'lent', 'i', 'gav', 'up', 'suga', 'on', 'ma', 'tea', '...', 'afta', 'da', 'month', 'i', 'didnt', 'lyk', 'it', 'nymor', 'lol'], ['<USR>', 'Turn', 'your', 'phone', 'off', 'tomorrow', '!'], ['You', 'may', 'discover', 'a', 'few', 'new', 'interesting', 'things', 'to', 'do', 'with', 'your', '...', 'More', 'for', 'Capricorn', '<URL>'], ['//', 'Sorry', ',', \"won't\", 'be', 'on', 'this', 'account', 'till', 'tomorrow', ',', \"I'm\", 'so', 'done', 'with', 'people', 'at', 'the', 'minute'], ['ASOS', 'Crop', 'Top', 'In', 'Rib', 'With', 'V', 'Neck', 'And', 'Monday', 'Blues', '...', '<URL>', '#MusteredLady', '#StyleWeLike', '|', '#Scandal', '<URL>'], ['3:12', 'am', 'tweet', 'just', 'planned', 'the', 'day', 'after', 'reading', 'loads', 'of', 'NEWS', '...', 'tommorrow', 'is', 'a', 'big', 'day', 'wipro', \"'s\", 'interview', 'checking', 'my', 'pronunciation', '..!'], ['Film', 'Friday', '(', '12/12)', ':', 'This', 'Week', \"'s\", 'New', 'Movies', '&amp;', 'Trailers', ':', 'Find', 'a', 'guide', 'to', 'this', 'weekend', \"'s\", 'new', 'theatrical', 'releases', '...', '<URL>'], ['volunteering', 'for', 'the', 'Rotary', 'Club', 'at', 'the', 'PoMo', 'Terry', 'Fox', 'run', '.', 'Should', 'be', 'an', 'excellent', 'time', ':', 'come', 'down', 'and', 'check', 'it', 'out', 'on', 'Sunday', 'am', '!'], ['Jesus', 'was', 'God', 'Himself', 'making', 'one', 'LAST', 'effort', 'to', 'save', 'mankind', '.', 'Unfortunately', ',', 'many', 'have', 'rejected', 'that', 'message', '.', '<URL>'], ['RT', '<USR>', ':', '\"', 'A', 'woman', 'smiling', 'is', 'like', 'the', 'sun', '.', 'She', \"doesn't\", 'shine', 'for', 'you', '.\"', '-', 'maza', 'dohta'], ['RT', '<USR>', ':', 'Daytime', \"'s\", 'oldest', 'soap', 'went', 'off', 'the', 'air', 'today', 'after', '54', 'years', ',', 'so', 'the', 'WORLD', 'stopped', 'turning', 'for', '3', 'million', 'viewers', '.', 'Sh', '...'], ['Vodafone', 'hit', 'by', 'data', 'breach', '<URL>'], ['RT', '<USR>', ':', 'Not', 'a', 'bad', 'place', 'to', 'spend', 'a', 'Saturday', '<USR>', '!', '#jonesbuckmanwedding', '<URL>'], ['RT', '<USR>', ':', '<USR>', 'will', 'be', 'picking', 'and', 'be', 'adding', 'tomorrow', 'stay', 'tuned'], ['15-year-old', 'arrested', 'in', 'Scotland', 'for', 'allegedly', 'attempting', 'to', 'breach', 'FBI', 'system', '.', 'Possible', '#CWA', 'member', '.', '<URL>', '…'], ['<USR>', 'wow', ',', 'sounds', 'like', 'ur', 'pretty', 'busy', 'these', 'days', '...', 'twitpic', 'ur', 'new', 'haircut', 'hehe', ':)', 'so', 'ur', 'havin', 'a', 'relaxin', 'friday', ',', 'no', 'parties', '?'], [\"Don't\", 'feel', 'like', 'Friday'], [\"'@Lovelylanvin\", 'Oh', 'ugh', '.', 'Should', 'never', 'do', '#ff', 'before', 'coffee', '.', 'You', 'should', 'have', 'been', 'in', 'the', '\"', 'tweeps', 'who', 'are', 'friends', 'IRL', '\"', 'Sorry', \"!'\"], ['#DiggyFollows50', 'right', 'after', 'his', 'daddy', 'stops', 'tweeting', 'via', 'tub'], ['eww', 'school', 'tomorrow'], ['Apple', \"'s\", 'Security', 'Breach', 'Sheds', 'Light', 'On', 'Upcoming', 'Cyber', 'Talks', 'With', 'China', ':', 'Apple', 'is', 'in', 'recon', 'mode', 'after', 'a', 'securit', '...', '<URL>'], ['<USR>', 'I', 'think', 'you', 'may', 'have', 'mentioned', 'it', '.', 'Once', 'or', 'twice', '.', ':)'], ['Photo', ':', 'Travie', 'hanging', 'out', 'with', 'fans', 'at', '103.5', 'in', 'Chicago', 'today', '<URL>'], ['<USR>', 'Who', 'do', 'you', 'film', 'for', '?', 'I', 'was', 'on', 'SKY', 'news', '2', 'weeks', 'ago', '#checkmeout'], ['RT', '<USR>', ':', 'My', 'idea', 'of', 'a', 'relaxing', 'Saturday', 'afternoon', '!', '<USR>', '<URL>'], ['<USR>', 'You', 'said', 'that', 'last', 'week', 'Ash', '.', 'I', 'think', 'you', 'need', 'a', '12', 'step', 'program', '.'], ['Midnight', '#mta', '14th', 'Street', '#Nyc', '<URL>'], ['Can', 'someone', 'come', 'over', 'tomorrow', 'and', 'make', 'Christmas', 'cookies', 'with', 'me', '?'], ['CHILLIN', '<USR>', 'TONIGHT', '!'], ['Happy', 'happy', '.', 'sayaw', 'naman', 'kasi', 'jan', ',', 'Coach', 'Tai', '!!!'], ['<USR>', '#HotSummerNights2', 'At', 'Vibes', '2.0', 'THIS', 'FRIDAY', '|', 'Free', 'Entry', 'until', '11:30', '<URL>'], ['Observances', 'mark', '9/11', 'anniversary', ':', 'Observances', 'in', 'Temecula', 'and', 'elsewhere', 'throughout', 'the', 'region', 'last', 'week', 'marked', 'the', '...', '<URL>'], [\"I'm\", 'a', 'little', 'too', 'excited', 'to', 'be', 'a', 'social', 'media', 'goy', 'tomorrow', '.'], ['Wednesday', \"'s\", 'Sports', 'In', 'Brief', '<URL>'], ['tell', 'ur', 'dad2bring', 'the', 'ypp', 'back', 'in', 'Hayes', 'we', 'sorted', 'it', 'out', 'last', 'time', \"I'm\", 'like', 'yea', \"I'll\", 'tell', 'him', '*covers', 'eyes*wat', 'informing', 'am', 'I', 'doing', '#llowit'], [\"I'm\", 'pleased', 'to', 'have', 'introduced', '<USR>', 'to', 'twitter', '.', 'May', 'he', 'become', 'as', 'inane', 'as', 'me', '.'], ['going', 'now', 'guiseeeee', '...', 'if', 'i', 'dont', 'see', 'you', 'through', 'the', 'week', 'ill', 'see', 'you', 'through', 'the', 'window', ':)', ':)'], ['Shooting', 'at', 'Detroit', 'barbershop', 'kills', '3', '<URL>'], ['<USR>', '<USR>', 'think', 'Wayne', 'has', 'played', 'well', 'until', 'last', 'few', 'games', ',', 'but', 'I', 'may', 'be', 'biased', 'lol'], ['RT', '<USR>', ':', 'Labas', 'na', 'mga', 'kapuso', 'jan', ',', 'tulong', 'na', 'sa', 'pag-trend', 'Starstruck', '|', 'Hopeful', 'KyleV', '|', 'MovieSoonFor', 'ALDUB', '#ALDUBisforREAL'], ['Forever', 'regretting', 'decisions', 'made', 'in', '8th', 'grade'], ['its', 'friday', '.', 'but', 'instead', 'of', 'partying', 'or', 'doing', 'homework', '.', \"I'm\", 'going', 'to', 'tumblr', 'for', 'a', 'bit', 'and', 'sleep', 'XD'], ['WHEN', 'THE', 'SUN', 'SHINES', 'THROUGH', 'A', 'DRESS', 'AND', 'MAKES', 'IT', 'TRANSPAR', '...', '<URL>'], ['RT', '<USR>', ':', 'Answer-4', ':', '23', 'NOVEMBER', '2014', 'at', '9pm', '.', '#MSG2TeaserLaunch'], ['RT', '<USR>', ':', 'The', 'sun', \"'s\", 'so', 'hot', 'I', 'forgot', 'to', 'go', 'home', '.'], ['Tomorrow', 'is', 'Saturday', '.', 'Aka', '#dreadlock', 'day', '.', 'Bring', 'on', 'the', 'twist', 'n', 'rip', '...', '#TnR', '#reggae', '#rasta', '#marley', '#bobmarley'], ['The', 'Road', '2', 'BQ', ':', 'January', '8', '<URL>'], ['Kmart', 'Australia', 'hit', 'by', 'customer', 'data', 'breach', 'including', 'names', 'and', 'addresses', ':', 'Kmart', 'Australia', 'has', 'called', 'in', 'the', 'p', '...', '<URL>'], ['New-home', 'sales', 'rose', 'in', 'November', 'after', 'weak', 'October', '<URL>', '<URL>'], ['#Kennesaw', 'where', 'every', 'resident', 'is', 'required', 'to', 'be', 'a', 'gun', 'owner', '.', '#Cobb', '#Fedex', 'Shooter', '.', '<URL>', '…', '.', '<USR>'], ['Come', 'on', 'guys', ',', 'get', 'your', 'candles', 'lit', '<USR>', '<USR>', '<URL>'], ['Soulja', 'Boy', '|', 'TheDeAndreWay', '.', 'com', '-', 'The', 'DeAndre', 'Way', 'in', 'stores', 'Nov', '2', ',', '2010', 'souljaboytellem-iga.ning.com', 'via', '<USR>', '!', '#Blessed'], ['<USR>', 'officer', 'seen', 'lying', 'in', 'the', 'street', 'clutching', 'his', 'side', 'after', 'an', 'exchange', 'of', '20', 'to', '30', 'shots', '#BlueLivesMatter', '<URL>', '…'], ['<USR>', 'Yay', ',', \"I'm\", 'so', 'glad', \"you're\", 'here', '!', 'I', \"can't\", 'wait', 'to', 'see', 'you', '&amp;', 'the', 'Bros', 'tonight', '!', 'It', \"'s\", 'my', 'sons', \"'\", 'first', 'concert', '!!!', 'Sing', 'to', 'SECTION', '204', '!!!'], [\"I'm\", 'making', 'Thai', 'food', 'tonight'], ['People', 'at', 'post', 'advised', 'to', 'shelter', 'in', 'place', ':', 'Fort', 'Hood', 'confirms', 'that', 'a', 'shooting', 'has', 'occurred', 'at', 'the', 'U.S.', 'Army', 'p', '...', '<URL>'], ['RT', '<USR>', ':', '#Berlinale', 'opening', 'is', 'tomorrow', '-', 'live', 'streams', \"you'll\", 'find', 'here', '---', '&gt;', '<URL>', '<URL>'], ['RT', '<USR>', ':', 'Teens', 'may', 'or', 'may', 'not', 'be', 'aware', 'of', 'Paul', 'McCartney', ',', 'but', 'do', 'old', 'people', 'know', 'about', 'Kanye', 'West', '?', 'We', 'found', 'out', ':', '<URL>'], ['RT', '<USR>', ':', 'This', 'is', 'how', 'Arkansas', 'crazily', 'converted', '4th', 'and', '25', 'in', 'OT', '.', 'What', 'a', 'lateral', '!', '<URL>'], ['RT', '<USR>', ':', 'May', 'bagong', 'way', 'para', 'bigyang', 'meaning', 'yung', 'L', 'at', 'yun', 'ay', '\"', 'pag', 'ready', 'na', 'tayo', '\"', 'hahaha', '#ALDUB4thMonthsary'], ['2nd', 'last', 'practice', 'of', 'the', 'season', ';', 'last', 'game', 'on', 'Sun', '.', 'Going', 'to', 'miss', 'watchg', 'these', 'little', 'guys', '!', 'Love', 'being', 'a', '#footballmama', '<URL>'], ['RIP', 'to', 'my', 'wonderful', 'friend', 'Georgie', 'Simmons', 'who', 'took', 'her', 'own', 'life', 'on', 'the', '16th', 'January', 'you', 'will', 'be', 'missed', 'by', 'all', 'concerned'], ['Bagan', '#CopaDelRey', '2014-15', '|', '16Besar', '7', ',', '14', 'Jan', '|', 'QF', '21', ',', '28', 'Jan', '|', 'SF', '11Feb', ',', '4Maret', '|', 'Final', '30', 'Mei', '2015', '[*MNCTV', ']', '<URL>'], ['RT', '<USR>', ':', 'Party', 'season', 'is', 'most', 'definitely', 'in', 'full', 'swing', '!', 'We', '&lt;', '3', 'wavy', 'this', 'look', 'for', 'a', '#Saturday', 'night', '<URL>'], ['RT', '<USR>', ':', '4th', 'grade', 'Math', 'Symposium', '=', 'Awesome', '!', '<URL>'], ['RT', '<USR>', ':', '\"', 'I', 'tried', 'to', 'walk', 'into', 'target', 'yesterday', ',', 'I', 'missed', '.\"'], ['You', 'remeber', 'we', 'were', 'sitting', 'there', 'by', 'the', 'water', 'you', 'put', 'your', 'arm', 'around', 'me', 'for', 'the', 'first', 'time', 'you', 'made', 'a', 'rebel', 'careless', 'mans', 'careful', 'daughter'], ['<USR>', 'When', 'uwi', 'mo', '??', 'Uwian', 'mo', 'ko', 'may', 'panda', 'ba', 'dyan', 'hihi'], ['<USR>', 'Kom', 'deze', 'maand', 'denk', 'ik', 'niet', ',', 'next', 'week', 'Parijs', ',', 'en', 'allemaal', 'toetsen', 'en', 'presentaties', 'enzo', '&gt;', '.', '&lt;', \"'....\"], ['RT', '<USR>', ':', 'First', 'act', 'of', 'new', 'Labour', 'leader', 'will', 'be', 'to', 'go', 'to', 'the', '#welcomerefugees', 'march', 'in', 'London', 'this', 'afternoon'], ['French', 'IV', 'embarrassed', 'me', 'today', '..', 'never', 'again', 'will', 'I', 'go', 'into', 'a', 'battle', 'unprepared', '.'], ['no', 'condoms', 'November'], ['A', 'slow', 'yes', 'beats', 'a', 'fast', 'no', '7', 'days', 'a', 'week', '...', 'dont', 'rush', 'people', 'when', 'dey', \"make'n\", 'choices', 'u', 'might', 'get', 'told', 'no', 'just', 'cuz', 'dey', 'want', 'u', '2', 'shut', 'up'], ['<USR>', '9', 'days', 'then', 'Sydney'], ['RT', '<USR>', ':', 'Mourinho', \"'s\", 'Post', 'Match', 'interview', 'on', 'monday', 'is', 'justified'], ['Sony', 'Xperia', 'Z2', 'Android', '5.0', 'Lollipop', 'release', 'on', '15', 'March', '-', 'So', 'now', 'it', 'has', 'been', 'revealed', 'that', 'Sony', 'will', '...', '<URL>'], ['Thrilled', 'about', 'this', '<USR>', ':', 'girls', ',', 'register4', '#livethedream', '<USR>', ',', 'J', 'John', ',', '<USR>', 'oct', '7-9', '.', 'livethedreamconference', '.', 'com'], ['[', 'PCWrld', ']', 'Zendesk', 'security', 'breach', 'affects', 'Twitter', ',', 'Tumblr', ',', 'and', 'Pinterest', 'users', '<URL>'], ['Cat', '.', 'Acrylic', '.', 'By', 'Emmeline', 'Costa-Wagner', '.', 'Oct-2014', '.', '<URL>', '<URL>', 'via', '<USR>', '<URL>'], ['#ENDANDGERED', 'and', 'C.J.', 'Box', 'will', 'be', 'in', 'Cheyenne', 'Wednesday', 'and', 'Denver', 'Thursday', '.', 'Have', 'you', 'posted', 'your', 'pic', 'yet', '?', 'Thanks', '...', '<URL>'], ['tos', 'October', '09', ',', '2015', 'at', '04:00', 'AM', '<URL>', 'curren2956xiy'], ['<USR>', 'Is', 'it', 'being', 'released', 'today', 'or', 'soon', '?'], ['<USR>', 'U', 'never', 'knw', 'it', 'may', 'that', 'Hero', 'may', 've', 'consciously', 'stayed', 'away', 'from', 'IPL', 'they', 'want', 'to', 'target', 'Tier', '2', 'cities', 'more', 'thus', 'hockey', '?'], ['<USR>', '<USR>', 'you', 'been', '23', 'for', 'a', 'few', 'years', 'now', '#really27'], ['RT', '<USR>', ':', 'Monday', 'feeling', 'like', 'Sunday', '.'], ['Still', 'need', 'you', 'to', 'pass', 'math', 'classes', '.', 'Happy', '22nd', '&lt;', '3', '<URL>'], ['Attending', '9th', 'World', 'Immune', 'Regulation', 'Meeting', 'in', 'Davos', '?', 'Visit', 'us', 'at', 'booth', '116', '!', '#WIRM', '<URL>', '#allcongress'], ['RT', '<USR>', ':', '[', 'Official', 'Photos', ']', '#SISTAR', '#BORA', '-', 'InStyle', 'Magazine', '(', 'July', '2015', ')', 'credit', ':', 'as', 'tagged', '(', '2', ')', '<URL>'], ['RT', '<USR>', ':', 'Peter', 'Hutchings', 'funeral', 'itinerary', 'for', 'Tuesday', '29th', 'Dec', '11', 'at', 'moravians', 'church', '12', \"O'clock\", 'at', 'Duki', 'crem', '.', '1pm', 'at', 'the', 'club'], [\"I'm\", 'almost', 'halfway', 'through', 'my', '#cleaneating', 'challenge', '!', '<URL>', 'Getting', 'takeout', 'for', 'the', 'first', 'time', 'tonight', '-', 'what', 'to', 'get', '?!'], ['<USR>', 'are', 'hosting', 'a', 'CA', 'Level', '1', 'coaching', 'course', '29-30', 'September', '.', 'Course', 'costs', 'covered', 'for', 'UQCC', 'Jnr', 'coaches', '!', '<URL>'], ['Scottish', 'Golf^', '|', 'Jordan', 'Spieth', 'Made', '$22', 'Million', 'Dollars', 'this', 'Season', ',', 'He', \"'s\", '22-Years-Old', ':', 'This', 'historic', 'Thursday', '...', '<URL>'], ['RT', '<USR>', ':', 'What', 'did', 'you', 'say', 'is', 'happening', 'at', 'your', 'house', 'tonite', '<USR>', '?', '*cough*', '--', '&gt;', '&gt;', '*cough*'], ['RT', '<USR>', ':', 'New', 'artwork', 'for', 'sale', '!', '-', '\"', 'Moon', 'Dec', '31', '2014', '\"', '-', '<URL>', '<USR>', '<URL>'], ['Ducks', 'sign', 'LW', 'Beleskey', 'to', '2-year', 'extension', '-', 'San', 'Jose', 'Mercury', 'News', '<URL>', '#ANADucks'], ['In', 'this', 'world', 'nothing', 'can', 'be', 'said', 'to', 'be', 'certain', 'except', 'death', ',', 'taxes', 'and', 'the', '1st', 'suspect', 'interviewed', 'in', 'an', 'ep', 'of', 'Law', '&amp;', 'Order', 'SVU', \"didn't\", 'do', 'it'], ['Peppers', 'with', 'Kathy', '...', 'where', 'we', 'always', 'go', 'when', 'we', \"don't\", 'know', 'where', 'to', 'go', '.'], ['2nd', 'time', '..', '1st', 'posted', 'in', 'July', ',', '1996', '.', '#sighhh', '<URL>', '#WhoIsBurningBlackChurches'], ['BAKIT', 'ANG', 'MANHID', 'MONG', 'PUNYEMAS', 'KA', '?!?!', 'hahahaha', 'dejk', '<URL>'], ['Breaking', 'Chicago', 'News', ':', 'CTA', 'bus', 'hit', 'by', 'car', 'in', 'Uptown', 'shooting', 'incident', '....', '<URL>'], ['<USR>', 'it', 'showed', 'you', 'Clapping', 'on', 'TV', 'after', 'the', 'Swagger/Kofi', 'Match', 'Lol'], ['<USR>', 'Ooh', ',', 'I', 'could', 'be', 'your', 'long', 'lost', 'Mexican', 'sister', 'for', 'this', '.'], ['RT', '<USR>', ':', 'Damn', 'October', '<URL>'], ['<USR>', 'aaahhh', '!', 'Me', 'too', '!!!!', 'Its', 'so', 'much', 'better', 'than', 'when', 'you', 'play', 'it', 'yourself', '!', 'Haha', '!'], ['I', 'think', 'I', 'like', 'Wednesday', \"'s\", 'off', 'better', 'then', 's', 'long', 'weekend', '.'], ['RT', '<USR>', ':', 'Aye', '<USR>', 'how', 'about', 'u', 'catch', 'a', 'red', 'eye', 'out', 'tonight', 'so', 'u', 'can', 'come', 'out', 'tonight', '?', 'LMaO'], ['No', 'words', '.', 'My', 'heart', 'goes', 'out', 'to', 'all', 'those', 'affected', 'by', 'the', 'Marysville', 'Pilchuck', 'High', 'School', 'shooting', '.', 'My', 'thoughts', 'are', 'with', 'you', 'all', '...'], ['RT', '<USR>', ':', 'Ok', 'last', 'one', 'of', 'these', '.', 'I', 'may', 'try', 'to', 'make', 'some', 'myself', '.', 'Anyway', 'here', 'ya', 'go', '.', '13/10', '<URL>'], ['super', 'nintendo', 'sega', 'genesis', ',', 'when', 'i', 'was', 'dead', 'broke', 'man', 'i', \"couldn't\", 'picture', 'this', '!', '#nowplaying', 'Juicy', 'by', 'Biggie'], ['Layo', 'ah', '?', 'Haha', '.', 'Naks', '!', 'Ikaw', 'na', 'may', 'forever', '.', 'Hahahah', '<USR>'], ['Jean', 'Geoffroy', 'joue', 'Bach', '(', 'CD', ',', 'May-2013', ',', '2', 'Discs', ',', 'Skarbo', ')', '<URL>', '<URL>'], ['CHC', 'mlb', '.', 'com', ':', 'Schwarber', ',', 'Villanueva', 'among', 'top', 'performers', 'in', 'Minors', 'Wednesday', '<URL>'], ['What', 'juuuust', 'happened', '?', \"C'mon\", 'CFC'], ['Jets', 'coach', 'Rex', 'Ryan', 'pleased', 'with', 'the', 'offense', 'this', 'week', 'in', 'practice', '<URL>'], ['<USR>', 'It', \"'s\", 'the', 'view', 'from', 'where', \"I'm\", 'living', 'for', 'two', 'weeks', '.', 'Empire', 'State', 'Building', '=', 'ESB', '.', 'Pretty', 'bad', 'storm', 'here', 'last', 'evening', '.'], ['RT', '<USR>', ':', 'This', 'is', 'the', 'Mondayest', 'Thursday', 'ever'], ['Great', 'evening', 'at', 'Rise', 'schools', '16th', 'annual', '\"', 'Round', 'up', '\"', 'benefit', '.', 'Loved', 'running', 'into', 'this', 'longtime', 'friend', '!:', ')', '<URL>'], ['Sunday', '7am', '<USR>', 'with', 'me', '&amp;', '<USR>', '#RobertHooper', ',', '<USR>', '#farmcommunitynetwork', '<USR>', '#clubhectare', '#agrichatuk'], ['Anonymous', 'Claims', 'Breach', 'of', 'UN', 'Climate', 'Change', 'Webcasting', 'Site', '#COP21', '<URL>', '…'], ['<USR>', 'I', 'just', 'have', 'to', 'say', 'that', 'the', 'photos', 'that', \"I've\", 'seen', 'of', 'you', 'and', 'Elvis', 'on', 'stage', 'yesterday', 'is', 'just', 'about', 'the', 'most', 'adorable', 'thing', 'ever', '.'], ['Was', 'hard', 'work', 'going', 'to', 'the', 'gym', 'on', 'my', 'own', 'tonight', 'but', 'managed', 'a', '30', 'min', 'run', 'and', 'plenty', 'of', 'weights', '.', 'Catching', 'up', 'on', 'ufc', 'now'], ['RT', '<USR>', ':', 'The', 'sun', \"won't\", 'shine', 'until', 'you', 'put', 'the', 'umbrella', 'away', '.', '#SPSPakNaPak'], ['ALL', 'TIME', 'LOW', 'ARE', 'COMMING', 'TO', 'GLASGOW', '!!!!!!!!!!!!!!!!!!!'], ['Tomorrow', 'will', 'be', 'more', 'clutch', '<USR>', '<USR>', '<USR>'], ['RT', '<USR>', ':', 'i', \"don't\", 'know', 'who', \"'s\", 'yaron', 'but', 'jun', 'and', 'yaron', 'are', 'so', 'cute'], ['<USR>', '<USR>', '<USR>', '<USR>', 'these', 'close', 'game', 'losses', 'are', 'tough', ',', 'could', 'it', 'just', 'be', 'a', 'Mental', 'lapse', 'in', '4th', '?', 'Played', 'well', 'Enuff', '!'], ['A', 'FUN', 'movie', 'for', 'the', 'kids-', 'Alpha', '&amp;', 'Omega', '(', 'PG', ')', 'Friday', '5:00', ',', '7:00', ',', '8:45', ',', 'Saturday-', '1:30', ',', '3:15', ',', '5:00', ',', '7:00', ',', '8:45', ',...', '<URL>'], ['<USR>', 'this', 'saturday', 'is', 'my', 'bday', 'Can', 'you', 'wish', 'me', 'a', 'happy', 'bday', '?', 'Love', 'you', '#ExcitedForLittleMix2015', 'x14'], ['<USR>', 'you', 'have', 'cracked', 'me', 'up', 'with', 'your', 'tweets', 'today', 'babe', '.', 'Love', 'it', '!!', 'X'], ['Sushi', 'Wednesday', 'at', \"Lund's.\", '#seeyouthere'], ['Can', 'your', 'CMS', 'guarantee', 'pixel-precise', 'output', 'when', 'compared', 'to', 'our', 'MS-Paint', 'designs', '?', '#cmsretractions'], ['Welp', 'that', 'was', 'fast', ',', \"didn't\", 'even', 'wait', 'until', 'black', 'Monday', '#ChipKelly', '#Eagles'], ['When', 'Monday', 'is', 'a', 'Sun-day', '&lt;', '3', '#backtowork', '#perfekterwochenstartundkaffe'], ['650,000', 'Affected', 'by', 'JD', 'Wetherspoon', 'Data', 'Breach', '|', '<URL>', '<URL>', '…'], ['Gonna', 'for', 'vocal', 'solo', 'on', 'tuesday', '.', 'T_T'], ['<USR>', 'he', \"'s\", 'not', 'interested', 'he', 'will', 'leave', 'in', 'Jan'], ['<USR>', 'hehee', 'love', 'for', 'them', '.', 'I', 'have', 'undying', 'love', 'for', 'a', 'lot', 'of', 'people', 'today', '.', 'Love', 'turns', 'my', 'world', 'around', '.'], ['x1x_ne_x1x', '<URL>', 'June', '23', ',', '2015', 'at', '06:52', 'PM', '2'], ['One', 'of', 'the', 'hospitals', 'treating', '#Fort', 'Hood', 'shooting', 'patients', 'will', 'hold', 'a', 'news', 'conference', 'at', '7:15', '.', 'Stay', 'tuned', '<USR>', ':', '<URL>'], ['Same', 'to', 'u', '\"', '<USR>', ':', '<USR>', 'awayu', '?,', 'happy', 'Sunday', '#shinesteeth#', '\"'], ['Damn', '.', 'I', 'do', 'NOT', 'know', 'how', 'to', 'work', 'this', 'phone', 'today', '.', \"I'm\", 'pushing', 'all', 'kinds', 'of', 'buttons', 'that', \"shouldn't\", 'be', 'pushed', '.', '#storyofmylife'], ['need', 'July', '29th', 'now'], ['Social', 'networking', 'site', 'Facebook', 'officially', 'has', '500', 'million', 'users', ',', 'the', 'company', 'announced', '21', 'July', '<URL>'], ['This', 'Sunday', '<USR>', 'at', '<USR>', '!!', '#iwearmysunglassesatnight', '#seeyouatgringos', '#marrakechclub', '#malta', '<URL>'], [\"'or\", 'even', 'in', 'a', '69', '.', 'smother', 'me', 'w/', 'it', 'and', 'hold', 'my', 'dick', 'like', 'a', 'joystick', 'when', 'u', 'do', 'it', '.', 'shit', '...', 'say', 'some', 'shit', 'like', '\"', 'suck', 'this', 'pussy', '\"', 'i', 'wont', 'laugh', \".'\"], [\"You'll\", 'come', 'back', 'when', 'they', 'call', 'you', '...', 'No', 'need', 'to', 'say', 'goodbye', '.'], ['RT', ':', '<URL>', '#webinar', 'I', 'will', 'be', 'running', 'a', '2nd', 'update', 'webinar', 'on', 'Wednesday', 'at', '3:15', 'for', 'our', '#flexiSched', 'users', '.', 'Check', 'your', 'e', '...'], ['had', 'a', 'great', 'day', 'courtesy', 'of', 'my', 'morning', 'that', 'I', 'had', 'talking', 'to', 'Rashad', '...', ':)'], ['RT', '<USR>', ':', 'Tomorrow', \"'s\", 'on', 'its', 'way', '<URL>'], ['You', 'may', 'be', 'overly', 'demonstrative', 'about', 'a', 'social', 'or', 'political', 'is', '...', 'More', 'for', 'Aquarius', '<URL>'], ['Saraki', \"'s\", 'trial', 'adjourned', 'to', 'Oct', '21', ',', 'released', 'on', 'bail', 'on', 'self', 'recognition', '<URL>'], ['<USR>', '<URL>', 'December', '31', ',', '2014', 'at', '12:05', 'PM', 'WHATTIME', 'IS', 'IT', 'NOW'], ['RT', '<USR>', ':', 'SO', 'WHEN', 'I', 'GET', 'ON', '106', 'N', 'JOKE', 'AROUND', 'YALL', 'TALK', 'ABOUT', 'ME', 'LIKE', 'A', 'DOG', 'SHAWTY', 'BUT', 'WHEN', 'I', 'BUY', '30,000', 'WORTH', 'SCHOOL', 'SUPPLY', 'N', '...'], ['UCLA', 'Health', 'System', 'reports', 'patient', 'data', 'breach', ';', '4.5', 'million', 'may', 'be', 'affected', '(', 'Chad', 'Terhune/Los', 'Angeles', 'Times', ')', '<URL>'], ['<USR>', 'It', \"'s\", 'already', 'tomorrow', 'in', 'Australia', 'so', 'can', 'you', 'tell', 'just', 'me', 'now', '?!'], ['Sana', 'sa', 'dec', '27', 'na', 'kami', 'mag', 'EK'], ['Listening', 'to', 'How', 'Can', 'I', 'Not', 'by', 'Future', 'is', 'a', 'Friday', 'ritual', '.'], ['Why', 'is', 'it', 'that', 'I', 'can', 'sleep', 'when', 'I', \"shouldn't\", 'be', 'but', 'not', 'when', 'I', 'should', 'be', '???'], ['Friday', 'begins', 'my', 'two', 'week', 'vacation', '#hurryup'], ['Prime', 'minister', 'Narendra', 'Modi', 'to', 'visit', 'US', 'west', 'coast', 'in', 'september', '<URL>', '#NarendraModi', '<URL>'], ['<USR>', 'haha', '!', 'Thts', 'actually', 'quite', 'useful', 'x', 'lmao', 'x', 'iv', 'never', 'thought', 'bout', 'tht', 'before', 'x', \"I'm\", 'glad', 'it', 'made', 'yu', 'smile', 'x', ':D'], ['Rain', 'rain', 'go', 'away', 'come', 'back', 'when', 'it', \"'s\", 'not', 'my', 'dads', 'birthday', '.'], ['SHIT', 'ITS', '32', 'DEGREES', 'TOMORROW', 'IM', 'ACTUALLY', 'GOING', 'TO', 'BURN'], ['<USR>', 'And', 'that', 'this', 'was', 'more', 'Powerplay', 'by', 'May', 'than', 'anything', 'else', '.'], ['<USR>', 'do', 'you', 'know', 'if', 'the', 'CC', 'Final', 'will', 'be', 'live', 'on', 'Premier', 'Sports', 'next', 'Sunday', 'as', 'I', 'must', 'be', 'the', 'only', 'Devils', 'fan', 'that', \"can't\", 'go', ':-('], ['<USR>', 'jan', 'lupa', 'mandi'], ['What', 'an', 'amazing', 'sight', 'that', 'these', 'women', 'stumbled', 'upon', 'and', 'one', 'they', 'may', 'not', 'soon', 'forget', '.', '<URL>'], ['Join', 'us', 'at', 'Dale', \"'s\", 'Weston', 'Lanes', 'tonight', 'from', '5', 'to', '6:45', 'pm', 'for', 'Monday', 'Night', 'Endzone', 'on', 'Sports', 'Fan', '100.5', '!', 'Football', 'talk', 'leading', 'to', 'MNF', '!'], ['<USR>', 'you', 'may', 'be', 'interested', 'in', 'a', 'story', 'about', 'beautiful', '$25K', 'Maximillian', 'Chair', '.', 'Contact', 'duncan@', 'reolo.com', '<URL>'], ['RT', '<USR>', ':', 'Zayn', 'leaving', 'his', 'house', 'today', '#1', '-', 'March', '27', ',', '2015', '(', 'via', '<URL>', ')', '<URL>'], ['Kmart', 'Australia', 'hit', 'by', 'customer', 'data', 'breach', 'including', 'names', 'and', 'addresses', ':', 'Kmart', 'Australia', 'has', 'called', 'in', 'the', 'p', '...', '<URL>'], ['Compu', 'Deals', ':', '<URL>', 'For', 'New', 'iPad', '4', '4G', 'Gen', '3', '3rd', '2', '360', 'Rotating', 'Magnetic', 'PU', 'Leather', 'Case', 'Smart', '...', '<URL>'], ['The', 'usual', 'suspects', 'at', 'it', 'again', '.', 'Boy', 'arrested', 'over', 'TalkTalk', 'hacking', 'sues', 'newspapers', 'for', 'privacy', 'breach', '<URL>', '…'], ['null', '<URL>', 'December', '20', ',', '2015', 'at', '03:06', 'PM'], ['RT', '<USR>', ':', 'MONDAY', 'HIT', 'ME', 'LIKE', '<URL>'], ['<USR>', 'nou', 'ze', 'is', 'al', 'een', 'week', 'best', 'wel', 'erg', 'ziek', ',', 'echt', 'heel', 'zielig', '!:'], ['TorontoCrypto', ':', 'IN', ':', 'Security', 'breach', 'reported', 'by', 'Kankakee', 'Valley', 'REMC', '<URL>', 'pic.twitter.com/9YuDiwZbWO'], ['<USR>', 'just', 'giving', 'a', 'hard', 'time', 'so', \"don't\", 'hurt', 'me'], ['td', 'bem', 'que', 'as', 'meninas', 'do', 'outro', 'time', 'eram', 'mt', 'brutas', 'e', 'cavalas', ',', 'maais', 'foi', 'bom', ',', 'porq', '.', 'ganhamos'], ['Seba', 'Lecompte', 'is', 'playing', '<USR>', '#Kerk', '#Ghent', '#Belgium', ',', 'Sat', '11', 'Apr', '2015', '#gigs'], ['ca', '<URL>', 'November', '07', ',', '2015', 'at', '07:33', 'PM'], ['#CLASAPRESENTS', 'Amendments', 'to', 'the', 'Labour', 'Laws', 'with', 'Ivan', 'Israelstam', '&amp;', 'Alison', 'Lee', 'in', 'Joburg', 'on', 'August', '20', '.', '<URL>', '#CPDPoints'], ['University', 'of', 'Virginia', 'announces', 'breach', ',', 'says', 'attack', 'came', 'from', 'China', '|', '<URL>'], ['isthatjessiej', 'and', '<USR>', 'in', 'New', 'York', 'on', '12th', 'December', '2014', '!', '<URL>'], ['I', 'think', 'my', 'morning', 'class', 'might', 'be', 'chalcked', 'tomorrow', 'its', 'already', 'beer', 'thirty'], ['3rd', 'qtr', 'has', 'begun', '......', 'Harris', 'starts', 'us', 'off', 'with', 'a', '3', '!!!'], ['6', '-', 'close', 'tonight', '.', 'Its', 'gonna', 'be', 'a', 'longg', 'evening', '!'], ['Als', 'ik', 'u', 'nu', 'niet', 'hoor', 'hoef', 'ik', 'u', '1', 'september', 'ook', 'niet', 'te', 'horen', 'of', 'zien'], ['Wind', 'Chill', 'Warning', 'issued', 'January', '06', 'at', '9:14', 'AM', 'CST', 'until', 'January', '07', 'at', '12:00', 'PM', 'CST', 'by', 'NWS', '<URL>'], ['cant', 'believe', 'its', 'already', 'June'], ['You', 'may', 'be', 'feeling', 'restless', ',', 'eager', 'to', 'act', 'out', 'on', 'the', 'aggressiv', '...', 'More', 'for', 'Scorpio', '<URL>'], ['Second', 'teenager', 'arrested', 'over', 'TalkTalk', 'data', 'breach', '#uknews', '#betternews', '#Allnewshttp', ':/', '/', 'www.theguardian.com/business/2015/oct/30/second-teenager-arrested-over-talktalk-data-breach', '…'], ['Getting', 'out', 'of', 'school', 'early', 'tomorrow'], ['Sun', '04:27', 'Sympathy', 'For', 'The', 'Devil', 'by', '#TheRollingStones', '<URL>'], ['RT', '<USR>', ':', 'may', 'your', 'foundation', 'match', 'your', 'neck', ',', 'concealer', 'be', 'creaseless', ',', '&amp;', 'winged', 'eyeliner', 'be', 'sharp', 'enough', 'to', 'kill', 'amen'], ['RT', '<USR>', ':', \"I'm\", 'not', 'really', 'good', 'at', 'history', '.', 'I', 'once', 'went', 'back', 'in', 'time', 'and', 'killed', 'Charlie', 'Chaplin', '.'], ['Russian', 'Hacker', 'Claims', 'Citrix', 'Data', 'Breach', ',', 'Company', 'Acknowledges', 'Incident', ':', 'Citrix', ',', 'a', 'US', 'company', 'providing', 'SaaS', 's', '...', '<URL>'], ['<USR>', 'ohh', 'really', '?', 'but', 'well', 'you', 'saw', 'most', 'of', 'the', 'concert', 'right', '?', 'have', 'you', 'seen', 'them', 'before', '??'], ['It', 'was', 'a', 'good', 'night', 'I', 'have', 'school', 'tomorrow', 'nightttt'], ['Getting', 'this', 'head', 'right', 'for', 'whateva', 'I', 'get', 'into', 'tonite', '#sittinupunderthedryertweet'], ['Monday', '-', 'zero', 'craic'], ['Friday', \"'s\", 'bout', 'to', 'be', 'wild', 'af'], ['Caledonia', 'Home', 'Health', 'and', 'Hospice', 'reports', 'data', 'breach', '-', '<URL>', '<URL>'], ['<USR>', 'they', 'giving', 'the', 'nigga', 'a', 'realllllll', 'hard', 'time', 'about', 'it', 'lmfaoo', 'as', 'they', 'should', 'and', 'now', 'his', 'feelings', 'are', 'hurt', '...', 'i', 'like', 'him', 'tho', 'LMAO'], ['<USR>', 'I', 'just', 'heard', 'attention', 'deficit', 'today', '.', 'Waay', 'underrated', 'but', 'I', 'still', 'like', 'more', 'about', 'nothing', 'better'], ['#GreenvilleShooting', ':', 'victim', 'shot', 'outside', 'Walmart', 'is', 'awake', 'and', 'alert', '.', '<USR>', 'is', 'reporting', 'live', 'now', '.'], ['It', \"'s\", 'February', '!', '<URL>', 'on', '<USR>'], ['RT', '<USR>', ':', 'Life', 'Skills', 'Classes', '-', 'October', '2015', '<URL>', '<URL>'], ['Chevron', 'gouging', 'consumers', 'by', 'claiming', 'payments', 'are', 'late', 'when', 'in', 'reality', 'statement', 'delivery', 'is', 'very', 'poor', 'turnaround', 'time', '.', 'charging', 'hefty', 'fee', \"'s\"], ['2', 'days', 'till', '#BoardwalkEmpire'], ['VBulletin', 'resets', 'passwords', ',', 'issues', 'emergency', 'patches', 'following', 'breach', '-', '<URL>', '…'], ['i', 'swear', 'when', 'you', 'miss', '1', 'day', 'of', 'school', ',', 'feels', 'like', 'you', 'missed', 'a', 'whole', 'year', '!', 'dont', 'even', 'have', 'homwork', 'today', ',', 'suprising', '?'], ['RT', '<USR>', ':', 'HT', ':', 'PERAK', '1-0', 'TERENGGANU', '4th', 'goal', 'for', '<USR>', 'in', 'super', 'league', 'assisted', 'by', 'the', 'debutant', '<USR>'], ['RT', '<USR>', ':', 'Yesterday', 'is', 'not', 'ours', 'to', 'recover', ',', 'but', 'tomorrow', 'is', 'ours', 'to', 'win', 'or', 'lose', '.', '-', 'Lyndon', 'Johnson', '#ALDUBTrust'], ['and', 'we', 'in', '1st', '<URL>'], ['null', '<URL>', 'March', '12', ',', '2015', 'at', '02:27', 'AM', 'manko', 'vol', '.', '3'], ['<USR>', '<USR>', 'r', 'u', 'guys', 'going', 'to', 'the', 'meet', 'Tuesday'], ['Village', ':', 'Everything', 'you', 'need', 'to', 'know', 'about', 'Toronto', 'in', 'your', 'inbox', 'every', 'Saturday', 'morning', '.', '<URL>'], ['Vanilla', 'vodka', 'infusion', 'is', 'done', '.', 'Two', 'weeks', 'from', 'now', 'so', 'will', 'the', 'apple', ':)'], ['<USR>', 'concert', 'tomorrow', 'with', 'my', 'crazy', 'chicaaa'], ['RT', '<USR>', ':', 'On', 'April', '18', ',', '1930', ',', 'the', '<USR>', 'announced', ',', '\"', 'There', 'is', 'no', 'news', 'today', ',\"', 'and', 'played', 'piano', 'music', 'instead', '.'], ['RT', '<USR>', ':', 'Greece', \"'s\", '2nd', 'bailout', 'program', 'officially', 'expires', '-', '<USR>', '<URL>'], [\"':::\", 'Flashback', 'Friday', '-', '\"', 'Dancing', 'Queen', '\"', '<URL>'], ['#HBDBarunSobti', '<URL>'], ['<USR>', 'I', 'have', 'a', 'date', 'tonight', ',', 'otherwise', 'I', 'would', '!', 'Expect', 'a', 'call', 'or', 'text', 'from', 'me', 'later', ',', 'though', ';-)'], ['BREACH', '!', 'CHINA', 'HACKING', 'DESPITE', 'DEAL', '<URL>'], ['RT', '<USR>', ':', '\"', 'B.A.P', 'started', 'their', '4', 'day', '5', 'night', 'MV', 'shooting', 'at', 'Gyeonggi-do', 'on', 'the', '28th', '\"'], ['Black', 'Friday', 'Mixtape'], ['RT', '<USR>', ':', 'SO', 'WHEN', 'I', 'GET', 'ON', '106', 'N', 'JOKE', 'AROUND', 'YALL', 'TALK', 'ABOUT', 'ME', 'LIKE', 'A', 'DOG', 'SHAWTY', 'BUT', 'WHEN', 'I', 'BUY', '30,000', 'WORTH', 'SCHOOL', 'SUPPLY', 'N', '...'], ['It', \"'s\", 'Friday', '!!!', '#LOL', '<URL>'], ['Sunday', 'can', 'you', 'please', 'hurry', 'up', 'and', 'get', 'here', 'already', '?!', 'I', 'want', 'to', 'see', '<USR>', '<USR>', '<USR>', 'already', '!', 'Concert', \"'s\", 'going', 'to', 'be', 'rad', '!', ':P'], ['On', 'my', 'way', 'to', 'my', 'grandparents', '.', 'And', 'after', 'a', 'good', 'nights', 'sleep', 'i', 'head', 'to', 'the', 'Tournament', 'of', 'Champions', '!!!!!!!', 'Super', 'excited'], ['<USR>', 'Hari', 'ini', 'hari', 'Selasa', ',', 'Tanggal', '07', 'Bulan', 'April', 'Tahun', '2015', 'Jam', '08:22', ':', '55'], ['Whoa', '.', 'RT', '<USR>', ':', 'BNO', 'News', ':', '5-year-old', 'New', 'Orleans', 'girl', 'dies', 'after', 'finding', '.', '38', 'revolver', 'and', 'shooting', 'self', 'in', 'the', 'head', ',', 'police', 'confirm'], ['On', 'the', 'amusing', 'side', '....:', 'When', 'we', '-', 'with', 'dozens', 'of', 'other', 'journalists', '-', 'were', 'at', 'the', 'event', 'waiting', 'to', 'see', 'if', '...', '<URL>'], ['<USR>', 'Ooo', 'I', 'do', '!!', 'It', 'would', 'make', 'THiS', 'day', 'better', ':-/'], ['RT', '<USR>', ':', 'RT', 'this', 'if', 'you', 'want', 'me', 'to', 'go', 'back', 'live', 'on', 'Ustream', 'later', 'tonight'], ['<USR>', 'still', 'hot', '...', 'But', 'excited', 'about', 'tomorrow', 'going', 'to', 'see', 'Lady', 'Gaga', ':)'], ['<USR>', \"I'm\", 'in', 'BR', 'now', '.', \"I'll\", 'be', 'home', 'tomorrow', 'night'], ['Our', 'own', 'Richard', 'Smith', 'is', 'on', 'the', 'scene', 'for', 'the', 'Terps-Illini', 'game', ':', '<URL>'], ['RT', '<USR>', ':', 'its', 'annoying', 'tht', 'ppl', 'ask', 'me', 'what', 'race', 'i', 'am', 'before', 'they', 'ask', 'me', 'my', 'name', '-_-'], ['Mr', 'Ehrlich', 'uses', 'bd', 'language', 'after', 'school'], ['<USR>', '<USR>', 'Thanks', 'for', 'the', 'RT', '!', 'Happy', 'Sunday', 'night', '!'], ['OH', 'GOD', 'COMMENT', 'IL', 'EST', 'BO', 'MON', 'AMR', '<URL>'], ['At', '#45', '#1989', 'a', '#8', 'hit', 'in', 'November', ',', 'the', 'Stone', 'Roses', 'w/Fool', \"'s\", 'Gold', '...', '<URL>'], ['I', 'REMEMBER', 'IN', '8TH', 'WHEN', 'PRISCILLA', 'RAN', 'UP', 'TO', 'ME', 'WHEN', 'I', 'GOT', 'TO', 'SCHOOL', 'AND', 'GAVE', 'ME', 'A', 'COOKIE', 'AND', 'OFCOURSE', 'I', 'FUCKING', 'ATE', 'IT', 'RIGHT', '?'], ['mothers', 'day', 'greeting', 'cards', ':)', 'Surrounded', 'by', 'Mothers', 'Day', 'and', 'Dreading', 'It', '?', '<URL>'], ['Today', 'I', 'must', 'make', 'full', 'use', 'of', 'the', 'filter', '..', 'Please', \"don't\", 'fail', 'me', 'today', '!'], ['CATCH', '<USR>', '#RUSH_HOUR_AT_5', 'EVERY', 'FRIDAY', 'AT', '<URL>'], ['RT', '<USR>', ':', 'Jan', 'Koum', 'says', '<USR>', 'now', 'has', '700', 'million', 'messaging', '!', 'Cool', '<URL>'], ['Listen', 'to', '\"', 'The', 'Many', 'Faces', 'Of', '#Aspartame', '\"', 'as', 'Mary', 'Nash', 'Stoddard', 'talks', 'to', 'June', 'Stoyer', 'on', '<USR>', '#WeightLoss', '<URL>'], ['Ještě', 'jedna', 'aktuální', 'americká', 'přestřelka', '.', 'Tentokrát', 'byli', 'zraněni', '3', 'policisté', 'v', 'Sacramentu', '.', '<URL>', '…'], ['Bayon', 'TV', ',', 'Carabao', 'Concert', ',', '19-December-2015', 'Part', '03', ',', 'Sous', 'Visa', ':', '<URL>', 'via', '<USR>'], ['The', 'farmer', 'stops', 'by', 'the', 'bars', 'of', 'a', 'Sunday', 'and', 'looks', 'at', 'the', 'oats', 'and', 'rye', ','], ['RT', '<USR>', ':', 'Swish', 'February', '11', '16'], ['Saturday', 'Sounds', '<URL>', 'All', 'time', '#Classic'], ['Another', 'day', '!', 'It', \"'s\", 'April', '12', ',', '2015', 'at', '10:01', 'AM', '<URL>'], ['A', 'Mozart', 'Festival', '(', 'CD', ',', 'Oct-1994', ',', '4', 'Discs', ',', 'Classical', 'Heritage', ')', '<URL>', '<URL>'], ['December', '23', ',', '2015', 'at', '03:44', 'PM', '#if24', '#s8'], ['S/o', 'to', 'the', 'insanely', 'cute', 'guy', 'sat', 'opposite', 'me', ':-)'], ['Interesting', '!', '<URL>'], ['Goodnight', 'twitterland', '!!', 'seee', 'you', 'tomorrow', ':)', 'Michael', 'I', 'love', 'you', 'more', 'than', 'my', 'life', '...', 'the', 'biggest', 'kiss', 'for', 'you', 'my', 'love', '!!!', ':D', 'L', '.', 'O', '.', 'V', '.', 'E'], ['RT', '<USR>', ':', 'know', 'this', 'today', '.', 'no', 'thing', 'will', 'ever', 'come', 'upon', 'you', 'and', 'overtake', 'you', '.', 'the', 'love', 'of', 'Jesus', 'Christ', 'will', 'overtake', 'it', '.', 'He', 'is', '...'], ['Shame', 'on', 'SnapChat', ',', 'Skype', 'for', 'breach', '<URL>'], ['MASS', 'SHOOTING', 'IN', 'DETROIT', '8', 'SHOT', ',', 'THREE', 'DEAD', 'SO', 'FAR', 'SHOOTERS', 'ON', 'THE', 'LOOSE', 'IN', 'A', 'WHITE', 'CHEVY', 'IMPALA'], ['<USR>', 'shocking', 'shower', 'of', 'shit', '.', 'You', \"couldn't\", 'run', 'a', 'fucking', 'bath', '!', 'Wonder', 'if', \"we'll\", 'get', 'a', 'rebate', 'in', 'January', '?', 'Naaa', '10%', 'price', 'hick', 'instead'], ['<USR>', '<URL>', 'we', 'beat', 'kilkenny', 'after', 'they', 'beat', 'us', 'for', 'the', 'last', '4', 'years', 'in', 'the', 'hurling', '.', 'Woo', '!!!'], ['No', 'loss', 'is', 'greater', 'than', 'the', 'loss', 'of', 'a', 'thought', 'process', 'before', 'you', \"'ve\", 'had', 'the', 'time', 'to', 'write', 'it', 'down', '.'], ['<USR>', 'But', 'a', 'mess', 'on', 'one', 'day', 'may', 'not', 'a', 'mess', 'eternally', 'be', '.'], ['<USR>', 'Hah', '!', 'That', \"'s\", 'the', 'one', 'programme', 'my', 'dad', 'and', 'I', 'watch', 'together', 'every', 'week', '!'], ['\"', '<USR>', ':', 'May', 'loyal', 'pa', 'bang', 'tao', 'ngayon', '?!\"', 'Meron', 'pa', 'ba', '?:', '/'], ['RT', '<USR>', ':', 'Act', 'NOW', 'to', 'lower', 'your', '2015', 'taxes', '--', 'most', 'moves', \"don't\", 'work', 'after', 'Dec', '.', '31', ':', '<URL>'], ['Is', 'this', 'rubbish', 'or', 'what', '!?', '441', 'free', 'texts', ',', '588mins', 'and', 'only', 'two', 'days', 'to', 'use', \"'\", 'em', '.', '<URL>'], ['LIVE', 'VIDEO', ':', 'News', 'conference', 'on', 'San', 'Bernardino', 'shooting', '-', '<URL>'], ['<USR>', 'You', 'are', 'really', 'showing', 'out', 'today', 'lol', '.'], ['RT', '<USR>', ':', 'Congratulations', 'EXO', 'for', 'winning', '1st', 'Place', 'at', 'Music', 'Core', 'today', '!', '#LoveMeRight8thWin', '<URL>'], ['#blackholidays', '\"', 'National', 'forget', 'the', 'he', 'say', 'she', 'say', '...', 'what', 'do', 'God', 'say', 'day', '\"'], ['Everyone', 'comes', 'into', 'your', 'life', 'for', 'a', 'reason', ',', 'for', 'good', 'or', 'bad', ',', 'they', 'may', 'shape', 'us', ',', 'break', 'us', ',', 'but', 'in', 'the', 'end', 'they', 'make', 'us', 'who', 'we', 'are', '.'], ['Scene', 'of', 'fatal', 'shooting', 'with', 'multiple', 'injuries', '\"', 'chaotic', ',\"', 'Miami', 'Fire', 'Rescue', 'official', 'says', ':', '<URL>', 'pic.twitter.com/8g9kY6qvLM'], ['My', 'skin', 'has', 'been', 'near', 'perfect', 'for', '3', 'weeks', 'while', \"I've\", 'not', 'been', 'with', 'Erron', '.', 'See', 'him', 'tomorrow', 'and', 'boom', \"I'm\", 'pizza', 'face'], ['RT', '<USR>', ':', '[', 'INFO', ']', '150605', 'SHINee', 'ONEW', 'to', 'be', 'special', 'MC', 'of', 'SBS', 'Inkigayo', 'this', 'week', '!', '(', 'June', '7th', ')', '<URL>'], ['Man', 'gets', '20', 'years', 'in', 'murder', 'plot', 'against', 'judge', '<URL>'], ['Scam', 'of', 'the', 'day', '–', 'October', '31', ',', '2015', '–', 'TalkTalk', 'data', 'breach', 'update', '<URL>', '…'], ['&quot;', 'her', 'lips', ',', 'her', 'lips', 'i', 'could', 'kiss', 'them', 'all', 'day', 'if', \"she'd\", 'let', 'me', '...', 'hahahaha', '&quot;', 'lol', 'sooooooooo', 'cute', '&lt;', '3'], ['Data', 'Breach', 'News', '-', 'Data', 'Breach', ':', 'Blue', 'Shield', 'of', 'California', '-', 'JD', 'Supra', '(', 'press', 'release', ')', '<URL>'], ['Goodmorning', '?', 'Just', 'woke', 'up', '..', 'Gonna', 'study', 'again', 'for', 'today', \"'s\", 'exams..that', \"'s\", 'okay', 'because', 'later', 'no', 'more', 'examinations', ';)'], ['Today', 'is', 'a', 'logistical', 'nightmare', '!', 'Committed', 'to', 'a', \"b'day\", 'party', 'attendance', 'but', 'discover', 'I', 'have', '2', 'kids', ',', 'no', 'car', '&amp;', 'only', 'plastic', 'money', '.', '#amplotting'], ['have', 'to', 'sleep', 'now', '!', 'gym', ',', 'facial', ',', 'then', 'SUPAHFEST', 'tonight', 'i', 'need', 'my', 'kuya', \"'s\", 'driver', '...', 'MOSH', 'PIT', 'VIP', 'common'], ['Arthur', 'Ray', 'Bruton', ',', '80', ',', 'of', 'Spicewood', 'died', 'June', '20', ',', '2015', '<URL>'], ['HAPPY', 'FRIDAY', '!', '~madi'], ['Columbus', ',', 'GA', ':', '<USR>', 'and', \"'ll\", 'be', 'mixing', 'an', '80', \"'s\", 'and', 'other', 'throwbacks', 'dance', 'party', 'tonight', 'at', 'eighty-five', '.', 'Come', 'kickit', '!'], ['<USR>', 'is', 'following', 'me', '!', 'OMG', '!', 'My', 'life', 'is', 'now', 'complete', '!', 'I', 'heart', 'you', 'JF', 'and', 'have', 'for', 'years', '!', 'Thank', 'you', 'for', 'making', 'me', 'laugh', 'everyday', '!'], ['<USR>', 'good', 'thing', 'we', 'have', 'DVRs', 'in', 'the', '21st', 'century', '!!'], ['San', 'Bernardino', 'Shooting', 'Raises', 'Fears', 'of', 'Multiple', 'Deaths', '<URL>', 'via', '<USR>'], ['A', 'Love', 'Supreme', ':', '4th', 'Movement', '-', 'Psalm', '-', 'In', 'John', 'Coltrane', \"'s\", 'words', '<URL>', '(', '1964', ')'], ['RT', '<USR>', ':', 'EVERYBODY', 'WHO', 'WANT', 'A', 'FOLLOW', 'FROM', 'ME', 'FOR', 'FOLLOW', 'FRIDAY', 'LET', 'ME', 'KNOW', '!!', 'WE', 'AINT', 'LIKE', 'THESE', 'HOLLYWOOD', 'AZZ', 'RAPPERS', 'WE', 'FOLLOW', 'BACK', '!'], ['Last', 'film', 'I', 'can', 'watch', 'on', 'a', 'decent', 'telly', 'for', 'a', 'while', 'tonight', '.', 'Kick-Ass', 'is', 'very', 'tempting', 'indeed', '.'], ['RT', '<USR>', ':', 'Raif', 'Badawi', ',', 'the', 'Saudi', 'Arabian', 'blogger', 'sentenced', 'to', '1,000', 'lashes', ',', 'may', 'now', 'get', 'the', 'death', 'penalty', '<URL>'], ['<USR>', 'have', 'a', 'good', 'weekend', '!', 'Next', 'time', \"I'm\", 'at', 'Gardens', 'we', 'are', 'joining', 'eatery', 'forces', '.'], ['Debating', 'whether', 'to', 'write', 'about', 'how', 'stupid', 'the', 'parcc', 'tests', 'are', 'or', 'the', 'lyrics', 'to', 'trap', 'queen', 'for', 'the', 'writing', 'portion', 'tomorrow'], ['#np', 'never', 'too', 'late', '-', 'three', 'days', 'grace', '&lt;', '3'], ['“@cnnbrk', ':', 'At', 'least', '11', 'wounded', 'in', 'Mother', \"'s\", 'Day', 'shooting', 'in', 'New', 'Orleans', '.', '<URL>', '”', 'Right', '.', 'Gun', 'control', \"isn't\", 'needed', '....'], ['<URL>', 'If', 'you', 'still', \"haven't\", 'read', 'my', 'recap', 'of', 'the', 'Thunderpussy', 'show', 'from', 'last', 'thursday', ',', 'give', 'it', 'a', 'little', 'read', '.'], ['Losing', 'to', 'the', 'Penguins', 'quasi-AHL', 'lineup', 'in', 'December', 'is', 'a', 'non', 'issue', 'for', 'Tampa', 'Bay', '.', 'Losing', 'Ben', 'Bishop', 'on', 'the', 'other', 'hand', '...'], ['...', 'and', 'the', 'rules', 'are', '?', '#corny', 'RT', '<USR>', ':', \"I've\", 'said', 'it', 'before', 'and', \"I'll\", 'say', 'it', 'again', ':', 'Indian', 'food', 'RULES', '.'], ['Lohan', 'faces', 'more', 'jail', 'after', 'failed', 'drug', 'test', ':', 'Per', 'the', 'terms', 'of', 'her', 'probation', 'in', 'her', 'DUI', 'case', 'as', 'laid', 'out', 'last', 'mont', '...', '<URL>'], ['Thanks', 'to', 'all', 'who', 'tuned', 'in', 'to', 'my', 'show', 'on', '<URL>', 'the', 'last', 'two', 'days', '.', 'Ending', 'with', 'Herbie', '&amp;', 'Freddie', '!'], ['RT', '<USR>', ':', 'Time', 'Is', 'Money', ',', \"Don't\", 'Have', 'Time', 'For', 'That', 'Other', 'Shit', '*'], ['Let', \"'s\", 'get', 'this', 'show', 'on', 'the', 'road', '!', 'May', 'you', 'have', 'an', 'easy', 'fast', 'and', 'be', 'inscribed', 'for', 'a', 'good', 'year', '.', 'Gmar', 'Chatimah', 'Tova', '!', '#YomKippur', '#5771'], ['RT', '<USR>', ':', '$HBC', ':', 'Citizens', 'Bank', ',', 'HSBC', 'Mortgage', 'Rates', 'Climbing', 'Today', 'Jan', '25', ',', '2015', ':', '<URL>'], ['RT', '<USR>', ':', 'Let', 'the', 'music', 'play', 'all', 'day', '...', 'why', 'not', 'it', \"'s\", 'a', 'feel', 'good', 'Friday', ':)'], ['RT', '<USR>', ':', 'We', 'go', 'back', 'to', 'school', 'next', 'Wednesday', '....', 'Where', 'did', 'summer', 'go', '?'], ['Our', 'Favorite', 'YouTube', 'Videos', 'This', 'Week', ':', 'The', 'Drama', 'Edition', ':', 'Had', 'any', 'epic', 'meltdowns', 'this', 'week', '?', 'You', 'know', ',', 'of', 'the', 'cryin', '...', '<URL>'], ['<USR>', 'Hi', ',', 'you', 'may', 'want', 'to', 'check', 'out', 'new', 'exciting', 'mobile', 'app', '<USR>', 'to', 'organize/share', 'yr', 'photos/videos', '<URL>'], ['Conference', 'Finals', ',', 'then', 'UFC', '187', '!', 'Magandang', 'Sunday', \"'\", 'to', '!'], ['<USR>', 'So', 'can', 'I', 'call', 'in', 'sick', 'on', 'my', 'last', 'day', 'on', 'the', 'job', 'so', 'I', 'can', 'go', 'out', 'there', 'and', 'look', 'at', 'it', '?', ':-)'], ['Information', 'Underground', ':', 'This', 'Week', 'on', 'Information', 'Underground', '<URL>'], ['null', 'May', '21', ',', '2015', 'at', '11:06', 'PM', '<URL>', 't', '.', '//'], ['Yahoo', 'News', 'Tech', ':', 'Wendy', \"'s\", 'looks', 'into', 'claims', 'of', 'a', 'credit', 'card', 'data', 'breach', '<URL>'], ['Ask', 'your', 'self', 'if', 'what', 'you', 'are', 'doing', 'today', 'is', 'getting', 'you', 'closer', 'to', 'what', 'you', 'want', 'to', 'be', 'tomorrow'], ['The', 'shooting', 'tonight', 'at', 'the', 'club', 'in', 'San', 'Jose', '#chrisbrown', 'All', 'fun', 'in', 'games', 'till', 'come', 'in', 'to', 'play', '<URL>'], ['GPS', 'Sun', 'Shade', 'for', 'Garmin', 'nuvi', '1100', '1100LM', '1200', '1210', '1240', '1245', '1250', '1260T', 'fo350g', '<URL>', '<URL>'], ['Slides', '\"', 'Exo', 'browser', '\"', '<URL>', 'Orchestrez', 'votre', '#Chrome', 'via', 'un', 'environnement', '#NodeJS', '<URL>', '…', 'via', '#ParisJS'], ['Berkeley', '#weather', 'on', 'May', '6', ',', '2015', '-', '05/06/2015', '<URL>'], ['<USR>', 'yea', 'yea', 'yea', '...', 'How', 'was', 'your', 'day', '?'], ['Officer-involved', 'shooting', 'reported', 'in', 'St', '.', 'Louis', '<URL>'], ['One', 'day', 'the', 'things', 'i', 'say', 'and', 'do', 'is', 'gonna', 'get', 'me', 'a', 'nice', 'slap', '..'], ['It', \"'s\", 'the', 'fescue', 'turf', 'grass', 'aeration', '&amp;', 'overseeding', 'season', 'for', 'Atlanta', '&amp;', 'N', '.', 'Georgia', '.', 'Do', 'some', 'evaluation', '&amp;', 'planning', 'beforehand', ',', 'there', \"'s\", 'time'], ['Congrats', 'Greyhounds', '!', '#CarmelIN', 'MT', '<USR>', 'Girls', 'basketball', 'defeats', 'Kokomo', '68-37', '.', 'Hounds', 'host', 'NC', 'on', 'Friday', '.'], ['What', 'a', 'day', '&lt;', '3'], ['RT', '<USR>', ':', 'all', 'the', 'girls', 'participating', 'in', '#WasteHisTime2016', 'once', 'february', '14th', 'rolls', 'around', '<URL>'], ['TUESDAY', ',', 'NOVEMBER', '2nd', '<URL>', '<URL>'], ['Yay', '.', '<USR>', 'is', 'coming', 'to', 'see', 'me', 'next', 'week', '...', 'plotting', 'my', 'cooking', 'now', '!'], ['Madi', 'tossing', 'out', 'the', '1st', 'pitch', 'at', 'the', '<USR>', 'game', '.', 'Followed', 'up', 'with', 'a', 'cartwheel', 'and', 'dance', 'jump', '.', '<URL>'], ['The', 'office', 'debate', 'today', \"isn't\", 'about', 'fonts', 'or', 'UX', '.', 'Let', \"'s\", 'get', 'serious', '-', 'why', 'does', 'our', 'Spring', 'start', 'on', 'Feb', '1st', '?', 'Answer', ':', '<URL>'], ['inspired', 'yet', 'again', 'to', 'write', '..', 'cant', 'wait', 'to', 'share', 'my', 'testimony', '..', 'cant', 'wait', 'for', 'the', 'day', 'when', 'im', 'taken', 'underwater', 'brought', 'back', 'up', '..', 'BORN', 'AGAIN'], ['Been', 'a', 'long', 'week', '.', 'Tired', '.', 'Sleep', 'now', 'please', '.'], ['<USR>', 'half', 'the', 'time', 'in', 'inglewood', 'the', 'other', 'half', 'in', 'mv', '...', 'where', 'u', 'been'], ['ca', '<URL>', 'January', '02', ',', '2016', 'at', '09:31', 'PM'], ['RT', '<USR>', ':', 'Pisces', 'tend', 'to', 'escape', 'into', 'fantasy', 'and', 'day', 'dreams', '.', 'There', 'they', 'are', 'free', '.'], ['Had', 'to', 'be', 'at', 'work', 'at', '8:30', 'today', 'and', 'tomorrow', 'at', '7', '.....', 'What', 'is', 'life', '?', 'What', 'is', 'sleep', '?'], ['RT', '<USR>', ':', 'Have', 'an', 'audition', 'today', 'and', 'could', 'use', 'some', 'major', 'prayers', '!', '#happy', '#monday', '#wazzaaaa', '<URL>'], ['RT', '<USR>', 'Wanna', 'meet', 'me', ',', '<USR>', ',', '<USR>', ',', 'and', '<USR>', '?', 'Come', 'to', 'the', 'Body', 'Heat', 'signing', 'at', 'Hustler', 'Hollywood', 'Sep', '23rd', '8-10pm'], ['You', 'may', 'be', 'entangled', 'in', 'a', 'complicated', 'relationship', 'situation', 't', '...', 'More', 'for', 'Virgo', '<URL>'], ['November', '19', ',', '2015', 'at', '02:46', 'AM', 'whyyzed', '<URL>'], ['Our', 'prayers', 'and', 'thoughts', 'are', 'with', 'them', '.', 'May', 'Allah', 'grant', 'Jannah', 'to', 'those', 'who', 'have', 'died', 'in', 'the', 'incident', 'in', 'Mecca', '.', '#prayforMecca'], [\"'RT\", '<USR>', ':', 'I', 'remember', 'when', 'myspace', 'was', 'a', 'big', '\"', 'who', 'has', 'the', 'most', 'free', 'time', 'on', 'their', 'hands', 'to', 'make', 'their', 'page', 'look', 'the', 'coolest', '\"', 'comp', \"...'\"], ['RT', '<USR>', ':', 'Sun', ',', 'swim', ',', 'surf', '&amp;', 'SAVE', 'BIG', '!', '<URL>', 'Discount', 'Code', ':', '#LABORDAY14', '#Etsymntt', '#EtsySale', '#DiscountCodes'], ['Drunk', 'on', 'a', 'Sunday', 'in', 'jcs'], ['Hala', 'feeling', 'ko', 'lagi', 'today', 'may', 'natawag', 'saken', '.', 'O', '.', 'o'], ['#Monday', '#MemorialDay', '#BoyleHeights', '#LA', '#Cobber', '#ThisGuy', '<URL>'], ['<USR>', \"I've\", 'had', 'one', 'before', ',', 'but', 'it', 'was', 'a', 'short', 'experience', '(', 'double', 'entendre', 'intended)', '.'], ['RT', '<USR>', ':', 'On', 'my', 'way', 'to', 'crash', 'Justin', 'Bieber', \"'s\", '21st', 'birthday', 'party', '<URL>'], ['May', 'the', 'force', 'be', 'with', 'you', '<URL>'], ['A', 'good', 'saturday', 'laugh', '!', '<URL>'], ['RT', '<USR>', ':', 'I', 'want', 'to', 'sleep', 'all', 'day', 'tomorrow'], ['RT', '<USR>', ':', 'Check', 'us', 'out', '-', 'we', \"'re\", 'FEATURED', 'on', 'iTunes', 'this', 'week', '!', 'Make', 'sure', 'to', 'subscribe', 'so', 'Jobs', 'knows', 'you', 'love', 'us', '<URL>'], ['My', 'mom', 'bought', 'me', 'pizza', 'for', 'lunch', 'today', '.', 'May', 'I', 'drown', 'in', 'my', 'tears', '?'], ['Triple', 'H', 'Doing', 'A', 'Twitter', 'Q', '&amp;', 'A', 'Right', 'Now', ',', 'WWE', 'To', 'Tape', 'NXT', 'Tomorrow', 'Night', ',', '&amp;', 'More', 'News', '<URL>'], ['Starpoint', 'Resort', 'Group', 'Highlights', 'Comedy', 'Shows', 'in', 'July', 'at', 'the', 'Mirage', '<URL>'], ['Been', 'working', 'like', 'crazy', 'these', 'past', 'couple', 'dayzz', '-__-', '...', 'well', 'at', 'least', 'for', 'a', 'high', 'school', 'student', '...', 'got', 'home', 'today', 'and', 'CRASHED', '=D'], [\"IT'S\", 'SEPTEMBER', 'LIKE', 'THANK', 'YOU', 'SUMMER', ',', \"YOU'VE\", 'HAD', 'UR', 'SPOTLIGHT', 'AND', 'MY', 'TEAM', 'PEETA', 'SWEATSHIRT', 'IS', 'WAITING', 'SO', 'LEAVE', 'AND', 'TELL', 'WINTER', 'TO', 'COME', 'BYE'], ['Salamat', '<URL>'], ['Wow', ',', 'Snapchat', 'is', 'really', 'being', 'cavalier', 'about', 'their', 'data', 'breach', '.', '<URL>'], ['<USR>', '<USR>', '-', 'just', 'in', 'case', 'you', 'missed', 'it', '#vlogIT15', 'for', 'Vloggers', '<URL>'], ['Hey', 'guys', ',', 'I', 'hope', 'you', 'enjoyed', 'your', 'summer', '.', 'This', 'Sunday', 'we', 'are', 'doing', 'a', 'youth', 'service', 'at', 'church', '.', 'Was', 'wondering', 'if', '...', '<URL>'], ['<USR>', 'Do', 'you', 'have', 'any', 'pic', \"'s\", 'from', 'your', 'wedding', 'day', 'hun', 'I', 'would', 'like', 'to', 'see', 'them'], ['Who', 'says', 'he', \"didn't,\", 'he', 'orchestrated', 'the', 'FEB', '14', 'elections', 'postponement', '.', '<URL>'], ['!', '<URL>'], [\"I'm\", 'at', 'Bowl', 'Long', 'Island', '(', '138', 'West', 'Ave', ',', 'Patchogue)', '.', '<URL>'], ['#Apple’s', 'Security', '#Breach', 'Sheds', 'Light', 'On', 'Upcoming', 'Cyber', 'Talks', 'With', '#China', '<URL>', 'via', '<USR>', 'thinkprogresspic.twitter.com/N29q8gCZAr'], ['RT', '<USR>', ':', 'Nobody', 'gives', 'a', 'hoot', 'which', 'months', 'baby', 'you', 'are', '....', 'youre', 'an', 'adult', 'now', 'how', 'about', 'you', 'stop', 'with', 'the', 'October', 'baby', 'bs', '?'], ['You', 'blink', 'when', 'you', 'breathe', 'and', 'you', 'breathe', 'when', 'you', 'lie', '.', 'You', 'blink', 'when', 'you', 'lie', '.'], ['Aaron', 'Alexis', ',', '34', ',', 'is', 'dead', 'gunman', 'in', 'Navy', 'Yard', 'shooting', ',', 'authorities', 'say', '-', 'The', 'Washington', 'Post', '<URL>', '…'], ['<USR>', 'he', 'just', 'sat', 'on', 'Carol', \"'s\", 'tomatoes'], ['RT', 'Crof', ':', 'Saudi', 'Arabia', ':', 'One', 'new', '#MERS', 'case', ',', 'no', 'deaths', 'as', 'of', 'noon', 'January', '19', '<URL>'], ['..', 'monday', '!', '<USR>', '#Monday', '#detox', '#afterweekend', '#tea', '<URL>'], ['Brooklyn', 'House', 'Party', 'Gunmen', 'Caught', 'On', 'Camera', ':', 'Surveillance', 'footage', 'captures', 'the', 'shooting', ',', 'which', 'injured', 'nine', ',', '...', '<URL>'], ['<USR>', 'CEO', 'talks', 'about', 'breach', 'on', 'Today', 'Show', '.', '#smsportschat', '#snapchat', '<URL>', '…'], ['March', '01', ',', '2015', 'at', '01:48', 'AM', '#TFB', '#TeamFollowBack', '#TFB', '#TFW', '#FF', '<URL>'], ['Hangover', 'Sunday', '!', 'Come', 'and', 'taste', 'some', 'juicy(and', 'huge', ')', 'burgers', '!', 'We', 'open', '12', 'and', 'close', 'latest', 'at', '16', 'Welcome', '!'], ['Time', 'to', 'go', ',', 'hihi', '!', 'Beijinhos', ',', 'seus', 'viciados', ':', '*'], ['Video', ':', 'Fire', ',', 'shooting', 'near', 'Santa', 'Monica', 'College', '-', 'LA', 'Daily', 'News', '<URL>', '…'], ['January', '31', ',', '2015', 'at', '06:03', 'AM', ',', '#Vaginal', '#Yeast', 'Infection', 'manifestation', 'can', 'vary', ',', 'learn', 'at', '<URL>'], ['RT', '<USR>', 'Naast', 'de', 'theatertour', 'die', 'komende', 'week', 'weer', 'aanvangt', 'ziet', 'u', 'mijn', 'pan', 'ook', 'op', 'tv', ':', 'ma', '.', 'Co-ass', '.,', 'di', '.', 'Opium', 'en', 'do', '.', 'Koffi', '...'], ['Movie', 'Alert', '-', 'IF', 'TOMORROW', 'NEVER', 'COMES', 'by', '<USR>', 'comes', 'to', 'cinemas', 'near', 'you', 'tomorrow', '.', 'Tickets', 'available', 'now', '<URL>'], ['Yay', ',', 'just', 'ordered', 'new', 'tragus', 'bars', ':)', 'Hopefully', \"they'll\", 'arrive', 'on', 'Monday'], ['RT', '<USR>', ':', '11.04', '.', '10', 'is', 'gonna', 'be', 'a', 'good', 'day//yes', '..', 'I', 'turn', '18', 'lol'], ['<USR>', 'hmmm', '..', 'u', 'kno', 'when', 'happy', 'hour', 'ends', '?'], ['#Tech', 'Hackers', 'breach', 'Department', 'of', 'Energy', ',', 'steal', 'personal', 'data', 'from', '14,000', 'employees', '<URL>', '#Onlireeks'], ['You', 'may', 'be', 'locked', 'in', 'an', 'endless', 'debate', 'that', 'has', 'no', 'clear', 'winne', '...', 'More', 'for', 'Virgo', '<URL>'], ['#VIDEO', 'caliente', '#sexo', 'en', 'vivo', '<URL>', '#porno', '#sex', '#xxx', '#teen', 'May', '20', ',', '2015', 'at', '10:16', 'PM'], ['<USR>', 'Can', 'I', 'get', 'a', 'Twitter', 'software', 'to', 'spew', 'random', 'bullshit', 'about', 'airports/coffee/conferences', '?', 'Cause', 'that', 'would', 'free', 'up', 'some', 'time', '.'], ['RT', '<USR>', ':', 'SCANS', ':', '<USR>', 'Hola', 'Mexico', 'December', '24', ',', '2014', '<URL>', '<URL>'], ['Hello', 'and', 'happpppy', 'Saturday', 'Adam', '!', 'How', 'are', 'you', 'today', '?', 'Have', 'a', 'nice', 'day', ':)', '<USR>'], ['San', 'Bernardino', 'shooting', ':', 'bomb', 'squad', 'arrives', 'at', 'scene', '–', 'rolling', 'coverage', ':', '-', '‘One', 'to', 'three…', '<URL>'], ['<USR>', '<USR>', '<USR>', '<USR>', '<USR>', 'jan', 'di', 'amplas', '....', 'Kacian', '...'], ['<URL>', 'January', '11', ',', '2015', 'at', '05:42', 'PM', '<URL>'], ['Twitter', ',', 'Pinterest', 'and', 'Tumblr', 'Notify', 'of', 'Security', 'Breach', 'After', 'Zendesk', 'Hack', '<URL>'], ['HAPPY', '21st', 'Gerry', '!!!!', '<USR>'], ['RT', '<USR>', ':', 'School', 'tomorrow', 'is', 'a', 'no', 'go'], ['Having', 'movie', 'night', 'tonight', 'at', 'the', 'crib', 'and', 'ur', 'not', 'invited', '*BBM', 'sticks', 'tongue', 'out', 'smiley*'], ['Now', 'airing', '&gt;', 'August', 'Alsina', '-', 'Nicki', 'Minaj', '-', 'No', 'Love', '&gt;', 'Follow', '#RadioNightItaly', 'On', 'Web', '<URL>', '#staytuned'], ['There', 'is', 'like', 'no', 'mayo', 'on', 'this', 'sandwich', '!', 'Ugh', '....', 'next', 'time', 'Im', 'going', 'with', 'my', 'dad'], ['That', \"'s\", '1:55', 'pm', 'EST', 'for', 'us', 'Yanks', '.', '#ecigsummit', '<URL>'], [\"'I\", 'just', 'got', 'confirmed', 'that', 'me', 'and', 'Jorge', 'will', 'be', 'playing', '2', 'songs', 'from', '\"', 'The', 'Devils', 'Art', '\"', 'at', 'Words', 'and', 'Wine', 'September', '...', '<URL>'], ['Walking', 'into', 'form', 'and', 'not', 'seeing', 'Mr', 'Smithson', 'tomorrow', 'is', 'going', 'to', 'be', 'quite', 'sad'], ['RT', '<USR>', ':', 'She', \"'s\", 'living', 'with', 'her', 'family', ':-)', '#OTWOLManilaInLove', '<URL>'], ['<USR>', 'Me', 'neither', '.', 'I', 'will', 'think', 'of', 'witty', 'replies', 'a', 'week', 'later', '!', 'My', 'mind', 'will', 'be', 'a', 'complete', 'blank', 'I', 'know', 'it', '!'], ['going', 'to', 'have', 'to', 'go', 'to', 'bed', 'before', 'i', 'cry', '.', 'wish', 'you', 'would', 'make', 'an', 'effort', 'to', 'be', 'there', 'for', 'me', 'like', 'i', 'am', 'for', 'you', '.'], ['Wake', 'me', 'up', 'when', 'September', 'ends', '...', 'hahah', 'chos', '!', '#ALDUBBaeYaya'], ['RT', '<USR>', ':', 'That', \"'s\", 'the', 'spirit', 'the', 'wholeDelhi', 'is', 'showing', '#IamWithOddEven', '<URL>'], ['RT', '<USR>', ':', 'everyone', 'at', 'school', 'tomorrow', '<URL>'], ['Nah', '.', 'Not', 'just', 'nice', '\"', '<USR>', ':', 'Forbidden', '?\"', '<USR>', ':', 'Ni', 'aro', 'kutukutu', 'Monday', '?', '\"', '<USR>', ':', 'Jack', 'Daniels', 'for', 'the', 'sorrows', '\"\"\"'], ['RT', '<USR>', ':', 'Is', 'it', 'Sunday', 'yet', '?', '#Eagles'], ['<USR>', 'Hari', 'ini', 'hari', 'Selasa', ',', 'Tanggal', '14', 'Bulan', 'April', 'Tahun', '2015', 'Jam', '16:01', ':', '03'], ['All', 'caught', 'up', 'on', '<USR>', '!', 'After', 'eating', 'a', 'full', 'meal', 'that', 'was', 'the', 'next', 'thing', 'on', 'my', 'list', 'to', 'do', 'after', 'graduating', '!'], ['Soccer-Romanian', 'championship', 'results', 'and', 'standings', ':', 'May', '1', '(', 'Infostrada', 'Sports', ')', '-', 'Results', 'and', 'standings', 'from', '...', '<URL>', '#RT'], ['RT', '<USR>', ':', 'Okaaay', '!', 'RT', '<USR>', ':', 'Want', 'a', 'chance', '2', 'meet', 'Boris', 'Kodjoe', '?', \"He'll\", 'be', 'in', 'NYC', 'for', 'a', 'meet', 'n', 'greet', 'next', 'Wednesday', '!', 'http', '...'], ['Shooting', 'on', 'LASALLE', 'BLVD', 'AND', 'W', 'GRAND', 'ST', ',', 'Detroit', ',', 'MI', '(', 'via', '<URL>', ')', ':', 'Shooting/Stabbing', '.', 'PD', 'OS', '4', 'p', '...', '<URL>'], ['Amex', 'breach', 'by', 'Anonymous', 'impacts', '77,000', 'Cal', 'cardholders', '<URL>', '…'], ['Top', 'M&amp;A', 'news', 'of', 'the', 'week', '-', '#India', '#Infoline', '-', '#Mauritius', '-', '#World', '&gt;', '<URL>'], ['<USR>', 'Great', 'documentary', '.', 'I', 'may', 'or', 'may', 'not', 'have', 'cried', '.'], ['Microsoft', 'fined', 'by', 'China', 'for', 'breach', 'of', 'rules', 'with', 'Xbox', 'division', '<URL>', '…'], ['<USR>', 'we', 'Apple', 'iPhone', 'owners', 'are', 'in', 'better', 'hands', 'against', 'security', 'breach', 'than', 'our', 'government', '!', 'Stand', 'for', 'Apple', '.'], ['\"', 'Can', 'you', 'believe', 'that', '?', 'They', 'sent', 'a', 'woman', '.', 'That', \"'s\", 'like', 'sending', 'a', 'marshmallow', 'to', 'put', 'out', 'a', 'bonfire', '.\"', '-', 'Jan', '(', 'Doris', 'Day', ')', 'in', 'Pillow', 'Talk', '(', '1959', ')'], [\"Don't\", 'forget', 'tomorrow', 'is', 'Martin', 'Luther', 'King', 'Jr', 'Day', '.', 'We', 'will', 'not', 'be', 'having', 'school', '.', 'See', 'you', 'all', 'on', 'Tuesday', '!', 'Go', 'Colts', '!'], ['<USR>', 'Well', ',', 'when', 'you', 'are', '9th', 'in', 'line', 'to', 'the', 'throne', ',', 'you', 'need', 'some', 'legal', 'representation', '.'], ['I', \"can't\", 'stop', 'listening', 'to', 'August', 'Alsina'], ['RT', '<USR>', ':', 'Homemade', 'PAPALOTE', 'Vegan', 'Soyrizo', 'Tamales', 'and', 'Soyrizo', 'Tamales', 'at', 'OFF', 'the', 'GRID', 'Fort', 'Mason', 'at', '5PM', 'TODAY', '!!', '&lt;', '&lt;', 'salsa', ',', 'salsa', ',', 'my', 'fav'], ['#March', 'News', 'letter', '<URL>', '#newsletter', '#Success', '#LifeCoaching', '#Cyprus'], ['May', 'hara', 'na', 'pa', '#ALDUBmeetsTVJ'], ['RT', '<USR>', ':', 'Monday', 'Nights', '.', '<URL>'], ['Oh', 'PEI', ',', 'i', 'always', 'forget', 'how', 'beautiful', 'you', 'are', '.', 'Especially', 'when', 'you', 'stop', 'hanging', 'out', 'with', 'tourists', '.'], ['Two', 'deceased', 'males', 'found', 'inside', 'burned-out', 'home', 'near', 'Santa', 'Monica', 'shooting', '-', 'LA', 'Fire', 'on', '<USR>', 'air', '<URL>', 'via', '<USR>'], ['Congratulations', 'to', '<USR>', 'for', 'winning', 'the', 'UK', 'Champion', 'Flat', 'Owner', 'award', 'for', 'a', '10th', 'time', '!', '<URL>', '<URL>'], ['TalkTalk', 'could', 'receive', '£', '500,000', 'fine', 'for', 'data', 'breach', ':', 'Bank', 'and', 'credit', 'card', 'information', 'of', '4', 'million', 'TalkTalk', 'c', '...', '<URL>'], [\"'RT\", '<USR>', '\"', 'Good', 'Morning', '!', 'Have', 'a', 'pleasant', 'and', 'happy', 'day', '!\"', '<URL>'], ['<USR>', 'Help', 'restore', '#Biafra', 'from', 'BOKO', 'HARAM', 'Nigeria', '.', '#Biafrans', 'will', 'NOT', 'vote', 'in', '#2015Elections', '.', 'Nigeria', 'expired', '31st', 'December', '2013', '.'], ['<USR>', 'Hi', 'there', '!', 'The', 'book', '\"', 'HTML', 'Programming', 'Language', '\"', 'if', 'FREE', 'from', 'April', '8-12', '.', 'Grab', 'a', 'copy', 'now', '!!!', 'Link', ':', '<URL>'], ['RT', '<USR>', ':', 'Me', 'the', 'entire', 'month', 'of', 'October', '<URL>'], ['Twitter', ',', 'Pinterest', 'and', 'Tumblr', 'Notify', 'of', 'Security', 'Breach', 'After', 'Zendesk', 'Hack', '<URL>'], ['I', 'think', 'that', 'today', 'the', 'party', 'has', 'been', 'canceled', 'makes', 'too', 'much', 'air', 'in', 'the', 'street', 'loll', '.', 'miss', 'u', 'twitfriends', '.', 'xx'], ['The', 'Weeknd', \"'s\", 'BBTM', '&gt;', '&gt;', '&gt;', '&gt;', '&gt;', 'Justin', 'bieber', 'new', 'album', '|||', 'August', '28', '2015', 'belongs', 'to', 'XO', '.'], ['#Deadly', 'Shooting', 'Reported', 'on', 'Northern', 'Arizona', 'University', \"'s\", 'Flagstaff', 'Campus', '#jobs', '#followingjob', '#cachejobs', '#jo', '...', '<URL>'], ['“@cnnbrk', ':', 'At', 'least', '11', 'wounded', 'in', 'Mother', \"'s\", 'Day', 'shooting', 'in', 'New', 'Orleans', '.', '<URL>', '”', \"you've\", 'gotta', 'be', 'kidding', 'me', '...'], ['Washington', 'Marysville', 'Pilchuck', 'High', 'School', 'Reports', 'Shooting', '-', '<URL>', '…', 'pic.twitter.com/j7jrUDUhSS'], ['On', 'June', '8', ',', '1784', ',', 'Madison', 'introduced', 'his', 'bill', 'proposing', 'amendments', ',', 'known', 'know', 'as', 'the', 'Bill', 'of', 'Rights', '<URL>'], ['Reports', 'of', 'Up', 'to', '12', 'Dead', 'in', 'San', 'Bernardino', 'Shooting', ':', 'Sources', '<URL>'], ['Oct', '.', '29th', 'auction', 'preview', 'video', ':', '<URL>', 'via', '<USR>'], ['<USR>', 'sheeeeeeeeeeeeeet', '.', 'ang', 'hirap', '.', 'tho', 'sana', 'may', 'ganyang', 'Filipino', 'words', 'talaga', 'maliban', 'sa', 'hiram', 'na', 'salita', 'hahaha'], ['Dates', 'for', 'your', 'diaries', ':', 'our', 'next', 'professional', 'English', 'language', 'course', 'for', 'Radiographers', 'will', 'take', 'place', 'on', 'Monday', '...', '<URL>'], ['Day', 'One', ':', 'Ten', 'things', 'you', 'want', 'to', 'say', 'to', 'ten', 'different', 'people', 'right', 'now', '-', '1', ')', 'Eduardo', 'Surita', ':', 'your', 'a', 'freaking', '...', '<URL>'], ['RT', '<USR>', ':', 'i', 'was', 'watching', 'all', 'the', 'footage', 'on', 'my', 'camera', 'from', 'the', 'past', 'few', 'months', 'and', 'if', \"i'd\", 'actually', 'finish', 'what', 'i', 'was', 'talking', 'abou', '...'], ['So', 'sad', 'yet', 'another', 'mass', 'shooting', 'in', 'the', 'US', '.', 'Guns', 'are', 'good', 'right', '?', '<URL>', '…'], ['YOU', '!', '<USR>', '!', 'Do', 'you', 'want', 'to', 'go', 'to', 'art', 'showing', 'with', 'me', '?', 'At', '7', '?', 'Tomorrow', '?', 'Please', '?', '&lt;', '3', 'you'], ['I', 'hope', 'the', 'weeks', 'keep', 'flying', '.', 'It', \"'s\", 'actually', 'fantastic', 'the', 'way', 'none', 'of', 'the', 'days', 'dragged', 'this', 'week', '....', 'like', 'NONE', '.', ':D'], ['Muhammad', 'Youssef', 'Abdulazeez', ':', '5', 'Fast', 'Facts', 'You', 'Need', 'to', 'Know', '<URL>', '…'], ['Houston-based', 'Landry', \"'s\", 'restaurant', 'chain', 'reports', 'data', 'breach', ':', 'The', 'Landry', \"'s\", 'Inc', '.', 'restaurant', 'chain', 'ha', '...', '<URL>', '#Technology'], ['<USR>', 'or', 'the', 'best', 'is', 'just', 'walking', 'along', 'the', 'road', 'when', 'a', 'clump', 'of', 'it', 'just', 'appears', 'to', 'be', 'waiting', 'in', 'front', 'of', 'you', 'all', 'that', 'time', '#icky'], ['RT', '<USR>', ':', 'Apparently', 'interacting', 'with', 'dogs', 'within', 'the', '1St', 'year', 'of', 'life', 'can', 'cut', 'asthma', 'risk', 'by', '13%', '<URL>'], ['Hey', '<USR>', ',', 'did', 'you', 'ever', 'ship', 'the', 'shot', 'glasses', '?', 'I', 'know', 'you', 'were', 'going', 'to', 'on', 'Monday', ',', 'but', 'it', 'still', 'says', 'only', 'preshipment', 'info', 'has', 'been', 'sent', '.'], ['<URL>', 'breach', 'exposes', '13.4', 'million', 'passwords', '<URL>', 'pic.twitter.com/55kIs5RQlg'], ['RT', '<USR>', ':', 'ITS', 'FRIDAY', '<URL>'], ['Foooooootball', 'game', 'toooonight', '.', 'then', 'auburn', 'game', 'tomorrow', '!!!!', 'war', 'damn', 'eagle', '!!!'], ['<USR>', 'Two', 'tracks', '-', 'RGA', '&amp;', 'DGA', 'ads', 'came', 'out', 'at', 'same', 'time', '-', 'neither', 'candidate', 'has', 'control', 'of', 'those', 'org', \"'s\", 'Mitchell', 'ad', 'as', '<USR>', '1/2'], ['I', 'feel', 'like', 'there', 'was', 'something', 'i', 'as', 'suppossed', 'to', 'do', 'today', '....'], ['Costco', 'Irvine', 'has', 'fresh', 'sushi', 'samples', 'today', '.', 'Awesome', '.'], ['<USR>', 'Meeting', 'running', 'longer', 'than', 'expected', ',', \"doesn't\", 'look', 'like', 'it', 'sir', ',', 'sorry', '!', 'I', 'will', 'be', 'back', 'on', 'tomorrow', 'for', 'sure', '!', '8pm', 'EDT', 'or', 'earlier']]\n"
          ],
          "name": "stdout"
        }
      ]
    },
    {
      "cell_type": "markdown",
      "metadata": {
        "id": "GODFsYxU77AH",
        "colab_type": "text"
      },
      "source": [
        "You should always understand what kind of data you deal with. For this purpose, you can print the data running the following cell:"
      ]
    },
    {
      "cell_type": "code",
      "metadata": {
        "id": "dVZkH5YK77AI",
        "colab_type": "code",
        "colab": {
          "base_uri": "https://localhost:8080/",
          "height": 1000
        },
        "outputId": "4060c1ba-b79c-423e-8224-1adcb69c1240"
      },
      "source": [
        "for i in range(3):\n",
        "    for token, tag in zip(train_tokens[i], train_tags[i]):\n",
        "        print('%s\\t%s' % (token, tag))\n",
        "    print()"
      ],
      "execution_count": null,
      "outputs": [
        {
          "output_type": "stream",
          "text": [
            "RT\tO\n",
            "<USR>\tO\n",
            ":\tO\n",
            "Online\tO\n",
            "ticket\tO\n",
            "sales\tO\n",
            "for\tO\n",
            "Ghostland\tB-musicartist\n",
            "Observatory\tI-musicartist\n",
            "extended\tO\n",
            "until\tO\n",
            "6\tO\n",
            "PM\tO\n",
            "EST\tO\n",
            "due\tO\n",
            "to\tO\n",
            "high\tO\n",
            "demand\tO\n",
            ".\tO\n",
            "Get\tO\n",
            "them\tO\n",
            "before\tO\n",
            "they\tO\n",
            "sell\tO\n",
            "out\tO\n",
            "...\tO\n",
            "\n",
            "Apple\tB-product\n",
            "MacBook\tI-product\n",
            "Pro\tI-product\n",
            "A1278\tI-product\n",
            "13.3\tI-product\n",
            "\"\tI-product\n",
            "Laptop\tI-product\n",
            "-\tI-product\n",
            "MD101LL/A\tI-product\n",
            "(\tO\n",
            "June\tO\n",
            ",\tO\n",
            "2012\tO\n",
            ")\tO\n",
            "-\tO\n",
            "Full\tO\n",
            "read\tO\n",
            "by\tO\n",
            "eBay\tB-company\n",
            "<URL>\tO\n",
            "<URL>\tO\n",
            "\n",
            "Happy\tO\n",
            "Birthday\tO\n",
            "<USR>\tO\n",
            "!\tO\n",
            "May\tO\n",
            "Allah\tB-person\n",
            "s.w.t\tO\n",
            "bless\tO\n",
            "you\tO\n",
            "with\tO\n",
            "goodness\tO\n",
            "and\tO\n",
            "happiness\tO\n",
            ".\tO\n",
            "\n"
          ],
          "name": "stdout"
        }
      ]
    },
    {
      "cell_type": "markdown",
      "metadata": {
        "id": "raubKtoG77AL",
        "colab_type": "text"
      },
      "source": [
        "### Prepare dictionaries\n",
        "\n",
        "To train a neural network, we will use two mappings: \n",
        "- {token}$\\to${token id}: address the row in embeddings matrix for the current token;\n",
        "- {tag}$\\to${tag id}: one-hot ground truth probability distribution vectors for computing the loss at the output of the network.\n",
        "\n",
        "Now you need to implement the function *build_dict* which will return {token or tag}$\\to${index} and vice versa. "
      ]
    },
    {
      "cell_type": "code",
      "metadata": {
        "id": "Gt_tJgEF77AM",
        "colab_type": "code",
        "colab": {}
      },
      "source": [
        "from collections import defaultdict"
      ],
      "execution_count": null,
      "outputs": []
    },
    {
      "cell_type": "code",
      "metadata": {
        "id": "leQrKkku77AR",
        "colab_type": "code",
        "colab": {}
      },
      "source": [
        "def build_dict(tokens_or_tags, special_tokens):\n",
        "    \"\"\"\n",
        "        tokens_or_tags: a list of lists of tokens or tags\n",
        "        special_tokens: some special tokens\n",
        "    \"\"\"\n",
        "    # Create a dictionary with default value 0\n",
        "    tok2idx = defaultdict(lambda: 0)\n",
        "    idx2tok = []\n",
        "    k = 0\n",
        "    # Create mappings from tokens (or tags) to indices and vice versa.\n",
        "    # At first, add special tokens (or tags) to the dictionaries.\n",
        "    # The first special token must have index 0.\n",
        "    \n",
        "    # Mapping tok2idx should contain each token or tag only once. \n",
        "    # To do so, you should:\n",
        "    # 1. extract unique tokens/tags from the tokens_or_tags variable, which is not\n",
        "    #    occur in special_tokens (because they could have non-empty intersection)\n",
        "    # 2. index them (for example, you can add them into the list idx2tok\n",
        "    # 3. for each token/tag save the index into tok2idx).\n",
        "    \n",
        "    for line in special_tokens:\n",
        "        tok2idx[line]=k\n",
        "        k+=1\n",
        "        idx2tok.append(line)\n",
        "        \n",
        "    for tokens in tokens_or_tags:\n",
        "        for token in tokens:\n",
        "            if token not in tok2idx: \n",
        "                tok2idx[token]=k \n",
        "                k += 1\n",
        "                idx2tok.append(token)\n",
        "    \n",
        "    return tok2idx, idx2tok"
      ],
      "execution_count": null,
      "outputs": []
    },
    {
      "cell_type": "markdown",
      "metadata": {
        "id": "edQirgQc77AX",
        "colab_type": "text"
      },
      "source": [
        "After implementing the function *build_dict* you can make dictionaries for tokens and tags. Special tokens in our case will be:\n",
        " - `<UNK>` token for out of vocabulary tokens;\n",
        " - `<PAD>` token for padding sentence to the same length when we create batches of sentences."
      ]
    },
    {
      "cell_type": "code",
      "metadata": {
        "id": "vwK6WM9a77AX",
        "colab_type": "code",
        "colab": {}
      },
      "source": [
        "special_tokens = ['<UNK>', '<PAD>']\n",
        "special_tags = ['O']\n",
        "\n",
        "# Create dictionaries \n",
        "token2idx, idx2token = build_dict(train_tokens + validation_tokens, special_tokens)\n",
        "tag2idx, idx2tag = build_dict(train_tags, special_tags)"
      ],
      "execution_count": null,
      "outputs": []
    },
    {
      "cell_type": "markdown",
      "metadata": {
        "id": "6QuYj1qw77Ab",
        "colab_type": "text"
      },
      "source": [
        "The next additional functions will help you to create the mapping between tokens and ids for a sentence. "
      ]
    },
    {
      "cell_type": "code",
      "metadata": {
        "id": "hWGciZam77Ab",
        "colab_type": "code",
        "colab": {}
      },
      "source": [
        "def words2idxs(tokens_list):\n",
        "    return [token2idx[word] for word in tokens_list]\n",
        "\n",
        "def tags2idxs(tags_list):\n",
        "    return [tag2idx[tag] for tag in tags_list]\n",
        "\n",
        "def idxs2words(idxs):\n",
        "    return [idx2token[idx] for idx in idxs]\n",
        "\n",
        "def idxs2tags(idxs):\n",
        "    return [idx2tag[idx] for idx in idxs]"
      ],
      "execution_count": null,
      "outputs": []
    },
    {
      "cell_type": "markdown",
      "metadata": {
        "id": "FPmcfm_Z77Ah",
        "colab_type": "text"
      },
      "source": [
        "### Generate batches\n",
        "\n",
        "Neural Networks are usually trained with batches. It means that weight updates of the network are based on several sequences at every single time. The tricky part is that all sequences within a batch need to have the same length. So we will pad them with a special `<PAD>` token. It is also a good practice to provide RNN with sequence lengths, so it can skip computations for padding parts. We provide the batching function *batches_generator* readily available for you to save time. "
      ]
    },
    {
      "cell_type": "code",
      "metadata": {
        "id": "eZQ6BmKx77Ah",
        "colab_type": "code",
        "colab": {}
      },
      "source": [
        "def batches_generator(batch_size, tokens, tags,\n",
        "                      shuffle=True, allow_smaller_last_batch=True):\n",
        "    \"\"\"Generates padded batches of tokens and tags.\"\"\"\n",
        "    \n",
        "    n_samples = len(tokens)\n",
        "    if shuffle:\n",
        "        order = np.random.permutation(n_samples)\n",
        "    else:\n",
        "        order = np.arange(n_samples)\n",
        "\n",
        "    n_batches = n_samples // batch_size\n",
        "    if allow_smaller_last_batch and n_samples % batch_size:\n",
        "        n_batches += 1\n",
        "\n",
        "    for k in range(n_batches):\n",
        "        batch_start = k * batch_size\n",
        "        batch_end = min((k + 1) * batch_size, n_samples)\n",
        "        current_batch_size = batch_end - batch_start\n",
        "        x_list = [] \n",
        "        y_list = []\n",
        "        max_len_token = 0\n",
        "        for idx in order[batch_start: batch_end]:\n",
        "            x_list.append(words2idxs(tokens[idx]))\n",
        "            y_list.append(tags2idxs(tags[idx]))\n",
        "            max_len_token = max(max_len_token, len(tags[idx]))\n",
        "            \n",
        "        # Fill in the data into numpy nd-arrays filled with padding indices.\n",
        "        x = np.ones([current_batch_size, max_len_token], dtype=np.int32) * token2idx['<PAD>']\n",
        "        y = np.ones([current_batch_size, max_len_token], dtype=np.int32) * tag2idx['O']\n",
        "        lengths = np.zeros(current_batch_size, dtype=np.int32)\n",
        "        for n in range(current_batch_size):\n",
        "            utt_len = len(x_list[n])\n",
        "            x[n, :utt_len] = x_list[n]\n",
        "            lengths[n] = utt_len\n",
        "            y[n, :utt_len] = y_list[n]\n",
        "        yield x, y, lengths"
      ],
      "execution_count": null,
      "outputs": []
    },
    {
      "cell_type": "markdown",
      "metadata": {
        "id": "vRUBXzkD77Al",
        "colab_type": "text"
      },
      "source": [
        "## Build a recurrent neural network\n",
        "\n",
        "This is the most important part of the assignment. Here we will specify the network architecture based on TensorFlow building blocks. It's fun and easy as a lego constructor! We will create an LSTM network which will produce probability distribution over tags for each token in a sentence. To take into account both right and left contexts of the token, we will use Bi-Directional LSTM (Bi-LSTM). Dense layer will be used on top to perform tag classification.  "
      ]
    },
    {
      "cell_type": "code",
      "metadata": {
        "id": "cSWJS8rZ77Am",
        "colab_type": "code",
        "colab": {
          "base_uri": "https://localhost:8080/",
          "height": 88
        },
        "outputId": "52abf037-a379-45fb-9e05-79b1e9f627f4"
      },
      "source": [
        "import tensorflow.compat.v1 as tf\n",
        "tf.disable_v2_behavior()\n",
        "import numpy as np"
      ],
      "execution_count": null,
      "outputs": [
        {
          "output_type": "stream",
          "text": [
            "WARNING:tensorflow:From /usr/local/lib/python3.6/dist-packages/tensorflow/python/compat/v2_compat.py:96: disable_resource_variables (from tensorflow.python.ops.variable_scope) is deprecated and will be removed in a future version.\n",
            "Instructions for updating:\n",
            "non-resource variables are not supported in the long term\n"
          ],
          "name": "stdout"
        }
      ]
    },
    {
      "cell_type": "code",
      "metadata": {
        "id": "n7Z7XTGR77Ap",
        "colab_type": "code",
        "colab": {}
      },
      "source": [
        "class BiLSTMModel():\n",
        "    pass"
      ],
      "execution_count": null,
      "outputs": []
    },
    {
      "cell_type": "markdown",
      "metadata": {
        "collapsed": true,
        "id": "QbOAqwE177At",
        "colab_type": "text"
      },
      "source": [
        "First, we need to create [placeholders](https://www.tensorflow.org/api_docs/python/tf/compat/v1/placeholder) to specify what data we are going to feed into the network during the execution time.  For this task we will need the following placeholders:\n",
        " - *input_batch* — sequences of words (the shape equals to [batch_size, sequence_len]);\n",
        " - *ground_truth_tags* — sequences of tags (the shape equals to [batch_size, sequence_len]);\n",
        " - *lengths* — lengths of not padded sequences (the shape equals to [batch_size]);\n",
        " - *dropout_ph* — dropout keep probability; this placeholder has a predefined value 1;\n",
        " - *learning_rate_ph* — learning rate; we need this placeholder because we want to change the value during training.\n",
        "\n",
        "It could be noticed that we use *None* in the shapes in the declaration, which means that data of any size can be feeded. \n",
        "\n",
        "You need to complete the function *declare_placeholders*."
      ]
    },
    {
      "cell_type": "code",
      "metadata": {
        "id": "K6X3CqXV77At",
        "colab_type": "code",
        "colab": {}
      },
      "source": [
        "def declare_placeholders(self):\n",
        "    \"\"\"Specifies placeholders for the model.\"\"\"\n",
        "\n",
        "    # Placeholders for input and ground truth output.\n",
        "    self.input_batch = tf.placeholder(dtype=tf.int32, shape=[None, None], name='input_batch') \n",
        "    self.ground_truth_tags = tf.placeholder(dtype=tf.int32, shape=[None, None], name='ground_truth_tags') \n",
        "  \n",
        "    # Placeholder for lengths of the sequences.\n",
        "    self.lengths = tf.placeholder(dtype=tf.int32, shape=[None], name='lengths') \n",
        "    \n",
        "    # Placeholder for a dropout keep probability. If we don't feed\n",
        "    # a value for this placeholder, it will be equal to 1.0.\n",
        "    self.dropout_ph = tf.placeholder_with_default(tf.cast(1.0, tf.float32), shape=[])\n",
        "    \n",
        "    # Placeholder for a learning rate (tf.float32).\n",
        "    self.learning_rate_ph = tf.placeholder(dtype=tf.float32, shape=[], name='learning_rate_ph')"
      ],
      "execution_count": null,
      "outputs": []
    },
    {
      "cell_type": "code",
      "metadata": {
        "id": "baxqstXS77Ay",
        "colab_type": "code",
        "colab": {}
      },
      "source": [
        "BiLSTMModel.__declare_placeholders = classmethod(declare_placeholders)"
      ],
      "execution_count": null,
      "outputs": []
    },
    {
      "cell_type": "markdown",
      "metadata": {
        "collapsed": true,
        "id": "_dEZ0QHY77A1",
        "colab_type": "text"
      },
      "source": [
        "Now, let us specify the layers of the neural network. First, we need to perform some preparatory steps: \n",
        " \n",
        "- Create embeddings matrix with [tf.Variable](https://www.tensorflow.org/api_docs/python/tf/Variable). Specify its name (*embeddings_matrix*), type  (*tf.float32*), and initialize with random values.\n",
        "- Create forward and backward LSTM cells. TensorFlow provides a number of RNN cells ready for you. We suggest that you use *LSTMCell*, but you can also experiment with other types, e.g. GRU cells. [This](http://colah.github.io/posts/2015-08-Understanding-LSTMs/) blogpost could be interesting if you want to learn more about the differences.\n",
        "- Wrap your cells with [DropoutWrapper](https://www.tensorflow.org/api_docs/python/tf/contrib/rnn/DropoutWrapper). Dropout is an important regularization technique for neural networks. Specify all keep probabilities using the dropout placeholder that we created before.\n",
        " \n",
        "After that, you can build the computation graph that transforms an input_batch:\n",
        "\n",
        "- [Look up](https://www.tensorflow.org/api_docs/python/tf/nn/embedding_lookup) embeddings for an *input_batch* in the prepared *embedding_matrix*.\n",
        "- Pass the embeddings through [Bidirectional Dynamic RNN](https://www.tensorflow.org/api_docs/python/tf/nn/bidirectional_dynamic_rnn) with the specified forward and backward cells. Use the lengths placeholder here to avoid computations for padding tokens inside the RNN.\n",
        "- Create a dense layer on top. Its output will be used directly in loss function.  \n",
        " \n",
        "Fill in the code below. In case you need to debug something, the easiest way is to check that tensor shapes of each step match the expected ones. \n",
        " "
      ]
    },
    {
      "cell_type": "code",
      "metadata": {
        "id": "IkorLf3v77A2",
        "colab_type": "code",
        "colab": {}
      },
      "source": [
        "def build_layers(self, vocabulary_size, embedding_dim, n_hidden_rnn, n_tags):\n",
        "    \"\"\"Specifies bi-LSTM architecture and computes logits for inputs.\"\"\"\n",
        "    \n",
        "    # Create embedding variable (tf.Variable) with dtype tf.float32\n",
        "    initial_embedding_matrix = np.random.randn(vocabulary_size, embedding_dim) / np.sqrt(embedding_dim)\n",
        "    embedding_matrix_variable = tf.Variable(dtype=tf.float32,initial_value=initial_embedding_matrix,name='embeddings_matrix')\n",
        "    \n",
        "    # Create RNN cells (for example, tf.nn.rnn_cell.BasicLSTMCell) with n_hidden_rnn number of units \n",
        "    # and dropout (tf.nn.rnn_cell.DropoutWrapper), initializing all *_keep_prob with dropout placeholder.\n",
        "    RNN_cells = tf.nn.rnn_cell.BasicLSTMCell(num_units=n_hidden_rnn)\n",
        "    forward_cell =  tf.nn.rnn_cell.DropoutWrapper(RNN_cells,input_keep_prob=self.dropout_ph, output_keep_prob=self.dropout_ph, state_keep_prob=self.dropout_ph)\n",
        "    backward_cell =  tf.nn.rnn_cell.DropoutWrapper(RNN_cells,input_keep_prob=self.dropout_ph, output_keep_prob=self.dropout_ph, state_keep_prob=self.dropout_ph)\n",
        "\n",
        "    # Look up embeddings for self.input_batch (tf.nn.embedding_lookup).\n",
        "    # Shape: [batch_size, sequence_len, embedding_dim].\n",
        "    embeddings =  tf.nn.embedding_lookup(embedding_matrix_variable,self.input_batch)\n",
        "    \n",
        "    # Pass them through Bidirectional Dynamic RNN (tf.nn.bidirectional_dynamic_rnn).\n",
        "    # Shape: [batch_size, sequence_len, 2 * n_hidden_rnn]. \n",
        "    # Also don't forget to initialize sequence_length as self.lengths and dtype as tf.float32.\n",
        "    (rnn_output_fw, rnn_output_bw), _ =  tf.nn.bidirectional_dynamic_rnn(forward_cell,backward_cell,inputs=embeddings,sequence_length=self.lengths,dtype=tf.float32)\n",
        "    rnn_output = tf.concat([rnn_output_fw, rnn_output_bw], axis=2)\n",
        "\n",
        "    # Dense layer on top.\n",
        "    # Shape: [batch_size, sequence_len, n_tags].   \n",
        "    self.logits = tf.layers.dense(rnn_output, n_tags, activation=None)"
      ],
      "execution_count": null,
      "outputs": []
    },
    {
      "cell_type": "code",
      "metadata": {
        "id": "94Rsr-1w77A5",
        "colab_type": "code",
        "colab": {}
      },
      "source": [
        "BiLSTMModel.__build_layers = classmethod(build_layers)"
      ],
      "execution_count": null,
      "outputs": []
    },
    {
      "cell_type": "markdown",
      "metadata": {
        "id": "dN90mJB777A8",
        "colab_type": "text"
      },
      "source": [
        "To compute the actual predictions of the neural network, you need to apply [softmax](https://www.tensorflow.org/api_docs/python/tf/nn/softmax) to the last layer and find the most probable tags with [argmax](https://www.tensorflow.org/api_docs/python/tf/argmax)."
      ]
    },
    {
      "cell_type": "code",
      "metadata": {
        "id": "vDplfL9N77A9",
        "colab_type": "code",
        "colab": {}
      },
      "source": [
        "def compute_predictions(self):\n",
        "    \"\"\"Transforms logits to probabilities and finds the most probable tags.\"\"\"\n",
        "    \n",
        "    # Create softmax (tf.nn.softmax) function\n",
        "    softmax_output = tf.nn.softmax(self.logits)\n",
        "    \n",
        "    # Use argmax (tf.argmax) to get the most probable tags\n",
        "    # Don't forget to set axis=-1\n",
        "    # otherwise argmax will be calculated in a wrong way\n",
        "    self.predictions = tf.argmax(softmax_output , axis=-1)"
      ],
      "execution_count": null,
      "outputs": []
    },
    {
      "cell_type": "code",
      "metadata": {
        "id": "PUnDwH9o77BB",
        "colab_type": "code",
        "colab": {}
      },
      "source": [
        "BiLSTMModel.__compute_predictions = classmethod(compute_predictions)"
      ],
      "execution_count": null,
      "outputs": []
    },
    {
      "cell_type": "markdown",
      "metadata": {
        "collapsed": true,
        "id": "MzU-rEJX77BF",
        "colab_type": "text"
      },
      "source": [
        "During training we do not need predictions of the network, but we need a loss function. We will use [cross-entropy loss](http://ml-cheatsheet.readthedocs.io/en/latest/loss_functions.html#cross-entropy), efficiently implemented in TF as \n",
        "[cross entropy with logits](https://www.tensorflow.org/api_docs/python/tf/nn/softmax_cross_entropy_with_logits_v2). Note that it should be applied to logits of the model (not to softmax probabilities!). Also note,  that we do not want to take into account loss terms coming from `<PAD>` tokens. So we need to mask them out, before computing [mean](https://www.tensorflow.org/api_docs/python/tf/reduce_mean)."
      ]
    },
    {
      "cell_type": "code",
      "metadata": {
        "id": "sDLDRMIZ77BG",
        "colab_type": "code",
        "colab": {}
      },
      "source": [
        "def compute_loss(self, n_tags, PAD_index):\n",
        "    \"\"\"Computes masked cross-entopy loss with logits.\"\"\"\n",
        "    \n",
        "    # Create cross entropy function function (tf.nn.softmax_cross_entropy_with_logits_v2)\n",
        "    ground_truth_tags_one_hot = tf.one_hot(self.ground_truth_tags, n_tags)\n",
        "    loss_tensor = tf.nn.softmax_cross_entropy_with_logits_v2(labels=ground_truth_tags_one_hot,logits=self.logits)\n",
        "    \n",
        "    mask = tf.cast(tf.not_equal(self.input_batch, PAD_index), tf.float32)\n",
        "    # Create loss function which doesn't operate with <PAD> tokens (tf.reduce_mean)\n",
        "    # Be careful that the argument of tf.reduce_mean should be\n",
        "    # multiplication of mask and loss_tensor.\n",
        "    self.loss =  tf.reduce_mean(tf.multiply(loss_tensor,mask))"
      ],
      "execution_count": null,
      "outputs": []
    },
    {
      "cell_type": "code",
      "metadata": {
        "id": "1BRtLroL77BJ",
        "colab_type": "code",
        "colab": {}
      },
      "source": [
        "BiLSTMModel.__compute_loss = classmethod(compute_loss)"
      ],
      "execution_count": null,
      "outputs": []
    },
    {
      "cell_type": "markdown",
      "metadata": {
        "id": "Z3I31UE077BM",
        "colab_type": "text"
      },
      "source": [
        "The last thing to specify is how we want to optimize the loss. \n",
        "We suggest that you use [Adam](https://www.tensorflow.org/api_docs/python/tf/train/AdamOptimizer) optimizer with a learning rate from the corresponding placeholder. \n",
        "You will also need to apply clipping to eliminate exploding gradients. It can be easily done with [clip_by_norm](https://www.tensorflow.org/api_docs/python/tf/clip_by_norm) function. "
      ]
    },
    {
      "cell_type": "code",
      "metadata": {
        "id": "NNVUjDyn77BM",
        "colab_type": "code",
        "colab": {}
      },
      "source": [
        "def perform_optimization(self):\n",
        "    \"\"\"Specifies the optimizer and train_op for the model.\"\"\"\n",
        "    \n",
        "    # Create an optimizer (tf.train.AdamOptimizer)\n",
        "    self.optimizer =  tf.train.AdamOptimizer(self.learning_rate_ph)\n",
        "    self.grads_and_vars = self.optimizer.compute_gradients(self.loss)\n",
        "    \n",
        "    # Gradient clipping (tf.clip_by_norm) for self.grads_and_vars\n",
        "    # Pay attention that you need to apply this operation only for gradients \n",
        "    # because self.grads_and_vars also contains variables.\n",
        "    # list comprehension might be useful in this case.\n",
        "    clip_norm = tf.cast(1.0, tf.float32)\n",
        "    \n",
        "    self.grads_and_vars = [(None, var) if grad is None else (tf.clip_by_norm(grad, clip_norm), var) for grad, var in self.grads_and_vars]\n",
        "    \n",
        "    self.train_op = self.optimizer.apply_gradients(self.grads_and_vars)"
      ],
      "execution_count": null,
      "outputs": []
    },
    {
      "cell_type": "code",
      "metadata": {
        "id": "3nYHjRHL77BP",
        "colab_type": "code",
        "colab": {}
      },
      "source": [
        "BiLSTMModel.__perform_optimization = classmethod(perform_optimization)"
      ],
      "execution_count": null,
      "outputs": []
    },
    {
      "cell_type": "markdown",
      "metadata": {
        "collapsed": true,
        "id": "e4T4Mn0m77BV",
        "colab_type": "text"
      },
      "source": [
        "Congratulations! You have specified all the parts of your network. You may have noticed, that we didn't deal with any real data yet, so what you have written is just recipes on how the network should function.\n",
        "Now we will put them to the constructor of our Bi-LSTM class to use it in the next section. "
      ]
    },
    {
      "cell_type": "code",
      "metadata": {
        "id": "AVH6cbKE77BW",
        "colab_type": "code",
        "colab": {}
      },
      "source": [
        "def init_model(self, vocabulary_size, n_tags, embedding_dim, n_hidden_rnn, PAD_index):\n",
        "    self.__declare_placeholders()\n",
        "    self.__build_layers(vocabulary_size, embedding_dim, n_hidden_rnn, n_tags)\n",
        "    self.__compute_predictions()\n",
        "    self.__compute_loss(n_tags, PAD_index)\n",
        "    self.__perform_optimization()"
      ],
      "execution_count": null,
      "outputs": []
    },
    {
      "cell_type": "code",
      "metadata": {
        "id": "q9xAyuW077Bb",
        "colab_type": "code",
        "colab": {}
      },
      "source": [
        "BiLSTMModel.__init__ = classmethod(init_model)"
      ],
      "execution_count": null,
      "outputs": []
    },
    {
      "cell_type": "markdown",
      "metadata": {
        "id": "mZFTYO7O77Bf",
        "colab_type": "text"
      },
      "source": [
        "## Train the network and predict tags"
      ]
    },
    {
      "cell_type": "markdown",
      "metadata": {
        "collapsed": true,
        "id": "srsOjR-v77Bg",
        "colab_type": "text"
      },
      "source": [
        "[Session.run](https://www.tensorflow.org/api_docs/python/tf/Session#run) is a point which initiates computations in the graph that we have defined. To train the network, we need to compute *self.train_op*, which was declared in *perform_optimization*. To predict tags, we just need to compute *self.predictions*. Anyway, we need to feed actual data through the placeholders that we defined before. "
      ]
    },
    {
      "cell_type": "code",
      "metadata": {
        "id": "qXkdVfRB77Bg",
        "colab_type": "code",
        "colab": {}
      },
      "source": [
        "def train_on_batch(self, session, x_batch, y_batch, lengths, learning_rate, dropout_keep_probability):\n",
        "    feed_dict = {self.input_batch: x_batch,\n",
        "                 self.ground_truth_tags: y_batch,\n",
        "                 self.learning_rate_ph: learning_rate,\n",
        "                 self.dropout_ph: dropout_keep_probability,\n",
        "                 self.lengths: lengths}\n",
        "    \n",
        "    session.run(self.train_op, feed_dict=feed_dict)"
      ],
      "execution_count": null,
      "outputs": []
    },
    {
      "cell_type": "code",
      "metadata": {
        "id": "sB8Kq4xx77Bl",
        "colab_type": "code",
        "colab": {}
      },
      "source": [
        "BiLSTMModel.train_on_batch = classmethod(train_on_batch)"
      ],
      "execution_count": null,
      "outputs": []
    },
    {
      "cell_type": "markdown",
      "metadata": {
        "id": "BLDmdHhH77Bp",
        "colab_type": "text"
      },
      "source": [
        "Implement the function *predict_for_batch* by initializing *feed_dict* with input *x_batch* and *lengths* and running the *session* for *self.predictions*."
      ]
    },
    {
      "cell_type": "code",
      "metadata": {
        "id": "disaLYKr77Br",
        "colab_type": "code",
        "colab": {}
      },
      "source": [
        "def predict_for_batch(self, session, x_batch, lengths):\n",
        "    feed_dict={self.input_batch:x_batch,self.lengths:lengths}\n",
        "    predictions=session.run(self.predictions,feed_dict=feed_dict)\n",
        "    \n",
        "    return predictions"
      ],
      "execution_count": null,
      "outputs": []
    },
    {
      "cell_type": "code",
      "metadata": {
        "id": "0nPFWG2K77Bx",
        "colab_type": "code",
        "colab": {}
      },
      "source": [
        "BiLSTMModel.predict_for_batch = classmethod(predict_for_batch)"
      ],
      "execution_count": null,
      "outputs": []
    },
    {
      "cell_type": "markdown",
      "metadata": {
        "id": "XjR0xvO177B1",
        "colab_type": "text"
      },
      "source": [
        "We finished with necessary methods of our BiLSTMModel model and almost ready to start experimenting.\n",
        "\n",
        "### Evaluation \n",
        "To simplify the evaluation process we provide two functions for you:\n",
        " - *predict_tags*: uses a model to get predictions and transforms indices to tokens and tags;\n",
        " - *eval_conll*: calculates precision, recall and F1 for the results."
      ]
    },
    {
      "cell_type": "code",
      "metadata": {
        "id": "lR_ZicmL77B2",
        "colab_type": "code",
        "colab": {}
      },
      "source": [
        "from evaluation import precision_recall_f1"
      ],
      "execution_count": null,
      "outputs": []
    },
    {
      "cell_type": "code",
      "metadata": {
        "id": "eK5eEUy777B7",
        "colab_type": "code",
        "colab": {}
      },
      "source": [
        "def predict_tags(model, session, token_idxs_batch, lengths):\n",
        "    \"\"\"Performs predictions and transforms indices to tokens and tags.\"\"\"\n",
        "    \n",
        "    tag_idxs_batch = model.predict_for_batch(session, token_idxs_batch, lengths)\n",
        "    \n",
        "    tags_batch, tokens_batch = [], []\n",
        "    for tag_idxs, token_idxs in zip(tag_idxs_batch, token_idxs_batch):\n",
        "        tags, tokens = [], []\n",
        "        for tag_idx, token_idx in zip(tag_idxs, token_idxs):\n",
        "            tags.append(idx2tag[tag_idx])\n",
        "            tokens.append(idx2token[token_idx])\n",
        "        tags_batch.append(tags)\n",
        "        tokens_batch.append(tokens)\n",
        "    return tags_batch, tokens_batch\n",
        "    \n",
        "    \n",
        "def eval_conll(model, session, tokens, tags, short_report=True):\n",
        "    \"\"\"Computes NER quality measures using CONLL shared task script.\"\"\"\n",
        "    \n",
        "    y_true, y_pred = [], []\n",
        "    for x_batch, y_batch, lengths in batches_generator(1, tokens, tags):\n",
        "        tags_batch, tokens_batch = predict_tags(model, session, x_batch, lengths)\n",
        "        if len(x_batch[0]) != len(tags_batch[0]):\n",
        "            raise Exception(\"Incorrect length of prediction for the input, \"\n",
        "                            \"expected length: %i, got: %i\" % (len(x_batch[0]), len(tags_batch[0])))\n",
        "        predicted_tags = []\n",
        "        ground_truth_tags = []\n",
        "        for gt_tag_idx, pred_tag, token in zip(y_batch[0], tags_batch[0], tokens_batch[0]): \n",
        "            if token != '<PAD>':\n",
        "                ground_truth_tags.append(idx2tag[gt_tag_idx])\n",
        "                predicted_tags.append(pred_tag)\n",
        "\n",
        "        # We extend every prediction and ground truth sequence with 'O' tag\n",
        "        # to indicate a possible end of entity.\n",
        "        y_true.extend(ground_truth_tags + ['O'])\n",
        "        y_pred.extend(predicted_tags + ['O'])\n",
        "        \n",
        "    results = precision_recall_f1(y_true, y_pred, print_results=True, short_report=short_report)\n",
        "    return results"
      ],
      "execution_count": null,
      "outputs": []
    },
    {
      "cell_type": "markdown",
      "metadata": {
        "id": "ArAvS34477CB",
        "colab_type": "text"
      },
      "source": [
        "## Run your experiment"
      ]
    },
    {
      "cell_type": "markdown",
      "metadata": {
        "id": "SK6o0fDk77CD",
        "colab_type": "text"
      },
      "source": [
        "Create *BiLSTMModel* model with the following parameters:\n",
        " - *vocabulary_size* — number of tokens;\n",
        " - *n_tags* — number of tags;\n",
        " - *embedding_dim* — dimension of embeddings, recommended value: 200;\n",
        " - *n_hidden_rnn* — size of hidden layers for RNN, recommended value: 200;\n",
        " - *PAD_index* — an index of the padding token (`<PAD>`).\n",
        "\n",
        "Set hyperparameters. You might want to start with the following recommended values:\n",
        "- *batch_size*: 32;\n",
        "- 4 epochs;\n",
        "- starting value of *learning_rate*: 0.005\n",
        "- *learning_rate_decay*: a square root of 2;\n",
        "- *dropout_keep_probability*: try several values: 0.1, 0.5, 0.9.\n",
        "\n",
        "However, feel free to conduct more experiments to tune hyperparameters and earn extra points for the assignment."
      ]
    },
    {
      "cell_type": "code",
      "metadata": {
        "id": "d59rVKM377CE",
        "colab_type": "code",
        "colab": {
          "base_uri": "https://localhost:8080/",
          "height": 394
        },
        "outputId": "828da1d6-3f5c-4235-caa7-44c879751082"
      },
      "source": [
        "tf.compat.v1.reset_default_graph()\n",
        "\n",
        "model = BiLSTMModel(len(idx2token),len(idx2tag),200,200,token2idx['<PAD>'])\n",
        "\n",
        "batch_size = 32\n",
        "n_epochs = 5\n",
        "learning_rate = 0.007\n",
        "learning_rate_decay = np.sqrt(2)\n",
        "dropout_keep_probability = 0.5"
      ],
      "execution_count": null,
      "outputs": [
        {
          "output_type": "stream",
          "text": [
            "WARNING:tensorflow:From <ipython-input-14-8ff4bd37c5b5>:10: BasicLSTMCell.__init__ (from tensorflow.python.keras.layers.legacy_rnn.rnn_cell_impl) is deprecated and will be removed in a future version.\n",
            "Instructions for updating:\n",
            "This class is equivalent as tf.keras.layers.LSTMCell, and will be replaced by that in Tensorflow 2.0.\n",
            "WARNING:tensorflow:From <ipython-input-14-8ff4bd37c5b5>:21: bidirectional_dynamic_rnn (from tensorflow.python.ops.rnn) is deprecated and will be removed in a future version.\n",
            "Instructions for updating:\n",
            "Please use `keras.layers.Bidirectional(keras.layers.RNN(cell))`, which is equivalent to this API\n",
            "WARNING:tensorflow:From /usr/local/lib/python3.6/dist-packages/tensorflow/python/ops/rnn.py:447: dynamic_rnn (from tensorflow.python.ops.rnn) is deprecated and will be removed in a future version.\n",
            "Instructions for updating:\n",
            "Please use `keras.layers.RNN(cell)`, which is equivalent to this API\n",
            "WARNING:tensorflow:From /usr/local/lib/python3.6/dist-packages/tensorflow/python/keras/layers/legacy_rnn/rnn_cell_impl.py:740: Layer.add_variable (from tensorflow.python.keras.engine.base_layer_v1) is deprecated and will be removed in a future version.\n",
            "Instructions for updating:\n",
            "Please use `layer.add_weight` method instead.\n",
            "WARNING:tensorflow:From /usr/local/lib/python3.6/dist-packages/tensorflow/python/keras/layers/legacy_rnn/rnn_cell_impl.py:744: calling Zeros.__init__ (from tensorflow.python.ops.init_ops) with dtype is deprecated and will be removed in a future version.\n",
            "Instructions for updating:\n",
            "Call initializer instance with the dtype argument instead of passing it to the constructor\n",
            "WARNING:tensorflow:From <ipython-input-14-8ff4bd37c5b5>:26: dense (from tensorflow.python.keras.legacy_tf_layers.core) is deprecated and will be removed in a future version.\n",
            "Instructions for updating:\n",
            "Use keras.layers.Dense instead.\n",
            "WARNING:tensorflow:From /usr/local/lib/python3.6/dist-packages/tensorflow/python/keras/legacy_tf_layers/core.py:187: Layer.apply (from tensorflow.python.keras.engine.base_layer_v1) is deprecated and will be removed in a future version.\n",
            "Instructions for updating:\n",
            "Please use `layer.__call__` method instead.\n"
          ],
          "name": "stdout"
        }
      ]
    },
    {
      "cell_type": "markdown",
      "metadata": {
        "id": "HzUDjnsD77CI",
        "colab_type": "text"
      },
      "source": [
        "If you got an error *\"Tensor conversion requested dtype float64 for Tensor with dtype float32\"* in this point, check if there are variables without dtype initialised. Set the value of dtype equals to *tf.float32* for such variables."
      ]
    },
    {
      "cell_type": "markdown",
      "metadata": {
        "id": "auhe4W2I77CJ",
        "colab_type": "text"
      },
      "source": [
        "Finally, we are ready to run the training!"
      ]
    },
    {
      "cell_type": "code",
      "metadata": {
        "id": "BC70TZAN77CP",
        "colab_type": "code",
        "colab": {
          "base_uri": "https://localhost:8080/",
          "height": 1000
        },
        "outputId": "98376152-f035-4037-cbb8-335dd6b79e53"
      },
      "source": [
        "sess = tf.Session()\n",
        "sess.run(tf.global_variables_initializer())\n",
        "\n",
        "print('Start training... \\n')\n",
        "for epoch in range(n_epochs):\n",
        "    # For each epoch evaluate the model on train and validation data\n",
        "    print('-' * 20 + ' Epoch {} '.format(epoch+1) + 'of {} '.format(n_epochs) + '-' * 20)\n",
        "    print('Train data evaluation:')\n",
        "    eval_conll(model, sess, train_tokens, train_tags, short_report=True)\n",
        "    print('Validation data evaluation:')\n",
        "    eval_conll(model, sess, validation_tokens, validation_tags, short_report=True)\n",
        "    \n",
        "    # Train the model\n",
        "    for x_batch, y_batch, lengths in batches_generator(batch_size, train_tokens, train_tags):\n",
        "        model.train_on_batch(sess, x_batch, y_batch, lengths, learning_rate, dropout_keep_probability)\n",
        "        \n",
        "    # Decaying the learning rate\n",
        "    learning_rate = learning_rate / learning_rate_decay\n",
        "    \n",
        "print('...training finished.')"
      ],
      "execution_count": null,
      "outputs": [
        {
          "output_type": "stream",
          "text": [
            "Start training... \n",
            "\n",
            "-------------------- Epoch 1 of 5 --------------------\n",
            "Train data evaluation:\n",
            "processed 105778 tokens with 4489 phrases; found: 77529 phrases; correct: 180.\n",
            "\n",
            "precision:  0.23%; recall:  4.01%; F1:  0.44\n",
            "\n",
            "Validation data evaluation:\n",
            "processed 12836 tokens with 537 phrases; found: 9544 phrases; correct: 26.\n",
            "\n",
            "precision:  0.27%; recall:  4.84%; F1:  0.52\n",
            "\n",
            "-------------------- Epoch 2 of 5 --------------------\n",
            "Train data evaluation:\n",
            "processed 105778 tokens with 4489 phrases; found: 3070 phrases; correct: 785.\n",
            "\n",
            "precision:  25.57%; recall:  17.49%; F1:  20.77\n",
            "\n",
            "Validation data evaluation:\n",
            "processed 12836 tokens with 537 phrases; found: 246 phrases; correct: 63.\n",
            "\n",
            "precision:  25.61%; recall:  11.73%; F1:  16.09\n",
            "\n",
            "-------------------- Epoch 3 of 5 --------------------\n",
            "Train data evaluation:\n",
            "processed 105778 tokens with 4489 phrases; found: 4529 phrases; correct: 2210.\n",
            "\n",
            "precision:  48.80%; recall:  49.23%; F1:  49.01\n",
            "\n",
            "Validation data evaluation:\n",
            "processed 12836 tokens with 537 phrases; found: 343 phrases; correct: 148.\n",
            "\n",
            "precision:  43.15%; recall:  27.56%; F1:  33.64\n",
            "\n",
            "-------------------- Epoch 4 of 5 --------------------\n",
            "Train data evaluation:\n",
            "processed 105778 tokens with 4489 phrases; found: 4500 phrases; correct: 3151.\n",
            "\n",
            "precision:  70.02%; recall:  70.19%; F1:  70.11\n",
            "\n",
            "Validation data evaluation:\n",
            "processed 12836 tokens with 537 phrases; found: 380 phrases; correct: 172.\n",
            "\n",
            "precision:  45.26%; recall:  32.03%; F1:  37.51\n",
            "\n",
            "-------------------- Epoch 5 of 5 --------------------\n",
            "Train data evaluation:\n",
            "processed 105778 tokens with 4489 phrases; found: 4643 phrases; correct: 3685.\n",
            "\n",
            "precision:  79.37%; recall:  82.09%; F1:  80.71\n",
            "\n",
            "Validation data evaluation:\n",
            "processed 12836 tokens with 537 phrases; found: 397 phrases; correct: 184.\n",
            "\n",
            "precision:  46.35%; recall:  34.26%; F1:  39.40\n",
            "\n",
            "...training finished.\n"
          ],
          "name": "stdout"
        }
      ]
    },
    {
      "cell_type": "markdown",
      "metadata": {
        "id": "_typy4-Z77CS",
        "colab_type": "text"
      },
      "source": [
        "Now let us see full quality reports for the final model on train, validation, and test sets. To give you a hint whether you have implemented everything correctly, you might expect F-score about 40% on the validation set.\n",
        "\n",
        "**The output of the cell below (as well as the output of all the other cells) should be present in the notebook for peer2peer review!**"
      ]
    },
    {
      "cell_type": "code",
      "metadata": {
        "id": "ytHDzvOt77CS",
        "colab_type": "code",
        "colab": {
          "base_uri": "https://localhost:8080/",
          "height": 1000
        },
        "outputId": "28d85084-e83d-4e92-af4a-fadd6f36484a"
      },
      "source": [
        "print('-' * 20 + ' Train set quality: ' + '-' * 20)\n",
        "train_results = eval_conll(model, sess, train_tokens, train_tags, short_report=False)\n",
        "\n",
        "print('-' * 20 + ' Validation set quality: ' + '-' * 20)\n",
        "validation_results = eval_conll(model, sess, validation_tokens, validation_tags, short_report=False)\n",
        "\n",
        "print('-' * 20 + ' Test set quality: ' + '-' * 20)\n",
        "test_results = eval_conll(model, sess, test_tokens, test_tags, short_report=False)\n"
      ],
      "execution_count": null,
      "outputs": [
        {
          "output_type": "stream",
          "text": [
            "-------------------- Train set quality: --------------------\n",
            "processed 105778 tokens with 4489 phrases; found: 4691 phrases; correct: 3921.\n",
            "\n",
            "precision:  83.59%; recall:  87.35%; F1:  85.42\n",
            "\n",
            "\t     company: precision:   87.15%; recall:   91.76%; F1:   89.39; predicted:   677\n",
            "\n",
            "\t    facility: precision:   74.37%; recall:   85.03%; F1:   79.35; predicted:   359\n",
            "\n",
            "\t     geo-loc: precision:   90.46%; recall:   95.18%; F1:   92.76; predicted:  1048\n",
            "\n",
            "\t       movie: precision:   36.36%; recall:   17.65%; F1:   23.76; predicted:    33\n",
            "\n",
            "\t musicartist: precision:   69.77%; recall:   64.66%; F1:   67.11; predicted:   215\n",
            "\n",
            "\t       other: precision:   83.78%; recall:   87.32%; F1:   85.51; predicted:   789\n",
            "\n",
            "\t      person: precision:   87.28%; recall:   94.47%; F1:   90.73; predicted:   959\n",
            "\n",
            "\t     product: precision:   77.35%; recall:   82.70%; F1:   79.94; predicted:   340\n",
            "\n",
            "\t  sportsteam: precision:   73.68%; recall:   77.42%; F1:   75.51; predicted:   228\n",
            "\n",
            "\t      tvshow: precision:   58.14%; recall:   43.10%; F1:   49.50; predicted:    43\n",
            "\n",
            "-------------------- Validation set quality: --------------------\n",
            "processed 12836 tokens with 537 phrases; found: 407 phrases; correct: 186.\n",
            "\n",
            "precision:  45.70%; recall:  34.64%; F1:  39.41\n",
            "\n",
            "\t     company: precision:   63.95%; recall:   52.88%; F1:   57.89; predicted:    86\n",
            "\n",
            "\t    facility: precision:   23.68%; recall:   26.47%; F1:   25.00; predicted:    38\n",
            "\n",
            "\t     geo-loc: precision:   69.51%; recall:   50.44%; F1:   58.46; predicted:    82\n",
            "\n",
            "\t       movie: precision:    0.00%; recall:    0.00%; F1:    0.00; predicted:     2\n",
            "\n",
            "\t musicartist: precision:   18.18%; recall:    7.14%; F1:   10.26; predicted:    11\n",
            "\n",
            "\t       other: precision:   33.80%; recall:   29.63%; F1:   31.58; predicted:    71\n",
            "\n",
            "\t      person: precision:   48.48%; recall:   28.57%; F1:   35.96; predicted:    66\n",
            "\n",
            "\t     product: precision:    8.82%; recall:    8.82%; F1:    8.82; predicted:    34\n",
            "\n",
            "\t  sportsteam: precision:   23.53%; recall:   20.00%; F1:   21.62; predicted:    17\n",
            "\n",
            "\t      tvshow: precision:    0.00%; recall:    0.00%; F1:    0.00; predicted:     0\n",
            "\n",
            "-------------------- Test set quality: --------------------\n",
            "processed 13258 tokens with 604 phrases; found: 543 phrases; correct: 235.\n",
            "\n",
            "precision:  43.28%; recall:  38.91%; F1:  40.98\n",
            "\n",
            "\t     company: precision:   64.00%; recall:   38.10%; F1:   47.76; predicted:    50\n",
            "\n",
            "\t    facility: precision:   33.96%; recall:   38.30%; F1:   36.00; predicted:    53\n",
            "\n",
            "\t     geo-loc: precision:   73.73%; recall:   52.73%; F1:   61.48; predicted:   118\n",
            "\n",
            "\t       movie: precision:    0.00%; recall:    0.00%; F1:    0.00; predicted:     0\n",
            "\n",
            "\t musicartist: precision:   14.29%; recall:    7.41%; F1:    9.76; predicted:    14\n",
            "\n",
            "\t       other: precision:   30.51%; recall:   34.95%; F1:   32.58; predicted:   118\n",
            "\n",
            "\t      person: precision:   47.12%; recall:   47.12%; F1:   47.12; predicted:   104\n",
            "\n",
            "\t     product: precision:    2.94%; recall:    7.14%; F1:    4.17; predicted:    68\n",
            "\n",
            "\t  sportsteam: precision:   50.00%; recall:   29.03%; F1:   36.73; predicted:    18\n",
            "\n",
            "\t      tvshow: precision:    0.00%; recall:    0.00%; F1:    0.00; predicted:     0\n",
            "\n"
          ],
          "name": "stdout"
        }
      ]
    },
    {
      "cell_type": "markdown",
      "metadata": {
        "id": "OMNjxiO877CW",
        "colab_type": "text"
      },
      "source": [
        "### Conclusions\n",
        "\n",
        "Could we say that our model is state of the art and the results are acceptable for the task? Definately, we can say so. Nowadays, Bi-LSTM is one of the state of the art approaches for solving NER problem and it outperforms other classical methods. Despite the fact that we used small training corpora (in comparison with usual sizes of corpora in Deep Learning), our results are quite good. In addition, in this task there are many possible named entities and for some of them we have only several dozens of trainig examples, which is definately small. However, the implemented model outperforms classical CRFs for this task. Even better results could be obtained by some combinations of several types of methods, e.g. see [this](https://arxiv.org/abs/1603.01354) paper if you are interested."
      ]
    }
  ]
}